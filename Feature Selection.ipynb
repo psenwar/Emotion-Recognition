{
  "nbformat": 4,
  "nbformat_minor": 0,
  "metadata": {
    "colab": {
      "name": "DEAP Dataset - feature selection.ipynb",
      "provenance": []
    },
    "kernelspec": {
      "display_name": "Python 3",
      "language": "python",
      "name": "python3"
    },
    "language_info": {
      "codemirror_mode": {
        "name": "ipython",
        "version": 3
      },
      "file_extension": ".py",
      "mimetype": "text/x-python",
      "name": "python",
      "nbconvert_exporter": "python",
      "pygments_lexer": "ipython3",
      "version": "3.7.6"
    }
  },
  "cells": [
    {
      "cell_type": "code",
      "metadata": {
        "colab": {
          "background_save": true
        },
        "id": "YG3G8loX2W0t"
      },
      "source": [
        "import pandas as pd\n",
        "import numpy as np"
      ],
      "execution_count": null,
      "outputs": []
    },
    {
      "cell_type": "code",
      "metadata": {
        "colab": {
          "base_uri": "https://localhost:8080/"
        },
        "id": "bzzW5tDz20wl",
        "outputId": "a528c957-9ab5-431e-eedf-be2f60ed52e4"
      },
      "source": [
        "# Load the Drive helper and mount\r\n",
        "from google.colab import drive\r\n",
        "\r\n",
        "# This will prompt for authorization.\r\n",
        "drive.mount('/content/drive')"
      ],
      "execution_count": null,
      "outputs": [
        {
          "output_type": "stream",
          "text": [
            "Mounted at /content/drive\n"
          ],
          "name": "stdout"
        }
      ]
    },
    {
      "cell_type": "code",
      "metadata": {
        "colab": {
          "base_uri": "https://localhost:8080/"
        },
        "id": "GMPGGDuc2W0v",
        "outputId": "d5543bdd-d0cc-4200-fa45-5591ea386cf4"
      },
      "source": [
        "df = pd.read_csv(\"/content/drive/MyDrive/Colab Notebooks/Dataset.csv\")\n",
        "df = df.sample(frac = 0.5)\n",
        "print(df.shape)"
      ],
      "execution_count": null,
      "outputs": [
        {
          "output_type": "stream",
          "text": [
            "(13440, 57)\n"
          ],
          "name": "stdout"
        }
      ]
    },
    {
      "cell_type": "code",
      "metadata": {
        "colab": {
          "base_uri": "https://localhost:8080/",
          "height": 232
        },
        "id": "xHjnCCCD2W0w",
        "outputId": "363172a3-2f8e-4b5b-bb09-29e385b305f8"
      },
      "source": [
        "df.head()"
      ],
      "execution_count": null,
      "outputs": [
        {
          "output_type": "execute_result",
          "data": {
            "text/html": [
              "<div>\n",
              "<style scoped>\n",
              "    .dataframe tbody tr th:only-of-type {\n",
              "        vertical-align: middle;\n",
              "    }\n",
              "\n",
              "    .dataframe tbody tr th {\n",
              "        vertical-align: top;\n",
              "    }\n",
              "\n",
              "    .dataframe thead th {\n",
              "        text-align: right;\n",
              "    }\n",
              "</style>\n",
              "<table border=\"1\" class=\"dataframe\">\n",
              "  <thead>\n",
              "    <tr style=\"text-align: right;\">\n",
              "      <th></th>\n",
              "      <th>Unnamed: 0</th>\n",
              "      <th>coeff_var</th>\n",
              "      <th>fractal_dimension</th>\n",
              "      <th>kurtosis</th>\n",
              "      <th>secDiffMean</th>\n",
              "      <th>secDiffMax</th>\n",
              "      <th>skewness</th>\n",
              "      <th>first_diff_mean</th>\n",
              "      <th>first_diff_max</th>\n",
              "      <th>AR1_mean</th>\n",
              "      <th>AR1_min</th>\n",
              "      <th>AR1_max</th>\n",
              "      <th>AR2_mean</th>\n",
              "      <th>AR2_min</th>\n",
              "      <th>AR2_max</th>\n",
              "      <th>AR3_mean</th>\n",
              "      <th>AR3_min</th>\n",
              "      <th>AR3_max</th>\n",
              "      <th>hjorth_activity</th>\n",
              "      <th>hjorth_mobility</th>\n",
              "      <th>hjorth_complexity</th>\n",
              "      <th>PMax1</th>\n",
              "      <th>PMax2</th>\n",
              "      <th>PMax3</th>\n",
              "      <th>PMax4</th>\n",
              "      <th>PRatio1</th>\n",
              "      <th>PRatio2</th>\n",
              "      <th>PRatio3</th>\n",
              "      <th>PRatio4</th>\n",
              "      <th>cA_mean_mean</th>\n",
              "      <th>cA_mean_min</th>\n",
              "      <th>cA_mean_max</th>\n",
              "      <th>cA_std_mean</th>\n",
              "      <th>cA_std_min</th>\n",
              "      <th>cA_std_max</th>\n",
              "      <th>cA_Energy_mean</th>\n",
              "      <th>cA_Energy_min</th>\n",
              "      <th>cA_Energy_max</th>\n",
              "      <th>cD_mean_mean</th>\n",
              "      <th>cD_mean_min</th>\n",
              "      <th>cD_mean_max</th>\n",
              "      <th>cD_std_mean</th>\n",
              "      <th>cD_std_min</th>\n",
              "      <th>cD_std_max</th>\n",
              "      <th>cD_Energy_mean</th>\n",
              "      <th>cD_Energy_min</th>\n",
              "      <th>cD_Energy_max</th>\n",
              "      <th>Entropy_D_mean</th>\n",
              "      <th>Entropy_D_min</th>\n",
              "      <th>Entropy_D_max</th>\n",
              "      <th>Entropy_A_mean</th>\n",
              "      <th>Entropy_A_min</th>\n",
              "      <th>Entropy_A_max</th>\n",
              "      <th>valence</th>\n",
              "      <th>arousal</th>\n",
              "      <th>dominance</th>\n",
              "      <th>liking</th>\n",
              "    </tr>\n",
              "  </thead>\n",
              "  <tbody>\n",
              "    <tr>\n",
              "      <th>8881</th>\n",
              "      <td>19</td>\n",
              "      <td>-653.237235</td>\n",
              "      <td>1.964181</td>\n",
              "      <td>2.400335</td>\n",
              "      <td>3.488320</td>\n",
              "      <td>18.714958</td>\n",
              "      <td>-0.015652</td>\n",
              "      <td>4.614885</td>\n",
              "      <td>31.201944</td>\n",
              "      <td>-1.485804</td>\n",
              "      <td>-1.825564</td>\n",
              "      <td>-1.117763</td>\n",
              "      <td>0.867705</td>\n",
              "      <td>0.643257</td>\n",
              "      <td>1.043356</td>\n",
              "      <td>-0.219140</td>\n",
              "      <td>-0.346590</td>\n",
              "      <td>-0.067859</td>\n",
              "      <td>276.280952</td>\n",
              "      <td>0.507087</td>\n",
              "      <td>2.070994</td>\n",
              "      <td>0.010595</td>\n",
              "      <td>194.328083</td>\n",
              "      <td>38.077135</td>\n",
              "      <td>4.991970</td>\n",
              "      <td>0.000055</td>\n",
              "      <td>0.000278</td>\n",
              "      <td>38.928137</td>\n",
              "      <td>5.103816</td>\n",
              "      <td>-9.887924e-17</td>\n",
              "      <td>-0.338424</td>\n",
              "      <td>0.281975</td>\n",
              "      <td>19.619509</td>\n",
              "      <td>4.058483</td>\n",
              "      <td>52.508775</td>\n",
              "      <td>104073.161839</td>\n",
              "      <td>3195.533549</td>\n",
              "      <td>534895.309235</td>\n",
              "      <td>-5.464379e-17</td>\n",
              "      <td>-0.021258</td>\n",
              "      <td>0.025605</td>\n",
              "      <td>3.072807</td>\n",
              "      <td>1.151330</td>\n",
              "      <td>6.514758</td>\n",
              "      <td>2180.694971</td>\n",
              "      <td>257.159827</td>\n",
              "      <td>8233.816849</td>\n",
              "      <td>8022.030691</td>\n",
              "      <td>227.663816</td>\n",
              "      <td>3.930293e+04</td>\n",
              "      <td>853248.677702</td>\n",
              "      <td>11338.150744</td>\n",
              "      <td>4.976220e+06</td>\n",
              "      <td>2.82</td>\n",
              "      <td>6.31</td>\n",
              "      <td>2.38</td>\n",
              "      <td>7.81</td>\n",
              "    </tr>\n",
              "    <tr>\n",
              "      <th>6980</th>\n",
              "      <td>8</td>\n",
              "      <td>72.215513</td>\n",
              "      <td>1.991463</td>\n",
              "      <td>0.146082</td>\n",
              "      <td>6.475594</td>\n",
              "      <td>25.070591</td>\n",
              "      <td>-0.026670</td>\n",
              "      <td>8.027147</td>\n",
              "      <td>32.440508</td>\n",
              "      <td>-1.121326</td>\n",
              "      <td>-1.397677</td>\n",
              "      <td>-0.942250</td>\n",
              "      <td>0.766844</td>\n",
              "      <td>0.667293</td>\n",
              "      <td>0.913536</td>\n",
              "      <td>-0.315433</td>\n",
              "      <td>-0.387382</td>\n",
              "      <td>-0.126595</td>\n",
              "      <td>200.432253</td>\n",
              "      <td>0.813683</td>\n",
              "      <td>1.535197</td>\n",
              "      <td>0.010063</td>\n",
              "      <td>20.917706</td>\n",
              "      <td>31.024506</td>\n",
              "      <td>12.410623</td>\n",
              "      <td>0.000481</td>\n",
              "      <td>0.000324</td>\n",
              "      <td>1.685468</td>\n",
              "      <td>0.674556</td>\n",
              "      <td>-8.326673e-17</td>\n",
              "      <td>-0.374439</td>\n",
              "      <td>1.168590</td>\n",
              "      <td>16.255221</td>\n",
              "      <td>7.806743</td>\n",
              "      <td>59.526683</td>\n",
              "      <td>68513.945878</td>\n",
              "      <td>11823.377723</td>\n",
              "      <td>687689.578234</td>\n",
              "      <td>-1.014813e-16</td>\n",
              "      <td>-0.025951</td>\n",
              "      <td>0.064702</td>\n",
              "      <td>5.774239</td>\n",
              "      <td>2.047122</td>\n",
              "      <td>24.270376</td>\n",
              "      <td>9750.430331</td>\n",
              "      <td>812.998303</td>\n",
              "      <td>114276.734385</td>\n",
              "      <td>53910.387302</td>\n",
              "      <td>1814.660940</td>\n",
              "      <td>8.042087e+05</td>\n",
              "      <td>500380.513896</td>\n",
              "      <td>59010.240385</td>\n",
              "      <td>6.130247e+06</td>\n",
              "      <td>7.33</td>\n",
              "      <td>4.09</td>\n",
              "      <td>4.86</td>\n",
              "      <td>6.15</td>\n",
              "    </tr>\n",
              "    <tr>\n",
              "      <th>18773</th>\n",
              "      <td>20</td>\n",
              "      <td>51.080333</td>\n",
              "      <td>1.997740</td>\n",
              "      <td>1.930806</td>\n",
              "      <td>5.854897</td>\n",
              "      <td>25.613825</td>\n",
              "      <td>-0.014417</td>\n",
              "      <td>7.087585</td>\n",
              "      <td>31.944456</td>\n",
              "      <td>-1.001231</td>\n",
              "      <td>-1.241512</td>\n",
              "      <td>-0.753450</td>\n",
              "      <td>0.702532</td>\n",
              "      <td>0.619927</td>\n",
              "      <td>0.856224</td>\n",
              "      <td>-0.422893</td>\n",
              "      <td>-0.568236</td>\n",
              "      <td>-0.255201</td>\n",
              "      <td>159.776557</td>\n",
              "      <td>0.848481</td>\n",
              "      <td>1.595434</td>\n",
              "      <td>0.073754</td>\n",
              "      <td>25.419223</td>\n",
              "      <td>12.125876</td>\n",
              "      <td>5.548595</td>\n",
              "      <td>0.002902</td>\n",
              "      <td>0.006082</td>\n",
              "      <td>4.581200</td>\n",
              "      <td>2.102362</td>\n",
              "      <td>1.249001e-16</td>\n",
              "      <td>-0.209973</td>\n",
              "      <td>0.211900</td>\n",
              "      <td>13.537297</td>\n",
              "      <td>4.982554</td>\n",
              "      <td>56.401663</td>\n",
              "      <td>51811.799259</td>\n",
              "      <td>4816.216120</td>\n",
              "      <td>617145.531155</td>\n",
              "      <td>-1.387779e-16</td>\n",
              "      <td>-0.111390</td>\n",
              "      <td>0.193663</td>\n",
              "      <td>5.802550</td>\n",
              "      <td>1.693292</td>\n",
              "      <td>28.289691</td>\n",
              "      <td>10967.160250</td>\n",
              "      <td>556.313700</td>\n",
              "      <td>155266.757695</td>\n",
              "      <td>64274.052748</td>\n",
              "      <td>1123.675372</td>\n",
              "      <td>1.151290e+06</td>\n",
              "      <td>385822.216259</td>\n",
              "      <td>18411.365526</td>\n",
              "      <td>5.510635e+06</td>\n",
              "      <td>7.10</td>\n",
              "      <td>6.03</td>\n",
              "      <td>9.00</td>\n",
              "      <td>6.83</td>\n",
              "    </tr>\n",
              "    <tr>\n",
              "      <th>7138</th>\n",
              "      <td>19</td>\n",
              "      <td>5.678293</td>\n",
              "      <td>1.990888</td>\n",
              "      <td>0.080560</td>\n",
              "      <td>4.225086</td>\n",
              "      <td>16.432550</td>\n",
              "      <td>-0.010089</td>\n",
              "      <td>5.201274</td>\n",
              "      <td>21.449215</td>\n",
              "      <td>-1.117643</td>\n",
              "      <td>-1.276469</td>\n",
              "      <td>-0.967461</td>\n",
              "      <td>0.713220</td>\n",
              "      <td>0.578505</td>\n",
              "      <td>0.866105</td>\n",
              "      <td>-0.290859</td>\n",
              "      <td>-0.375927</td>\n",
              "      <td>-0.236398</td>\n",
              "      <td>99.535873</td>\n",
              "      <td>0.773918</td>\n",
              "      <td>1.631120</td>\n",
              "      <td>0.011580</td>\n",
              "      <td>20.613488</td>\n",
              "      <td>13.501971</td>\n",
              "      <td>4.726376</td>\n",
              "      <td>0.000562</td>\n",
              "      <td>0.000858</td>\n",
              "      <td>4.361373</td>\n",
              "      <td>1.527560</td>\n",
              "      <td>4.163336e-17</td>\n",
              "      <td>-2.299335</td>\n",
              "      <td>1.270020</td>\n",
              "      <td>11.464733</td>\n",
              "      <td>4.761372</td>\n",
              "      <td>44.192757</td>\n",
              "      <td>35133.445959</td>\n",
              "      <td>4411.087092</td>\n",
              "      <td>379907.630722</td>\n",
              "      <td>2.168404e-18</td>\n",
              "      <td>-0.062745</td>\n",
              "      <td>0.129936</td>\n",
              "      <td>3.981972</td>\n",
              "      <td>1.498612</td>\n",
              "      <td>15.765133</td>\n",
              "      <td>4328.551152</td>\n",
              "      <td>435.735072</td>\n",
              "      <td>48219.920465</td>\n",
              "      <td>20134.248375</td>\n",
              "      <td>651.870449</td>\n",
              "      <td>3.040354e+05</td>\n",
              "      <td>233924.795614</td>\n",
              "      <td>16805.100603</td>\n",
              "      <td>3.156649e+06</td>\n",
              "      <td>6.24</td>\n",
              "      <td>5.71</td>\n",
              "      <td>5.77</td>\n",
              "      <td>5.99</td>\n",
              "    </tr>\n",
              "    <tr>\n",
              "      <th>5543</th>\n",
              "      <td>20</td>\n",
              "      <td>-48.459438</td>\n",
              "      <td>1.983340</td>\n",
              "      <td>0.216440</td>\n",
              "      <td>2.987443</td>\n",
              "      <td>11.413350</td>\n",
              "      <td>-0.086859</td>\n",
              "      <td>3.829231</td>\n",
              "      <td>15.332635</td>\n",
              "      <td>-1.238982</td>\n",
              "      <td>-1.636695</td>\n",
              "      <td>-0.654078</td>\n",
              "      <td>0.838639</td>\n",
              "      <td>0.526439</td>\n",
              "      <td>1.114488</td>\n",
              "      <td>-0.320774</td>\n",
              "      <td>-0.396897</td>\n",
              "      <td>-0.228626</td>\n",
              "      <td>43.549299</td>\n",
              "      <td>0.738343</td>\n",
              "      <td>1.630877</td>\n",
              "      <td>0.006475</td>\n",
              "      <td>7.803888</td>\n",
              "      <td>10.198691</td>\n",
              "      <td>3.404676</td>\n",
              "      <td>0.000830</td>\n",
              "      <td>0.000635</td>\n",
              "      <td>2.292109</td>\n",
              "      <td>0.765820</td>\n",
              "      <td>3.469447e-18</td>\n",
              "      <td>-0.561133</td>\n",
              "      <td>0.796584</td>\n",
              "      <td>8.444428</td>\n",
              "      <td>5.667576</td>\n",
              "      <td>14.396807</td>\n",
              "      <td>14772.902622</td>\n",
              "      <td>6238.446200</td>\n",
              "      <td>40333.106365</td>\n",
              "      <td>-8.998878e-17</td>\n",
              "      <td>-0.025593</td>\n",
              "      <td>0.028470</td>\n",
              "      <td>2.876462</td>\n",
              "      <td>1.505862</td>\n",
              "      <td>8.933592</td>\n",
              "      <td>2094.492481</td>\n",
              "      <td>439.931900</td>\n",
              "      <td>15482.965641</td>\n",
              "      <td>7800.497372</td>\n",
              "      <td>681.426587</td>\n",
              "      <td>8.086052e+04</td>\n",
              "      <td>77141.496031</td>\n",
              "      <td>26252.581305</td>\n",
              "      <td>2.416832e+05</td>\n",
              "      <td>2.51</td>\n",
              "      <td>5.38</td>\n",
              "      <td>1.53</td>\n",
              "      <td>5.99</td>\n",
              "    </tr>\n",
              "  </tbody>\n",
              "</table>\n",
              "</div>"
            ],
            "text/plain": [
              "       Unnamed: 0   coeff_var  fractal_dimension  ...  arousal  dominance  liking\n",
              "8881           19 -653.237235           1.964181  ...     6.31       2.38    7.81\n",
              "6980            8   72.215513           1.991463  ...     4.09       4.86    6.15\n",
              "18773          20   51.080333           1.997740  ...     6.03       9.00    6.83\n",
              "7138           19    5.678293           1.990888  ...     5.71       5.77    5.99\n",
              "5543           20  -48.459438           1.983340  ...     5.38       1.53    5.99\n",
              "\n",
              "[5 rows x 57 columns]"
            ]
          },
          "metadata": {
            "tags": []
          },
          "execution_count": 119
        }
      ]
    },
    {
      "cell_type": "code",
      "metadata": {
        "colab": {
          "base_uri": "https://localhost:8080/"
        },
        "id": "UdFtguWI2W0x",
        "outputId": "6e253cb0-3dd0-4672-97d1-4afd8d253c9e"
      },
      "source": [
        "df.shape"
      ],
      "execution_count": null,
      "outputs": [
        {
          "output_type": "execute_result",
          "data": {
            "text/plain": [
              "(13440, 57)"
            ]
          },
          "metadata": {
            "tags": []
          },
          "execution_count": 120
        }
      ]
    },
    {
      "cell_type": "code",
      "metadata": {
        "colab": {
          "base_uri": "https://localhost:8080/",
          "height": 232
        },
        "id": "j_gGssXB2W0y",
        "outputId": "7ca99d83-6095-408b-ec43-23dd6c976b5f"
      },
      "source": [
        "df = df.replace([np.inf, -np.inf], np.nan)\n",
        "df.head()"
      ],
      "execution_count": null,
      "outputs": [
        {
          "output_type": "execute_result",
          "data": {
            "text/html": [
              "<div>\n",
              "<style scoped>\n",
              "    .dataframe tbody tr th:only-of-type {\n",
              "        vertical-align: middle;\n",
              "    }\n",
              "\n",
              "    .dataframe tbody tr th {\n",
              "        vertical-align: top;\n",
              "    }\n",
              "\n",
              "    .dataframe thead th {\n",
              "        text-align: right;\n",
              "    }\n",
              "</style>\n",
              "<table border=\"1\" class=\"dataframe\">\n",
              "  <thead>\n",
              "    <tr style=\"text-align: right;\">\n",
              "      <th></th>\n",
              "      <th>Unnamed: 0</th>\n",
              "      <th>coeff_var</th>\n",
              "      <th>fractal_dimension</th>\n",
              "      <th>kurtosis</th>\n",
              "      <th>secDiffMean</th>\n",
              "      <th>secDiffMax</th>\n",
              "      <th>skewness</th>\n",
              "      <th>first_diff_mean</th>\n",
              "      <th>first_diff_max</th>\n",
              "      <th>AR1_mean</th>\n",
              "      <th>AR1_min</th>\n",
              "      <th>AR1_max</th>\n",
              "      <th>AR2_mean</th>\n",
              "      <th>AR2_min</th>\n",
              "      <th>AR2_max</th>\n",
              "      <th>AR3_mean</th>\n",
              "      <th>AR3_min</th>\n",
              "      <th>AR3_max</th>\n",
              "      <th>hjorth_activity</th>\n",
              "      <th>hjorth_mobility</th>\n",
              "      <th>hjorth_complexity</th>\n",
              "      <th>PMax1</th>\n",
              "      <th>PMax2</th>\n",
              "      <th>PMax3</th>\n",
              "      <th>PMax4</th>\n",
              "      <th>PRatio1</th>\n",
              "      <th>PRatio2</th>\n",
              "      <th>PRatio3</th>\n",
              "      <th>PRatio4</th>\n",
              "      <th>cA_mean_mean</th>\n",
              "      <th>cA_mean_min</th>\n",
              "      <th>cA_mean_max</th>\n",
              "      <th>cA_std_mean</th>\n",
              "      <th>cA_std_min</th>\n",
              "      <th>cA_std_max</th>\n",
              "      <th>cA_Energy_mean</th>\n",
              "      <th>cA_Energy_min</th>\n",
              "      <th>cA_Energy_max</th>\n",
              "      <th>cD_mean_mean</th>\n",
              "      <th>cD_mean_min</th>\n",
              "      <th>cD_mean_max</th>\n",
              "      <th>cD_std_mean</th>\n",
              "      <th>cD_std_min</th>\n",
              "      <th>cD_std_max</th>\n",
              "      <th>cD_Energy_mean</th>\n",
              "      <th>cD_Energy_min</th>\n",
              "      <th>cD_Energy_max</th>\n",
              "      <th>Entropy_D_mean</th>\n",
              "      <th>Entropy_D_min</th>\n",
              "      <th>Entropy_D_max</th>\n",
              "      <th>Entropy_A_mean</th>\n",
              "      <th>Entropy_A_min</th>\n",
              "      <th>Entropy_A_max</th>\n",
              "      <th>valence</th>\n",
              "      <th>arousal</th>\n",
              "      <th>dominance</th>\n",
              "      <th>liking</th>\n",
              "    </tr>\n",
              "  </thead>\n",
              "  <tbody>\n",
              "    <tr>\n",
              "      <th>8881</th>\n",
              "      <td>19</td>\n",
              "      <td>-653.237235</td>\n",
              "      <td>1.964181</td>\n",
              "      <td>2.400335</td>\n",
              "      <td>3.488320</td>\n",
              "      <td>18.714958</td>\n",
              "      <td>-0.015652</td>\n",
              "      <td>4.614885</td>\n",
              "      <td>31.201944</td>\n",
              "      <td>-1.485804</td>\n",
              "      <td>-1.825564</td>\n",
              "      <td>-1.117763</td>\n",
              "      <td>0.867705</td>\n",
              "      <td>0.643257</td>\n",
              "      <td>1.043356</td>\n",
              "      <td>-0.219140</td>\n",
              "      <td>-0.346590</td>\n",
              "      <td>-0.067859</td>\n",
              "      <td>276.280952</td>\n",
              "      <td>0.507087</td>\n",
              "      <td>2.070994</td>\n",
              "      <td>0.010595</td>\n",
              "      <td>194.328083</td>\n",
              "      <td>38.077135</td>\n",
              "      <td>4.991970</td>\n",
              "      <td>0.000055</td>\n",
              "      <td>0.000278</td>\n",
              "      <td>38.928137</td>\n",
              "      <td>5.103816</td>\n",
              "      <td>-9.887924e-17</td>\n",
              "      <td>-0.338424</td>\n",
              "      <td>0.281975</td>\n",
              "      <td>19.619509</td>\n",
              "      <td>4.058483</td>\n",
              "      <td>52.508775</td>\n",
              "      <td>104073.161839</td>\n",
              "      <td>3195.533549</td>\n",
              "      <td>534895.309235</td>\n",
              "      <td>-5.464379e-17</td>\n",
              "      <td>-0.021258</td>\n",
              "      <td>0.025605</td>\n",
              "      <td>3.072807</td>\n",
              "      <td>1.151330</td>\n",
              "      <td>6.514758</td>\n",
              "      <td>2180.694971</td>\n",
              "      <td>257.159827</td>\n",
              "      <td>8233.816849</td>\n",
              "      <td>8022.030691</td>\n",
              "      <td>227.663816</td>\n",
              "      <td>3.930293e+04</td>\n",
              "      <td>853248.677702</td>\n",
              "      <td>11338.150744</td>\n",
              "      <td>4.976220e+06</td>\n",
              "      <td>2.82</td>\n",
              "      <td>6.31</td>\n",
              "      <td>2.38</td>\n",
              "      <td>7.81</td>\n",
              "    </tr>\n",
              "    <tr>\n",
              "      <th>6980</th>\n",
              "      <td>8</td>\n",
              "      <td>72.215513</td>\n",
              "      <td>1.991463</td>\n",
              "      <td>0.146082</td>\n",
              "      <td>6.475594</td>\n",
              "      <td>25.070591</td>\n",
              "      <td>-0.026670</td>\n",
              "      <td>8.027147</td>\n",
              "      <td>32.440508</td>\n",
              "      <td>-1.121326</td>\n",
              "      <td>-1.397677</td>\n",
              "      <td>-0.942250</td>\n",
              "      <td>0.766844</td>\n",
              "      <td>0.667293</td>\n",
              "      <td>0.913536</td>\n",
              "      <td>-0.315433</td>\n",
              "      <td>-0.387382</td>\n",
              "      <td>-0.126595</td>\n",
              "      <td>200.432253</td>\n",
              "      <td>0.813683</td>\n",
              "      <td>1.535197</td>\n",
              "      <td>0.010063</td>\n",
              "      <td>20.917706</td>\n",
              "      <td>31.024506</td>\n",
              "      <td>12.410623</td>\n",
              "      <td>0.000481</td>\n",
              "      <td>0.000324</td>\n",
              "      <td>1.685468</td>\n",
              "      <td>0.674556</td>\n",
              "      <td>-8.326673e-17</td>\n",
              "      <td>-0.374439</td>\n",
              "      <td>1.168590</td>\n",
              "      <td>16.255221</td>\n",
              "      <td>7.806743</td>\n",
              "      <td>59.526683</td>\n",
              "      <td>68513.945878</td>\n",
              "      <td>11823.377723</td>\n",
              "      <td>687689.578234</td>\n",
              "      <td>-1.014813e-16</td>\n",
              "      <td>-0.025951</td>\n",
              "      <td>0.064702</td>\n",
              "      <td>5.774239</td>\n",
              "      <td>2.047122</td>\n",
              "      <td>24.270376</td>\n",
              "      <td>9750.430331</td>\n",
              "      <td>812.998303</td>\n",
              "      <td>114276.734385</td>\n",
              "      <td>53910.387302</td>\n",
              "      <td>1814.660940</td>\n",
              "      <td>8.042087e+05</td>\n",
              "      <td>500380.513896</td>\n",
              "      <td>59010.240385</td>\n",
              "      <td>6.130247e+06</td>\n",
              "      <td>7.33</td>\n",
              "      <td>4.09</td>\n",
              "      <td>4.86</td>\n",
              "      <td>6.15</td>\n",
              "    </tr>\n",
              "    <tr>\n",
              "      <th>18773</th>\n",
              "      <td>20</td>\n",
              "      <td>51.080333</td>\n",
              "      <td>1.997740</td>\n",
              "      <td>1.930806</td>\n",
              "      <td>5.854897</td>\n",
              "      <td>25.613825</td>\n",
              "      <td>-0.014417</td>\n",
              "      <td>7.087585</td>\n",
              "      <td>31.944456</td>\n",
              "      <td>-1.001231</td>\n",
              "      <td>-1.241512</td>\n",
              "      <td>-0.753450</td>\n",
              "      <td>0.702532</td>\n",
              "      <td>0.619927</td>\n",
              "      <td>0.856224</td>\n",
              "      <td>-0.422893</td>\n",
              "      <td>-0.568236</td>\n",
              "      <td>-0.255201</td>\n",
              "      <td>159.776557</td>\n",
              "      <td>0.848481</td>\n",
              "      <td>1.595434</td>\n",
              "      <td>0.073754</td>\n",
              "      <td>25.419223</td>\n",
              "      <td>12.125876</td>\n",
              "      <td>5.548595</td>\n",
              "      <td>0.002902</td>\n",
              "      <td>0.006082</td>\n",
              "      <td>4.581200</td>\n",
              "      <td>2.102362</td>\n",
              "      <td>1.249001e-16</td>\n",
              "      <td>-0.209973</td>\n",
              "      <td>0.211900</td>\n",
              "      <td>13.537297</td>\n",
              "      <td>4.982554</td>\n",
              "      <td>56.401663</td>\n",
              "      <td>51811.799259</td>\n",
              "      <td>4816.216120</td>\n",
              "      <td>617145.531155</td>\n",
              "      <td>-1.387779e-16</td>\n",
              "      <td>-0.111390</td>\n",
              "      <td>0.193663</td>\n",
              "      <td>5.802550</td>\n",
              "      <td>1.693292</td>\n",
              "      <td>28.289691</td>\n",
              "      <td>10967.160250</td>\n",
              "      <td>556.313700</td>\n",
              "      <td>155266.757695</td>\n",
              "      <td>64274.052748</td>\n",
              "      <td>1123.675372</td>\n",
              "      <td>1.151290e+06</td>\n",
              "      <td>385822.216259</td>\n",
              "      <td>18411.365526</td>\n",
              "      <td>5.510635e+06</td>\n",
              "      <td>7.10</td>\n",
              "      <td>6.03</td>\n",
              "      <td>9.00</td>\n",
              "      <td>6.83</td>\n",
              "    </tr>\n",
              "    <tr>\n",
              "      <th>7138</th>\n",
              "      <td>19</td>\n",
              "      <td>5.678293</td>\n",
              "      <td>1.990888</td>\n",
              "      <td>0.080560</td>\n",
              "      <td>4.225086</td>\n",
              "      <td>16.432550</td>\n",
              "      <td>-0.010089</td>\n",
              "      <td>5.201274</td>\n",
              "      <td>21.449215</td>\n",
              "      <td>-1.117643</td>\n",
              "      <td>-1.276469</td>\n",
              "      <td>-0.967461</td>\n",
              "      <td>0.713220</td>\n",
              "      <td>0.578505</td>\n",
              "      <td>0.866105</td>\n",
              "      <td>-0.290859</td>\n",
              "      <td>-0.375927</td>\n",
              "      <td>-0.236398</td>\n",
              "      <td>99.535873</td>\n",
              "      <td>0.773918</td>\n",
              "      <td>1.631120</td>\n",
              "      <td>0.011580</td>\n",
              "      <td>20.613488</td>\n",
              "      <td>13.501971</td>\n",
              "      <td>4.726376</td>\n",
              "      <td>0.000562</td>\n",
              "      <td>0.000858</td>\n",
              "      <td>4.361373</td>\n",
              "      <td>1.527560</td>\n",
              "      <td>4.163336e-17</td>\n",
              "      <td>-2.299335</td>\n",
              "      <td>1.270020</td>\n",
              "      <td>11.464733</td>\n",
              "      <td>4.761372</td>\n",
              "      <td>44.192757</td>\n",
              "      <td>35133.445959</td>\n",
              "      <td>4411.087092</td>\n",
              "      <td>379907.630722</td>\n",
              "      <td>2.168404e-18</td>\n",
              "      <td>-0.062745</td>\n",
              "      <td>0.129936</td>\n",
              "      <td>3.981972</td>\n",
              "      <td>1.498612</td>\n",
              "      <td>15.765133</td>\n",
              "      <td>4328.551152</td>\n",
              "      <td>435.735072</td>\n",
              "      <td>48219.920465</td>\n",
              "      <td>20134.248375</td>\n",
              "      <td>651.870449</td>\n",
              "      <td>3.040354e+05</td>\n",
              "      <td>233924.795614</td>\n",
              "      <td>16805.100603</td>\n",
              "      <td>3.156649e+06</td>\n",
              "      <td>6.24</td>\n",
              "      <td>5.71</td>\n",
              "      <td>5.77</td>\n",
              "      <td>5.99</td>\n",
              "    </tr>\n",
              "    <tr>\n",
              "      <th>5543</th>\n",
              "      <td>20</td>\n",
              "      <td>-48.459438</td>\n",
              "      <td>1.983340</td>\n",
              "      <td>0.216440</td>\n",
              "      <td>2.987443</td>\n",
              "      <td>11.413350</td>\n",
              "      <td>-0.086859</td>\n",
              "      <td>3.829231</td>\n",
              "      <td>15.332635</td>\n",
              "      <td>-1.238982</td>\n",
              "      <td>-1.636695</td>\n",
              "      <td>-0.654078</td>\n",
              "      <td>0.838639</td>\n",
              "      <td>0.526439</td>\n",
              "      <td>1.114488</td>\n",
              "      <td>-0.320774</td>\n",
              "      <td>-0.396897</td>\n",
              "      <td>-0.228626</td>\n",
              "      <td>43.549299</td>\n",
              "      <td>0.738343</td>\n",
              "      <td>1.630877</td>\n",
              "      <td>0.006475</td>\n",
              "      <td>7.803888</td>\n",
              "      <td>10.198691</td>\n",
              "      <td>3.404676</td>\n",
              "      <td>0.000830</td>\n",
              "      <td>0.000635</td>\n",
              "      <td>2.292109</td>\n",
              "      <td>0.765820</td>\n",
              "      <td>3.469447e-18</td>\n",
              "      <td>-0.561133</td>\n",
              "      <td>0.796584</td>\n",
              "      <td>8.444428</td>\n",
              "      <td>5.667576</td>\n",
              "      <td>14.396807</td>\n",
              "      <td>14772.902622</td>\n",
              "      <td>6238.446200</td>\n",
              "      <td>40333.106365</td>\n",
              "      <td>-8.998878e-17</td>\n",
              "      <td>-0.025593</td>\n",
              "      <td>0.028470</td>\n",
              "      <td>2.876462</td>\n",
              "      <td>1.505862</td>\n",
              "      <td>8.933592</td>\n",
              "      <td>2094.492481</td>\n",
              "      <td>439.931900</td>\n",
              "      <td>15482.965641</td>\n",
              "      <td>7800.497372</td>\n",
              "      <td>681.426587</td>\n",
              "      <td>8.086052e+04</td>\n",
              "      <td>77141.496031</td>\n",
              "      <td>26252.581305</td>\n",
              "      <td>2.416832e+05</td>\n",
              "      <td>2.51</td>\n",
              "      <td>5.38</td>\n",
              "      <td>1.53</td>\n",
              "      <td>5.99</td>\n",
              "    </tr>\n",
              "  </tbody>\n",
              "</table>\n",
              "</div>"
            ],
            "text/plain": [
              "       Unnamed: 0   coeff_var  fractal_dimension  ...  arousal  dominance  liking\n",
              "8881           19 -653.237235           1.964181  ...     6.31       2.38    7.81\n",
              "6980            8   72.215513           1.991463  ...     4.09       4.86    6.15\n",
              "18773          20   51.080333           1.997740  ...     6.03       9.00    6.83\n",
              "7138           19    5.678293           1.990888  ...     5.71       5.77    5.99\n",
              "5543           20  -48.459438           1.983340  ...     5.38       1.53    5.99\n",
              "\n",
              "[5 rows x 57 columns]"
            ]
          },
          "metadata": {
            "tags": []
          },
          "execution_count": 121
        }
      ]
    },
    {
      "cell_type": "code",
      "metadata": {
        "colab": {
          "base_uri": "https://localhost:8080/"
        },
        "id": "VXUwGNXq2W0y",
        "outputId": "cd403ca3-ea70-4dc4-994d-77f228eaa284"
      },
      "source": [
        "df = df.replace([np.inf, -np.inf], np.nan).dropna(subset=[\"coeff_var\"], how=\"all\")\n",
        "df.shape"
      ],
      "execution_count": null,
      "outputs": [
        {
          "output_type": "execute_result",
          "data": {
            "text/plain": [
              "(13067, 57)"
            ]
          },
          "metadata": {
            "tags": []
          },
          "execution_count": 122
        }
      ]
    },
    {
      "cell_type": "code",
      "metadata": {
        "colab": {
          "base_uri": "https://localhost:8080/"
        },
        "id": "VwswJwl_2W0y",
        "outputId": "7099c901-412c-4f6f-a4a8-33be0c09a270"
      },
      "source": [
        "df.isnull().values.any()"
      ],
      "execution_count": null,
      "outputs": [
        {
          "output_type": "execute_result",
          "data": {
            "text/plain": [
              "False"
            ]
          },
          "metadata": {
            "tags": []
          },
          "execution_count": 123
        }
      ]
    },
    {
      "cell_type": "code",
      "metadata": {
        "colab": {
          "base_uri": "https://localhost:8080/"
        },
        "id": "3cJUX3Wr2W0z",
        "outputId": "1f9b47e9-a45f-4882-dda0-6dcc8ff5faf8"
      },
      "source": [
        "df['dominance']"
      ],
      "execution_count": null,
      "outputs": [
        {
          "output_type": "execute_result",
          "data": {
            "text/plain": [
              "8881     2.38\n",
              "6980     4.86\n",
              "18773    9.00\n",
              "7138     5.77\n",
              "5543     1.53\n",
              "         ... \n",
              "15244    8.06\n",
              "20120    2.97\n",
              "22062    6.03\n",
              "15084    9.00\n",
              "23279    3.71\n",
              "Name: dominance, Length: 13067, dtype: float64"
            ]
          },
          "metadata": {
            "tags": []
          },
          "execution_count": 124
        }
      ]
    },
    {
      "cell_type": "code",
      "metadata": {
        "id": "zVWnJZXT2W0z"
      },
      "source": [
        "df['dominance'] = np.where(df['dominance']<=4.90 , 0, df['dominance'])\n",
        "df['dominance'] = np.where(df['dominance']>4.90 , 1, df['dominance'])\n",
        "df['valence'] = np.where(df['valence']<=4.90 , 0, df['valence'])\n",
        "df['valence'] = np.where(df['valence']>4.90 , 1, df['valence'])\n",
        "df['arousal'] = np.where(df['arousal']<=4.90 , 0, df['arousal'])\n",
        "df['arousal'] = np.where(df['arousal']>4.90 , 1, df['arousal'])\n",
        "df['liking'] = np.where(df['liking']<=4.90 , 0, df['liking'])\n",
        "df['liking'] = np.where(df['liking']>4.90 , 1, df['liking'])\n"
      ],
      "execution_count": null,
      "outputs": []
    },
    {
      "cell_type": "code",
      "metadata": {
        "colab": {
          "base_uri": "https://localhost:8080/"
        },
        "id": "TZ-V1m3N2W01",
        "outputId": "bd5df4ed-53eb-407c-b8c4-6dd2ec049208"
      },
      "source": [
        "df['dominance'].unique()"
      ],
      "execution_count": null,
      "outputs": [
        {
          "output_type": "execute_result",
          "data": {
            "text/plain": [
              "array([0., 1.])"
            ]
          },
          "metadata": {
            "tags": []
          },
          "execution_count": 126
        }
      ]
    },
    {
      "cell_type": "code",
      "metadata": {
        "colab": {
          "base_uri": "https://localhost:8080/",
          "height": 232
        },
        "id": "VRk3XmY82W02",
        "outputId": "82877265-db12-4da0-c675-f87b4139abff"
      },
      "source": [
        "df.head()"
      ],
      "execution_count": null,
      "outputs": [
        {
          "output_type": "execute_result",
          "data": {
            "text/html": [
              "<div>\n",
              "<style scoped>\n",
              "    .dataframe tbody tr th:only-of-type {\n",
              "        vertical-align: middle;\n",
              "    }\n",
              "\n",
              "    .dataframe tbody tr th {\n",
              "        vertical-align: top;\n",
              "    }\n",
              "\n",
              "    .dataframe thead th {\n",
              "        text-align: right;\n",
              "    }\n",
              "</style>\n",
              "<table border=\"1\" class=\"dataframe\">\n",
              "  <thead>\n",
              "    <tr style=\"text-align: right;\">\n",
              "      <th></th>\n",
              "      <th>Unnamed: 0</th>\n",
              "      <th>coeff_var</th>\n",
              "      <th>fractal_dimension</th>\n",
              "      <th>kurtosis</th>\n",
              "      <th>secDiffMean</th>\n",
              "      <th>secDiffMax</th>\n",
              "      <th>skewness</th>\n",
              "      <th>first_diff_mean</th>\n",
              "      <th>first_diff_max</th>\n",
              "      <th>AR1_mean</th>\n",
              "      <th>AR1_min</th>\n",
              "      <th>AR1_max</th>\n",
              "      <th>AR2_mean</th>\n",
              "      <th>AR2_min</th>\n",
              "      <th>AR2_max</th>\n",
              "      <th>AR3_mean</th>\n",
              "      <th>AR3_min</th>\n",
              "      <th>AR3_max</th>\n",
              "      <th>hjorth_activity</th>\n",
              "      <th>hjorth_mobility</th>\n",
              "      <th>hjorth_complexity</th>\n",
              "      <th>PMax1</th>\n",
              "      <th>PMax2</th>\n",
              "      <th>PMax3</th>\n",
              "      <th>PMax4</th>\n",
              "      <th>PRatio1</th>\n",
              "      <th>PRatio2</th>\n",
              "      <th>PRatio3</th>\n",
              "      <th>PRatio4</th>\n",
              "      <th>cA_mean_mean</th>\n",
              "      <th>cA_mean_min</th>\n",
              "      <th>cA_mean_max</th>\n",
              "      <th>cA_std_mean</th>\n",
              "      <th>cA_std_min</th>\n",
              "      <th>cA_std_max</th>\n",
              "      <th>cA_Energy_mean</th>\n",
              "      <th>cA_Energy_min</th>\n",
              "      <th>cA_Energy_max</th>\n",
              "      <th>cD_mean_mean</th>\n",
              "      <th>cD_mean_min</th>\n",
              "      <th>cD_mean_max</th>\n",
              "      <th>cD_std_mean</th>\n",
              "      <th>cD_std_min</th>\n",
              "      <th>cD_std_max</th>\n",
              "      <th>cD_Energy_mean</th>\n",
              "      <th>cD_Energy_min</th>\n",
              "      <th>cD_Energy_max</th>\n",
              "      <th>Entropy_D_mean</th>\n",
              "      <th>Entropy_D_min</th>\n",
              "      <th>Entropy_D_max</th>\n",
              "      <th>Entropy_A_mean</th>\n",
              "      <th>Entropy_A_min</th>\n",
              "      <th>Entropy_A_max</th>\n",
              "      <th>valence</th>\n",
              "      <th>arousal</th>\n",
              "      <th>dominance</th>\n",
              "      <th>liking</th>\n",
              "    </tr>\n",
              "  </thead>\n",
              "  <tbody>\n",
              "    <tr>\n",
              "      <th>8881</th>\n",
              "      <td>19</td>\n",
              "      <td>-653.237235</td>\n",
              "      <td>1.964181</td>\n",
              "      <td>2.400335</td>\n",
              "      <td>3.488320</td>\n",
              "      <td>18.714958</td>\n",
              "      <td>-0.015652</td>\n",
              "      <td>4.614885</td>\n",
              "      <td>31.201944</td>\n",
              "      <td>-1.485804</td>\n",
              "      <td>-1.825564</td>\n",
              "      <td>-1.117763</td>\n",
              "      <td>0.867705</td>\n",
              "      <td>0.643257</td>\n",
              "      <td>1.043356</td>\n",
              "      <td>-0.219140</td>\n",
              "      <td>-0.346590</td>\n",
              "      <td>-0.067859</td>\n",
              "      <td>276.280952</td>\n",
              "      <td>0.507087</td>\n",
              "      <td>2.070994</td>\n",
              "      <td>0.010595</td>\n",
              "      <td>194.328083</td>\n",
              "      <td>38.077135</td>\n",
              "      <td>4.991970</td>\n",
              "      <td>0.000055</td>\n",
              "      <td>0.000278</td>\n",
              "      <td>38.928137</td>\n",
              "      <td>5.103816</td>\n",
              "      <td>-9.887924e-17</td>\n",
              "      <td>-0.338424</td>\n",
              "      <td>0.281975</td>\n",
              "      <td>19.619509</td>\n",
              "      <td>4.058483</td>\n",
              "      <td>52.508775</td>\n",
              "      <td>104073.161839</td>\n",
              "      <td>3195.533549</td>\n",
              "      <td>534895.309235</td>\n",
              "      <td>-5.464379e-17</td>\n",
              "      <td>-0.021258</td>\n",
              "      <td>0.025605</td>\n",
              "      <td>3.072807</td>\n",
              "      <td>1.151330</td>\n",
              "      <td>6.514758</td>\n",
              "      <td>2180.694971</td>\n",
              "      <td>257.159827</td>\n",
              "      <td>8233.816849</td>\n",
              "      <td>8022.030691</td>\n",
              "      <td>227.663816</td>\n",
              "      <td>3.930293e+04</td>\n",
              "      <td>853248.677702</td>\n",
              "      <td>11338.150744</td>\n",
              "      <td>4.976220e+06</td>\n",
              "      <td>0.0</td>\n",
              "      <td>1.0</td>\n",
              "      <td>0.0</td>\n",
              "      <td>1.0</td>\n",
              "    </tr>\n",
              "    <tr>\n",
              "      <th>6980</th>\n",
              "      <td>8</td>\n",
              "      <td>72.215513</td>\n",
              "      <td>1.991463</td>\n",
              "      <td>0.146082</td>\n",
              "      <td>6.475594</td>\n",
              "      <td>25.070591</td>\n",
              "      <td>-0.026670</td>\n",
              "      <td>8.027147</td>\n",
              "      <td>32.440508</td>\n",
              "      <td>-1.121326</td>\n",
              "      <td>-1.397677</td>\n",
              "      <td>-0.942250</td>\n",
              "      <td>0.766844</td>\n",
              "      <td>0.667293</td>\n",
              "      <td>0.913536</td>\n",
              "      <td>-0.315433</td>\n",
              "      <td>-0.387382</td>\n",
              "      <td>-0.126595</td>\n",
              "      <td>200.432253</td>\n",
              "      <td>0.813683</td>\n",
              "      <td>1.535197</td>\n",
              "      <td>0.010063</td>\n",
              "      <td>20.917706</td>\n",
              "      <td>31.024506</td>\n",
              "      <td>12.410623</td>\n",
              "      <td>0.000481</td>\n",
              "      <td>0.000324</td>\n",
              "      <td>1.685468</td>\n",
              "      <td>0.674556</td>\n",
              "      <td>-8.326673e-17</td>\n",
              "      <td>-0.374439</td>\n",
              "      <td>1.168590</td>\n",
              "      <td>16.255221</td>\n",
              "      <td>7.806743</td>\n",
              "      <td>59.526683</td>\n",
              "      <td>68513.945878</td>\n",
              "      <td>11823.377723</td>\n",
              "      <td>687689.578234</td>\n",
              "      <td>-1.014813e-16</td>\n",
              "      <td>-0.025951</td>\n",
              "      <td>0.064702</td>\n",
              "      <td>5.774239</td>\n",
              "      <td>2.047122</td>\n",
              "      <td>24.270376</td>\n",
              "      <td>9750.430331</td>\n",
              "      <td>812.998303</td>\n",
              "      <td>114276.734385</td>\n",
              "      <td>53910.387302</td>\n",
              "      <td>1814.660940</td>\n",
              "      <td>8.042087e+05</td>\n",
              "      <td>500380.513896</td>\n",
              "      <td>59010.240385</td>\n",
              "      <td>6.130247e+06</td>\n",
              "      <td>1.0</td>\n",
              "      <td>0.0</td>\n",
              "      <td>0.0</td>\n",
              "      <td>1.0</td>\n",
              "    </tr>\n",
              "    <tr>\n",
              "      <th>18773</th>\n",
              "      <td>20</td>\n",
              "      <td>51.080333</td>\n",
              "      <td>1.997740</td>\n",
              "      <td>1.930806</td>\n",
              "      <td>5.854897</td>\n",
              "      <td>25.613825</td>\n",
              "      <td>-0.014417</td>\n",
              "      <td>7.087585</td>\n",
              "      <td>31.944456</td>\n",
              "      <td>-1.001231</td>\n",
              "      <td>-1.241512</td>\n",
              "      <td>-0.753450</td>\n",
              "      <td>0.702532</td>\n",
              "      <td>0.619927</td>\n",
              "      <td>0.856224</td>\n",
              "      <td>-0.422893</td>\n",
              "      <td>-0.568236</td>\n",
              "      <td>-0.255201</td>\n",
              "      <td>159.776557</td>\n",
              "      <td>0.848481</td>\n",
              "      <td>1.595434</td>\n",
              "      <td>0.073754</td>\n",
              "      <td>25.419223</td>\n",
              "      <td>12.125876</td>\n",
              "      <td>5.548595</td>\n",
              "      <td>0.002902</td>\n",
              "      <td>0.006082</td>\n",
              "      <td>4.581200</td>\n",
              "      <td>2.102362</td>\n",
              "      <td>1.249001e-16</td>\n",
              "      <td>-0.209973</td>\n",
              "      <td>0.211900</td>\n",
              "      <td>13.537297</td>\n",
              "      <td>4.982554</td>\n",
              "      <td>56.401663</td>\n",
              "      <td>51811.799259</td>\n",
              "      <td>4816.216120</td>\n",
              "      <td>617145.531155</td>\n",
              "      <td>-1.387779e-16</td>\n",
              "      <td>-0.111390</td>\n",
              "      <td>0.193663</td>\n",
              "      <td>5.802550</td>\n",
              "      <td>1.693292</td>\n",
              "      <td>28.289691</td>\n",
              "      <td>10967.160250</td>\n",
              "      <td>556.313700</td>\n",
              "      <td>155266.757695</td>\n",
              "      <td>64274.052748</td>\n",
              "      <td>1123.675372</td>\n",
              "      <td>1.151290e+06</td>\n",
              "      <td>385822.216259</td>\n",
              "      <td>18411.365526</td>\n",
              "      <td>5.510635e+06</td>\n",
              "      <td>1.0</td>\n",
              "      <td>1.0</td>\n",
              "      <td>1.0</td>\n",
              "      <td>1.0</td>\n",
              "    </tr>\n",
              "    <tr>\n",
              "      <th>7138</th>\n",
              "      <td>19</td>\n",
              "      <td>5.678293</td>\n",
              "      <td>1.990888</td>\n",
              "      <td>0.080560</td>\n",
              "      <td>4.225086</td>\n",
              "      <td>16.432550</td>\n",
              "      <td>-0.010089</td>\n",
              "      <td>5.201274</td>\n",
              "      <td>21.449215</td>\n",
              "      <td>-1.117643</td>\n",
              "      <td>-1.276469</td>\n",
              "      <td>-0.967461</td>\n",
              "      <td>0.713220</td>\n",
              "      <td>0.578505</td>\n",
              "      <td>0.866105</td>\n",
              "      <td>-0.290859</td>\n",
              "      <td>-0.375927</td>\n",
              "      <td>-0.236398</td>\n",
              "      <td>99.535873</td>\n",
              "      <td>0.773918</td>\n",
              "      <td>1.631120</td>\n",
              "      <td>0.011580</td>\n",
              "      <td>20.613488</td>\n",
              "      <td>13.501971</td>\n",
              "      <td>4.726376</td>\n",
              "      <td>0.000562</td>\n",
              "      <td>0.000858</td>\n",
              "      <td>4.361373</td>\n",
              "      <td>1.527560</td>\n",
              "      <td>4.163336e-17</td>\n",
              "      <td>-2.299335</td>\n",
              "      <td>1.270020</td>\n",
              "      <td>11.464733</td>\n",
              "      <td>4.761372</td>\n",
              "      <td>44.192757</td>\n",
              "      <td>35133.445959</td>\n",
              "      <td>4411.087092</td>\n",
              "      <td>379907.630722</td>\n",
              "      <td>2.168404e-18</td>\n",
              "      <td>-0.062745</td>\n",
              "      <td>0.129936</td>\n",
              "      <td>3.981972</td>\n",
              "      <td>1.498612</td>\n",
              "      <td>15.765133</td>\n",
              "      <td>4328.551152</td>\n",
              "      <td>435.735072</td>\n",
              "      <td>48219.920465</td>\n",
              "      <td>20134.248375</td>\n",
              "      <td>651.870449</td>\n",
              "      <td>3.040354e+05</td>\n",
              "      <td>233924.795614</td>\n",
              "      <td>16805.100603</td>\n",
              "      <td>3.156649e+06</td>\n",
              "      <td>1.0</td>\n",
              "      <td>1.0</td>\n",
              "      <td>1.0</td>\n",
              "      <td>1.0</td>\n",
              "    </tr>\n",
              "    <tr>\n",
              "      <th>5543</th>\n",
              "      <td>20</td>\n",
              "      <td>-48.459438</td>\n",
              "      <td>1.983340</td>\n",
              "      <td>0.216440</td>\n",
              "      <td>2.987443</td>\n",
              "      <td>11.413350</td>\n",
              "      <td>-0.086859</td>\n",
              "      <td>3.829231</td>\n",
              "      <td>15.332635</td>\n",
              "      <td>-1.238982</td>\n",
              "      <td>-1.636695</td>\n",
              "      <td>-0.654078</td>\n",
              "      <td>0.838639</td>\n",
              "      <td>0.526439</td>\n",
              "      <td>1.114488</td>\n",
              "      <td>-0.320774</td>\n",
              "      <td>-0.396897</td>\n",
              "      <td>-0.228626</td>\n",
              "      <td>43.549299</td>\n",
              "      <td>0.738343</td>\n",
              "      <td>1.630877</td>\n",
              "      <td>0.006475</td>\n",
              "      <td>7.803888</td>\n",
              "      <td>10.198691</td>\n",
              "      <td>3.404676</td>\n",
              "      <td>0.000830</td>\n",
              "      <td>0.000635</td>\n",
              "      <td>2.292109</td>\n",
              "      <td>0.765820</td>\n",
              "      <td>3.469447e-18</td>\n",
              "      <td>-0.561133</td>\n",
              "      <td>0.796584</td>\n",
              "      <td>8.444428</td>\n",
              "      <td>5.667576</td>\n",
              "      <td>14.396807</td>\n",
              "      <td>14772.902622</td>\n",
              "      <td>6238.446200</td>\n",
              "      <td>40333.106365</td>\n",
              "      <td>-8.998878e-17</td>\n",
              "      <td>-0.025593</td>\n",
              "      <td>0.028470</td>\n",
              "      <td>2.876462</td>\n",
              "      <td>1.505862</td>\n",
              "      <td>8.933592</td>\n",
              "      <td>2094.492481</td>\n",
              "      <td>439.931900</td>\n",
              "      <td>15482.965641</td>\n",
              "      <td>7800.497372</td>\n",
              "      <td>681.426587</td>\n",
              "      <td>8.086052e+04</td>\n",
              "      <td>77141.496031</td>\n",
              "      <td>26252.581305</td>\n",
              "      <td>2.416832e+05</td>\n",
              "      <td>0.0</td>\n",
              "      <td>1.0</td>\n",
              "      <td>0.0</td>\n",
              "      <td>1.0</td>\n",
              "    </tr>\n",
              "  </tbody>\n",
              "</table>\n",
              "</div>"
            ],
            "text/plain": [
              "       Unnamed: 0   coeff_var  fractal_dimension  ...  arousal  dominance  liking\n",
              "8881           19 -653.237235           1.964181  ...      1.0        0.0     1.0\n",
              "6980            8   72.215513           1.991463  ...      0.0        0.0     1.0\n",
              "18773          20   51.080333           1.997740  ...      1.0        1.0     1.0\n",
              "7138           19    5.678293           1.990888  ...      1.0        1.0     1.0\n",
              "5543           20  -48.459438           1.983340  ...      1.0        0.0     1.0\n",
              "\n",
              "[5 rows x 57 columns]"
            ]
          },
          "metadata": {
            "tags": []
          },
          "execution_count": 127
        }
      ]
    },
    {
      "cell_type": "code",
      "metadata": {
        "colab": {
          "base_uri": "https://localhost:8080/"
        },
        "id": "EaqoA2Gf2W03",
        "outputId": "860d2343-3d62-43f9-d448-b911fa8dec21"
      },
      "source": [
        "df.shape"
      ],
      "execution_count": null,
      "outputs": [
        {
          "output_type": "execute_result",
          "data": {
            "text/plain": [
              "(13067, 57)"
            ]
          },
          "metadata": {
            "tags": []
          },
          "execution_count": 128
        }
      ]
    },
    {
      "cell_type": "markdown",
      "metadata": {
        "id": "6Xqg7guv2W03"
      },
      "source": [
        "## Choosing my X and Y"
      ]
    },
    {
      "cell_type": "code",
      "metadata": {
        "colab": {
          "base_uri": "https://localhost:8080/",
          "height": 232
        },
        "id": "rZ4g-pZw2W04",
        "outputId": "37163e98-d201-480c-a4f2-6635005d9102"
      },
      "source": [
        "X = df.drop(['valence','liking','dominance','arousal'],axis = 1)\n",
        "X.head()"
      ],
      "execution_count": null,
      "outputs": [
        {
          "output_type": "execute_result",
          "data": {
            "text/html": [
              "<div>\n",
              "<style scoped>\n",
              "    .dataframe tbody tr th:only-of-type {\n",
              "        vertical-align: middle;\n",
              "    }\n",
              "\n",
              "    .dataframe tbody tr th {\n",
              "        vertical-align: top;\n",
              "    }\n",
              "\n",
              "    .dataframe thead th {\n",
              "        text-align: right;\n",
              "    }\n",
              "</style>\n",
              "<table border=\"1\" class=\"dataframe\">\n",
              "  <thead>\n",
              "    <tr style=\"text-align: right;\">\n",
              "      <th></th>\n",
              "      <th>Unnamed: 0</th>\n",
              "      <th>coeff_var</th>\n",
              "      <th>fractal_dimension</th>\n",
              "      <th>kurtosis</th>\n",
              "      <th>secDiffMean</th>\n",
              "      <th>secDiffMax</th>\n",
              "      <th>skewness</th>\n",
              "      <th>first_diff_mean</th>\n",
              "      <th>first_diff_max</th>\n",
              "      <th>AR1_mean</th>\n",
              "      <th>AR1_min</th>\n",
              "      <th>AR1_max</th>\n",
              "      <th>AR2_mean</th>\n",
              "      <th>AR2_min</th>\n",
              "      <th>AR2_max</th>\n",
              "      <th>AR3_mean</th>\n",
              "      <th>AR3_min</th>\n",
              "      <th>AR3_max</th>\n",
              "      <th>hjorth_activity</th>\n",
              "      <th>hjorth_mobility</th>\n",
              "      <th>hjorth_complexity</th>\n",
              "      <th>PMax1</th>\n",
              "      <th>PMax2</th>\n",
              "      <th>PMax3</th>\n",
              "      <th>PMax4</th>\n",
              "      <th>PRatio1</th>\n",
              "      <th>PRatio2</th>\n",
              "      <th>PRatio3</th>\n",
              "      <th>PRatio4</th>\n",
              "      <th>cA_mean_mean</th>\n",
              "      <th>cA_mean_min</th>\n",
              "      <th>cA_mean_max</th>\n",
              "      <th>cA_std_mean</th>\n",
              "      <th>cA_std_min</th>\n",
              "      <th>cA_std_max</th>\n",
              "      <th>cA_Energy_mean</th>\n",
              "      <th>cA_Energy_min</th>\n",
              "      <th>cA_Energy_max</th>\n",
              "      <th>cD_mean_mean</th>\n",
              "      <th>cD_mean_min</th>\n",
              "      <th>cD_mean_max</th>\n",
              "      <th>cD_std_mean</th>\n",
              "      <th>cD_std_min</th>\n",
              "      <th>cD_std_max</th>\n",
              "      <th>cD_Energy_mean</th>\n",
              "      <th>cD_Energy_min</th>\n",
              "      <th>cD_Energy_max</th>\n",
              "      <th>Entropy_D_mean</th>\n",
              "      <th>Entropy_D_min</th>\n",
              "      <th>Entropy_D_max</th>\n",
              "      <th>Entropy_A_mean</th>\n",
              "      <th>Entropy_A_min</th>\n",
              "      <th>Entropy_A_max</th>\n",
              "    </tr>\n",
              "  </thead>\n",
              "  <tbody>\n",
              "    <tr>\n",
              "      <th>8881</th>\n",
              "      <td>19</td>\n",
              "      <td>-653.237235</td>\n",
              "      <td>1.964181</td>\n",
              "      <td>2.400335</td>\n",
              "      <td>3.488320</td>\n",
              "      <td>18.714958</td>\n",
              "      <td>-0.015652</td>\n",
              "      <td>4.614885</td>\n",
              "      <td>31.201944</td>\n",
              "      <td>-1.485804</td>\n",
              "      <td>-1.825564</td>\n",
              "      <td>-1.117763</td>\n",
              "      <td>0.867705</td>\n",
              "      <td>0.643257</td>\n",
              "      <td>1.043356</td>\n",
              "      <td>-0.219140</td>\n",
              "      <td>-0.346590</td>\n",
              "      <td>-0.067859</td>\n",
              "      <td>276.280952</td>\n",
              "      <td>0.507087</td>\n",
              "      <td>2.070994</td>\n",
              "      <td>0.010595</td>\n",
              "      <td>194.328083</td>\n",
              "      <td>38.077135</td>\n",
              "      <td>4.991970</td>\n",
              "      <td>0.000055</td>\n",
              "      <td>0.000278</td>\n",
              "      <td>38.928137</td>\n",
              "      <td>5.103816</td>\n",
              "      <td>-9.887924e-17</td>\n",
              "      <td>-0.338424</td>\n",
              "      <td>0.281975</td>\n",
              "      <td>19.619509</td>\n",
              "      <td>4.058483</td>\n",
              "      <td>52.508775</td>\n",
              "      <td>104073.161839</td>\n",
              "      <td>3195.533549</td>\n",
              "      <td>534895.309235</td>\n",
              "      <td>-5.464379e-17</td>\n",
              "      <td>-0.021258</td>\n",
              "      <td>0.025605</td>\n",
              "      <td>3.072807</td>\n",
              "      <td>1.151330</td>\n",
              "      <td>6.514758</td>\n",
              "      <td>2180.694971</td>\n",
              "      <td>257.159827</td>\n",
              "      <td>8233.816849</td>\n",
              "      <td>8022.030691</td>\n",
              "      <td>227.663816</td>\n",
              "      <td>3.930293e+04</td>\n",
              "      <td>853248.677702</td>\n",
              "      <td>11338.150744</td>\n",
              "      <td>4.976220e+06</td>\n",
              "    </tr>\n",
              "    <tr>\n",
              "      <th>6980</th>\n",
              "      <td>8</td>\n",
              "      <td>72.215513</td>\n",
              "      <td>1.991463</td>\n",
              "      <td>0.146082</td>\n",
              "      <td>6.475594</td>\n",
              "      <td>25.070591</td>\n",
              "      <td>-0.026670</td>\n",
              "      <td>8.027147</td>\n",
              "      <td>32.440508</td>\n",
              "      <td>-1.121326</td>\n",
              "      <td>-1.397677</td>\n",
              "      <td>-0.942250</td>\n",
              "      <td>0.766844</td>\n",
              "      <td>0.667293</td>\n",
              "      <td>0.913536</td>\n",
              "      <td>-0.315433</td>\n",
              "      <td>-0.387382</td>\n",
              "      <td>-0.126595</td>\n",
              "      <td>200.432253</td>\n",
              "      <td>0.813683</td>\n",
              "      <td>1.535197</td>\n",
              "      <td>0.010063</td>\n",
              "      <td>20.917706</td>\n",
              "      <td>31.024506</td>\n",
              "      <td>12.410623</td>\n",
              "      <td>0.000481</td>\n",
              "      <td>0.000324</td>\n",
              "      <td>1.685468</td>\n",
              "      <td>0.674556</td>\n",
              "      <td>-8.326673e-17</td>\n",
              "      <td>-0.374439</td>\n",
              "      <td>1.168590</td>\n",
              "      <td>16.255221</td>\n",
              "      <td>7.806743</td>\n",
              "      <td>59.526683</td>\n",
              "      <td>68513.945878</td>\n",
              "      <td>11823.377723</td>\n",
              "      <td>687689.578234</td>\n",
              "      <td>-1.014813e-16</td>\n",
              "      <td>-0.025951</td>\n",
              "      <td>0.064702</td>\n",
              "      <td>5.774239</td>\n",
              "      <td>2.047122</td>\n",
              "      <td>24.270376</td>\n",
              "      <td>9750.430331</td>\n",
              "      <td>812.998303</td>\n",
              "      <td>114276.734385</td>\n",
              "      <td>53910.387302</td>\n",
              "      <td>1814.660940</td>\n",
              "      <td>8.042087e+05</td>\n",
              "      <td>500380.513896</td>\n",
              "      <td>59010.240385</td>\n",
              "      <td>6.130247e+06</td>\n",
              "    </tr>\n",
              "    <tr>\n",
              "      <th>18773</th>\n",
              "      <td>20</td>\n",
              "      <td>51.080333</td>\n",
              "      <td>1.997740</td>\n",
              "      <td>1.930806</td>\n",
              "      <td>5.854897</td>\n",
              "      <td>25.613825</td>\n",
              "      <td>-0.014417</td>\n",
              "      <td>7.087585</td>\n",
              "      <td>31.944456</td>\n",
              "      <td>-1.001231</td>\n",
              "      <td>-1.241512</td>\n",
              "      <td>-0.753450</td>\n",
              "      <td>0.702532</td>\n",
              "      <td>0.619927</td>\n",
              "      <td>0.856224</td>\n",
              "      <td>-0.422893</td>\n",
              "      <td>-0.568236</td>\n",
              "      <td>-0.255201</td>\n",
              "      <td>159.776557</td>\n",
              "      <td>0.848481</td>\n",
              "      <td>1.595434</td>\n",
              "      <td>0.073754</td>\n",
              "      <td>25.419223</td>\n",
              "      <td>12.125876</td>\n",
              "      <td>5.548595</td>\n",
              "      <td>0.002902</td>\n",
              "      <td>0.006082</td>\n",
              "      <td>4.581200</td>\n",
              "      <td>2.102362</td>\n",
              "      <td>1.249001e-16</td>\n",
              "      <td>-0.209973</td>\n",
              "      <td>0.211900</td>\n",
              "      <td>13.537297</td>\n",
              "      <td>4.982554</td>\n",
              "      <td>56.401663</td>\n",
              "      <td>51811.799259</td>\n",
              "      <td>4816.216120</td>\n",
              "      <td>617145.531155</td>\n",
              "      <td>-1.387779e-16</td>\n",
              "      <td>-0.111390</td>\n",
              "      <td>0.193663</td>\n",
              "      <td>5.802550</td>\n",
              "      <td>1.693292</td>\n",
              "      <td>28.289691</td>\n",
              "      <td>10967.160250</td>\n",
              "      <td>556.313700</td>\n",
              "      <td>155266.757695</td>\n",
              "      <td>64274.052748</td>\n",
              "      <td>1123.675372</td>\n",
              "      <td>1.151290e+06</td>\n",
              "      <td>385822.216259</td>\n",
              "      <td>18411.365526</td>\n",
              "      <td>5.510635e+06</td>\n",
              "    </tr>\n",
              "    <tr>\n",
              "      <th>7138</th>\n",
              "      <td>19</td>\n",
              "      <td>5.678293</td>\n",
              "      <td>1.990888</td>\n",
              "      <td>0.080560</td>\n",
              "      <td>4.225086</td>\n",
              "      <td>16.432550</td>\n",
              "      <td>-0.010089</td>\n",
              "      <td>5.201274</td>\n",
              "      <td>21.449215</td>\n",
              "      <td>-1.117643</td>\n",
              "      <td>-1.276469</td>\n",
              "      <td>-0.967461</td>\n",
              "      <td>0.713220</td>\n",
              "      <td>0.578505</td>\n",
              "      <td>0.866105</td>\n",
              "      <td>-0.290859</td>\n",
              "      <td>-0.375927</td>\n",
              "      <td>-0.236398</td>\n",
              "      <td>99.535873</td>\n",
              "      <td>0.773918</td>\n",
              "      <td>1.631120</td>\n",
              "      <td>0.011580</td>\n",
              "      <td>20.613488</td>\n",
              "      <td>13.501971</td>\n",
              "      <td>4.726376</td>\n",
              "      <td>0.000562</td>\n",
              "      <td>0.000858</td>\n",
              "      <td>4.361373</td>\n",
              "      <td>1.527560</td>\n",
              "      <td>4.163336e-17</td>\n",
              "      <td>-2.299335</td>\n",
              "      <td>1.270020</td>\n",
              "      <td>11.464733</td>\n",
              "      <td>4.761372</td>\n",
              "      <td>44.192757</td>\n",
              "      <td>35133.445959</td>\n",
              "      <td>4411.087092</td>\n",
              "      <td>379907.630722</td>\n",
              "      <td>2.168404e-18</td>\n",
              "      <td>-0.062745</td>\n",
              "      <td>0.129936</td>\n",
              "      <td>3.981972</td>\n",
              "      <td>1.498612</td>\n",
              "      <td>15.765133</td>\n",
              "      <td>4328.551152</td>\n",
              "      <td>435.735072</td>\n",
              "      <td>48219.920465</td>\n",
              "      <td>20134.248375</td>\n",
              "      <td>651.870449</td>\n",
              "      <td>3.040354e+05</td>\n",
              "      <td>233924.795614</td>\n",
              "      <td>16805.100603</td>\n",
              "      <td>3.156649e+06</td>\n",
              "    </tr>\n",
              "    <tr>\n",
              "      <th>5543</th>\n",
              "      <td>20</td>\n",
              "      <td>-48.459438</td>\n",
              "      <td>1.983340</td>\n",
              "      <td>0.216440</td>\n",
              "      <td>2.987443</td>\n",
              "      <td>11.413350</td>\n",
              "      <td>-0.086859</td>\n",
              "      <td>3.829231</td>\n",
              "      <td>15.332635</td>\n",
              "      <td>-1.238982</td>\n",
              "      <td>-1.636695</td>\n",
              "      <td>-0.654078</td>\n",
              "      <td>0.838639</td>\n",
              "      <td>0.526439</td>\n",
              "      <td>1.114488</td>\n",
              "      <td>-0.320774</td>\n",
              "      <td>-0.396897</td>\n",
              "      <td>-0.228626</td>\n",
              "      <td>43.549299</td>\n",
              "      <td>0.738343</td>\n",
              "      <td>1.630877</td>\n",
              "      <td>0.006475</td>\n",
              "      <td>7.803888</td>\n",
              "      <td>10.198691</td>\n",
              "      <td>3.404676</td>\n",
              "      <td>0.000830</td>\n",
              "      <td>0.000635</td>\n",
              "      <td>2.292109</td>\n",
              "      <td>0.765820</td>\n",
              "      <td>3.469447e-18</td>\n",
              "      <td>-0.561133</td>\n",
              "      <td>0.796584</td>\n",
              "      <td>8.444428</td>\n",
              "      <td>5.667576</td>\n",
              "      <td>14.396807</td>\n",
              "      <td>14772.902622</td>\n",
              "      <td>6238.446200</td>\n",
              "      <td>40333.106365</td>\n",
              "      <td>-8.998878e-17</td>\n",
              "      <td>-0.025593</td>\n",
              "      <td>0.028470</td>\n",
              "      <td>2.876462</td>\n",
              "      <td>1.505862</td>\n",
              "      <td>8.933592</td>\n",
              "      <td>2094.492481</td>\n",
              "      <td>439.931900</td>\n",
              "      <td>15482.965641</td>\n",
              "      <td>7800.497372</td>\n",
              "      <td>681.426587</td>\n",
              "      <td>8.086052e+04</td>\n",
              "      <td>77141.496031</td>\n",
              "      <td>26252.581305</td>\n",
              "      <td>2.416832e+05</td>\n",
              "    </tr>\n",
              "  </tbody>\n",
              "</table>\n",
              "</div>"
            ],
            "text/plain": [
              "       Unnamed: 0   coeff_var  ...  Entropy_A_min  Entropy_A_max\n",
              "8881           19 -653.237235  ...   11338.150744   4.976220e+06\n",
              "6980            8   72.215513  ...   59010.240385   6.130247e+06\n",
              "18773          20   51.080333  ...   18411.365526   5.510635e+06\n",
              "7138           19    5.678293  ...   16805.100603   3.156649e+06\n",
              "5543           20  -48.459438  ...   26252.581305   2.416832e+05\n",
              "\n",
              "[5 rows x 53 columns]"
            ]
          },
          "metadata": {
            "tags": []
          },
          "execution_count": 129
        }
      ]
    },
    {
      "cell_type": "code",
      "metadata": {
        "colab": {
          "base_uri": "https://localhost:8080/",
          "height": 215
        },
        "id": "eLedgLBs2W04",
        "outputId": "2b45480e-4312-4cec-d2e7-380cb1fa0aea"
      },
      "source": [
        "X = X.drop(['Unnamed: 0'],axis = 1)\n",
        "X.head()"
      ],
      "execution_count": null,
      "outputs": [
        {
          "output_type": "execute_result",
          "data": {
            "text/html": [
              "<div>\n",
              "<style scoped>\n",
              "    .dataframe tbody tr th:only-of-type {\n",
              "        vertical-align: middle;\n",
              "    }\n",
              "\n",
              "    .dataframe tbody tr th {\n",
              "        vertical-align: top;\n",
              "    }\n",
              "\n",
              "    .dataframe thead th {\n",
              "        text-align: right;\n",
              "    }\n",
              "</style>\n",
              "<table border=\"1\" class=\"dataframe\">\n",
              "  <thead>\n",
              "    <tr style=\"text-align: right;\">\n",
              "      <th></th>\n",
              "      <th>coeff_var</th>\n",
              "      <th>fractal_dimension</th>\n",
              "      <th>kurtosis</th>\n",
              "      <th>secDiffMean</th>\n",
              "      <th>secDiffMax</th>\n",
              "      <th>skewness</th>\n",
              "      <th>first_diff_mean</th>\n",
              "      <th>first_diff_max</th>\n",
              "      <th>AR1_mean</th>\n",
              "      <th>AR1_min</th>\n",
              "      <th>AR1_max</th>\n",
              "      <th>AR2_mean</th>\n",
              "      <th>AR2_min</th>\n",
              "      <th>AR2_max</th>\n",
              "      <th>AR3_mean</th>\n",
              "      <th>AR3_min</th>\n",
              "      <th>AR3_max</th>\n",
              "      <th>hjorth_activity</th>\n",
              "      <th>hjorth_mobility</th>\n",
              "      <th>hjorth_complexity</th>\n",
              "      <th>PMax1</th>\n",
              "      <th>PMax2</th>\n",
              "      <th>PMax3</th>\n",
              "      <th>PMax4</th>\n",
              "      <th>PRatio1</th>\n",
              "      <th>PRatio2</th>\n",
              "      <th>PRatio3</th>\n",
              "      <th>PRatio4</th>\n",
              "      <th>cA_mean_mean</th>\n",
              "      <th>cA_mean_min</th>\n",
              "      <th>cA_mean_max</th>\n",
              "      <th>cA_std_mean</th>\n",
              "      <th>cA_std_min</th>\n",
              "      <th>cA_std_max</th>\n",
              "      <th>cA_Energy_mean</th>\n",
              "      <th>cA_Energy_min</th>\n",
              "      <th>cA_Energy_max</th>\n",
              "      <th>cD_mean_mean</th>\n",
              "      <th>cD_mean_min</th>\n",
              "      <th>cD_mean_max</th>\n",
              "      <th>cD_std_mean</th>\n",
              "      <th>cD_std_min</th>\n",
              "      <th>cD_std_max</th>\n",
              "      <th>cD_Energy_mean</th>\n",
              "      <th>cD_Energy_min</th>\n",
              "      <th>cD_Energy_max</th>\n",
              "      <th>Entropy_D_mean</th>\n",
              "      <th>Entropy_D_min</th>\n",
              "      <th>Entropy_D_max</th>\n",
              "      <th>Entropy_A_mean</th>\n",
              "      <th>Entropy_A_min</th>\n",
              "      <th>Entropy_A_max</th>\n",
              "    </tr>\n",
              "  </thead>\n",
              "  <tbody>\n",
              "    <tr>\n",
              "      <th>8881</th>\n",
              "      <td>-653.237235</td>\n",
              "      <td>1.964181</td>\n",
              "      <td>2.400335</td>\n",
              "      <td>3.488320</td>\n",
              "      <td>18.714958</td>\n",
              "      <td>-0.015652</td>\n",
              "      <td>4.614885</td>\n",
              "      <td>31.201944</td>\n",
              "      <td>-1.485804</td>\n",
              "      <td>-1.825564</td>\n",
              "      <td>-1.117763</td>\n",
              "      <td>0.867705</td>\n",
              "      <td>0.643257</td>\n",
              "      <td>1.043356</td>\n",
              "      <td>-0.219140</td>\n",
              "      <td>-0.346590</td>\n",
              "      <td>-0.067859</td>\n",
              "      <td>276.280952</td>\n",
              "      <td>0.507087</td>\n",
              "      <td>2.070994</td>\n",
              "      <td>0.010595</td>\n",
              "      <td>194.328083</td>\n",
              "      <td>38.077135</td>\n",
              "      <td>4.991970</td>\n",
              "      <td>0.000055</td>\n",
              "      <td>0.000278</td>\n",
              "      <td>38.928137</td>\n",
              "      <td>5.103816</td>\n",
              "      <td>-9.887924e-17</td>\n",
              "      <td>-0.338424</td>\n",
              "      <td>0.281975</td>\n",
              "      <td>19.619509</td>\n",
              "      <td>4.058483</td>\n",
              "      <td>52.508775</td>\n",
              "      <td>104073.161839</td>\n",
              "      <td>3195.533549</td>\n",
              "      <td>534895.309235</td>\n",
              "      <td>-5.464379e-17</td>\n",
              "      <td>-0.021258</td>\n",
              "      <td>0.025605</td>\n",
              "      <td>3.072807</td>\n",
              "      <td>1.151330</td>\n",
              "      <td>6.514758</td>\n",
              "      <td>2180.694971</td>\n",
              "      <td>257.159827</td>\n",
              "      <td>8233.816849</td>\n",
              "      <td>8022.030691</td>\n",
              "      <td>227.663816</td>\n",
              "      <td>3.930293e+04</td>\n",
              "      <td>853248.677702</td>\n",
              "      <td>11338.150744</td>\n",
              "      <td>4.976220e+06</td>\n",
              "    </tr>\n",
              "    <tr>\n",
              "      <th>6980</th>\n",
              "      <td>72.215513</td>\n",
              "      <td>1.991463</td>\n",
              "      <td>0.146082</td>\n",
              "      <td>6.475594</td>\n",
              "      <td>25.070591</td>\n",
              "      <td>-0.026670</td>\n",
              "      <td>8.027147</td>\n",
              "      <td>32.440508</td>\n",
              "      <td>-1.121326</td>\n",
              "      <td>-1.397677</td>\n",
              "      <td>-0.942250</td>\n",
              "      <td>0.766844</td>\n",
              "      <td>0.667293</td>\n",
              "      <td>0.913536</td>\n",
              "      <td>-0.315433</td>\n",
              "      <td>-0.387382</td>\n",
              "      <td>-0.126595</td>\n",
              "      <td>200.432253</td>\n",
              "      <td>0.813683</td>\n",
              "      <td>1.535197</td>\n",
              "      <td>0.010063</td>\n",
              "      <td>20.917706</td>\n",
              "      <td>31.024506</td>\n",
              "      <td>12.410623</td>\n",
              "      <td>0.000481</td>\n",
              "      <td>0.000324</td>\n",
              "      <td>1.685468</td>\n",
              "      <td>0.674556</td>\n",
              "      <td>-8.326673e-17</td>\n",
              "      <td>-0.374439</td>\n",
              "      <td>1.168590</td>\n",
              "      <td>16.255221</td>\n",
              "      <td>7.806743</td>\n",
              "      <td>59.526683</td>\n",
              "      <td>68513.945878</td>\n",
              "      <td>11823.377723</td>\n",
              "      <td>687689.578234</td>\n",
              "      <td>-1.014813e-16</td>\n",
              "      <td>-0.025951</td>\n",
              "      <td>0.064702</td>\n",
              "      <td>5.774239</td>\n",
              "      <td>2.047122</td>\n",
              "      <td>24.270376</td>\n",
              "      <td>9750.430331</td>\n",
              "      <td>812.998303</td>\n",
              "      <td>114276.734385</td>\n",
              "      <td>53910.387302</td>\n",
              "      <td>1814.660940</td>\n",
              "      <td>8.042087e+05</td>\n",
              "      <td>500380.513896</td>\n",
              "      <td>59010.240385</td>\n",
              "      <td>6.130247e+06</td>\n",
              "    </tr>\n",
              "    <tr>\n",
              "      <th>18773</th>\n",
              "      <td>51.080333</td>\n",
              "      <td>1.997740</td>\n",
              "      <td>1.930806</td>\n",
              "      <td>5.854897</td>\n",
              "      <td>25.613825</td>\n",
              "      <td>-0.014417</td>\n",
              "      <td>7.087585</td>\n",
              "      <td>31.944456</td>\n",
              "      <td>-1.001231</td>\n",
              "      <td>-1.241512</td>\n",
              "      <td>-0.753450</td>\n",
              "      <td>0.702532</td>\n",
              "      <td>0.619927</td>\n",
              "      <td>0.856224</td>\n",
              "      <td>-0.422893</td>\n",
              "      <td>-0.568236</td>\n",
              "      <td>-0.255201</td>\n",
              "      <td>159.776557</td>\n",
              "      <td>0.848481</td>\n",
              "      <td>1.595434</td>\n",
              "      <td>0.073754</td>\n",
              "      <td>25.419223</td>\n",
              "      <td>12.125876</td>\n",
              "      <td>5.548595</td>\n",
              "      <td>0.002902</td>\n",
              "      <td>0.006082</td>\n",
              "      <td>4.581200</td>\n",
              "      <td>2.102362</td>\n",
              "      <td>1.249001e-16</td>\n",
              "      <td>-0.209973</td>\n",
              "      <td>0.211900</td>\n",
              "      <td>13.537297</td>\n",
              "      <td>4.982554</td>\n",
              "      <td>56.401663</td>\n",
              "      <td>51811.799259</td>\n",
              "      <td>4816.216120</td>\n",
              "      <td>617145.531155</td>\n",
              "      <td>-1.387779e-16</td>\n",
              "      <td>-0.111390</td>\n",
              "      <td>0.193663</td>\n",
              "      <td>5.802550</td>\n",
              "      <td>1.693292</td>\n",
              "      <td>28.289691</td>\n",
              "      <td>10967.160250</td>\n",
              "      <td>556.313700</td>\n",
              "      <td>155266.757695</td>\n",
              "      <td>64274.052748</td>\n",
              "      <td>1123.675372</td>\n",
              "      <td>1.151290e+06</td>\n",
              "      <td>385822.216259</td>\n",
              "      <td>18411.365526</td>\n",
              "      <td>5.510635e+06</td>\n",
              "    </tr>\n",
              "    <tr>\n",
              "      <th>7138</th>\n",
              "      <td>5.678293</td>\n",
              "      <td>1.990888</td>\n",
              "      <td>0.080560</td>\n",
              "      <td>4.225086</td>\n",
              "      <td>16.432550</td>\n",
              "      <td>-0.010089</td>\n",
              "      <td>5.201274</td>\n",
              "      <td>21.449215</td>\n",
              "      <td>-1.117643</td>\n",
              "      <td>-1.276469</td>\n",
              "      <td>-0.967461</td>\n",
              "      <td>0.713220</td>\n",
              "      <td>0.578505</td>\n",
              "      <td>0.866105</td>\n",
              "      <td>-0.290859</td>\n",
              "      <td>-0.375927</td>\n",
              "      <td>-0.236398</td>\n",
              "      <td>99.535873</td>\n",
              "      <td>0.773918</td>\n",
              "      <td>1.631120</td>\n",
              "      <td>0.011580</td>\n",
              "      <td>20.613488</td>\n",
              "      <td>13.501971</td>\n",
              "      <td>4.726376</td>\n",
              "      <td>0.000562</td>\n",
              "      <td>0.000858</td>\n",
              "      <td>4.361373</td>\n",
              "      <td>1.527560</td>\n",
              "      <td>4.163336e-17</td>\n",
              "      <td>-2.299335</td>\n",
              "      <td>1.270020</td>\n",
              "      <td>11.464733</td>\n",
              "      <td>4.761372</td>\n",
              "      <td>44.192757</td>\n",
              "      <td>35133.445959</td>\n",
              "      <td>4411.087092</td>\n",
              "      <td>379907.630722</td>\n",
              "      <td>2.168404e-18</td>\n",
              "      <td>-0.062745</td>\n",
              "      <td>0.129936</td>\n",
              "      <td>3.981972</td>\n",
              "      <td>1.498612</td>\n",
              "      <td>15.765133</td>\n",
              "      <td>4328.551152</td>\n",
              "      <td>435.735072</td>\n",
              "      <td>48219.920465</td>\n",
              "      <td>20134.248375</td>\n",
              "      <td>651.870449</td>\n",
              "      <td>3.040354e+05</td>\n",
              "      <td>233924.795614</td>\n",
              "      <td>16805.100603</td>\n",
              "      <td>3.156649e+06</td>\n",
              "    </tr>\n",
              "    <tr>\n",
              "      <th>5543</th>\n",
              "      <td>-48.459438</td>\n",
              "      <td>1.983340</td>\n",
              "      <td>0.216440</td>\n",
              "      <td>2.987443</td>\n",
              "      <td>11.413350</td>\n",
              "      <td>-0.086859</td>\n",
              "      <td>3.829231</td>\n",
              "      <td>15.332635</td>\n",
              "      <td>-1.238982</td>\n",
              "      <td>-1.636695</td>\n",
              "      <td>-0.654078</td>\n",
              "      <td>0.838639</td>\n",
              "      <td>0.526439</td>\n",
              "      <td>1.114488</td>\n",
              "      <td>-0.320774</td>\n",
              "      <td>-0.396897</td>\n",
              "      <td>-0.228626</td>\n",
              "      <td>43.549299</td>\n",
              "      <td>0.738343</td>\n",
              "      <td>1.630877</td>\n",
              "      <td>0.006475</td>\n",
              "      <td>7.803888</td>\n",
              "      <td>10.198691</td>\n",
              "      <td>3.404676</td>\n",
              "      <td>0.000830</td>\n",
              "      <td>0.000635</td>\n",
              "      <td>2.292109</td>\n",
              "      <td>0.765820</td>\n",
              "      <td>3.469447e-18</td>\n",
              "      <td>-0.561133</td>\n",
              "      <td>0.796584</td>\n",
              "      <td>8.444428</td>\n",
              "      <td>5.667576</td>\n",
              "      <td>14.396807</td>\n",
              "      <td>14772.902622</td>\n",
              "      <td>6238.446200</td>\n",
              "      <td>40333.106365</td>\n",
              "      <td>-8.998878e-17</td>\n",
              "      <td>-0.025593</td>\n",
              "      <td>0.028470</td>\n",
              "      <td>2.876462</td>\n",
              "      <td>1.505862</td>\n",
              "      <td>8.933592</td>\n",
              "      <td>2094.492481</td>\n",
              "      <td>439.931900</td>\n",
              "      <td>15482.965641</td>\n",
              "      <td>7800.497372</td>\n",
              "      <td>681.426587</td>\n",
              "      <td>8.086052e+04</td>\n",
              "      <td>77141.496031</td>\n",
              "      <td>26252.581305</td>\n",
              "      <td>2.416832e+05</td>\n",
              "    </tr>\n",
              "  </tbody>\n",
              "</table>\n",
              "</div>"
            ],
            "text/plain": [
              "        coeff_var  fractal_dimension  ...  Entropy_A_min  Entropy_A_max\n",
              "8881  -653.237235           1.964181  ...   11338.150744   4.976220e+06\n",
              "6980    72.215513           1.991463  ...   59010.240385   6.130247e+06\n",
              "18773   51.080333           1.997740  ...   18411.365526   5.510635e+06\n",
              "7138     5.678293           1.990888  ...   16805.100603   3.156649e+06\n",
              "5543   -48.459438           1.983340  ...   26252.581305   2.416832e+05\n",
              "\n",
              "[5 rows x 52 columns]"
            ]
          },
          "metadata": {
            "tags": []
          },
          "execution_count": 130
        }
      ]
    },
    {
      "cell_type": "code",
      "metadata": {
        "colab": {
          "base_uri": "https://localhost:8080/",
          "height": 215
        },
        "id": "KYuGLuvf2W05",
        "outputId": "4058934d-8756-4fb7-df4b-778751f8ad86"
      },
      "source": [
        "df = df.drop([\"Unnamed: 0\"],axis = 1)\n",
        "df.head()"
      ],
      "execution_count": null,
      "outputs": [
        {
          "output_type": "execute_result",
          "data": {
            "text/html": [
              "<div>\n",
              "<style scoped>\n",
              "    .dataframe tbody tr th:only-of-type {\n",
              "        vertical-align: middle;\n",
              "    }\n",
              "\n",
              "    .dataframe tbody tr th {\n",
              "        vertical-align: top;\n",
              "    }\n",
              "\n",
              "    .dataframe thead th {\n",
              "        text-align: right;\n",
              "    }\n",
              "</style>\n",
              "<table border=\"1\" class=\"dataframe\">\n",
              "  <thead>\n",
              "    <tr style=\"text-align: right;\">\n",
              "      <th></th>\n",
              "      <th>coeff_var</th>\n",
              "      <th>fractal_dimension</th>\n",
              "      <th>kurtosis</th>\n",
              "      <th>secDiffMean</th>\n",
              "      <th>secDiffMax</th>\n",
              "      <th>skewness</th>\n",
              "      <th>first_diff_mean</th>\n",
              "      <th>first_diff_max</th>\n",
              "      <th>AR1_mean</th>\n",
              "      <th>AR1_min</th>\n",
              "      <th>AR1_max</th>\n",
              "      <th>AR2_mean</th>\n",
              "      <th>AR2_min</th>\n",
              "      <th>AR2_max</th>\n",
              "      <th>AR3_mean</th>\n",
              "      <th>AR3_min</th>\n",
              "      <th>AR3_max</th>\n",
              "      <th>hjorth_activity</th>\n",
              "      <th>hjorth_mobility</th>\n",
              "      <th>hjorth_complexity</th>\n",
              "      <th>PMax1</th>\n",
              "      <th>PMax2</th>\n",
              "      <th>PMax3</th>\n",
              "      <th>PMax4</th>\n",
              "      <th>PRatio1</th>\n",
              "      <th>PRatio2</th>\n",
              "      <th>PRatio3</th>\n",
              "      <th>PRatio4</th>\n",
              "      <th>cA_mean_mean</th>\n",
              "      <th>cA_mean_min</th>\n",
              "      <th>cA_mean_max</th>\n",
              "      <th>cA_std_mean</th>\n",
              "      <th>cA_std_min</th>\n",
              "      <th>cA_std_max</th>\n",
              "      <th>cA_Energy_mean</th>\n",
              "      <th>cA_Energy_min</th>\n",
              "      <th>cA_Energy_max</th>\n",
              "      <th>cD_mean_mean</th>\n",
              "      <th>cD_mean_min</th>\n",
              "      <th>cD_mean_max</th>\n",
              "      <th>cD_std_mean</th>\n",
              "      <th>cD_std_min</th>\n",
              "      <th>cD_std_max</th>\n",
              "      <th>cD_Energy_mean</th>\n",
              "      <th>cD_Energy_min</th>\n",
              "      <th>cD_Energy_max</th>\n",
              "      <th>Entropy_D_mean</th>\n",
              "      <th>Entropy_D_min</th>\n",
              "      <th>Entropy_D_max</th>\n",
              "      <th>Entropy_A_mean</th>\n",
              "      <th>Entropy_A_min</th>\n",
              "      <th>Entropy_A_max</th>\n",
              "      <th>valence</th>\n",
              "      <th>arousal</th>\n",
              "      <th>dominance</th>\n",
              "      <th>liking</th>\n",
              "    </tr>\n",
              "  </thead>\n",
              "  <tbody>\n",
              "    <tr>\n",
              "      <th>8881</th>\n",
              "      <td>-653.237235</td>\n",
              "      <td>1.964181</td>\n",
              "      <td>2.400335</td>\n",
              "      <td>3.488320</td>\n",
              "      <td>18.714958</td>\n",
              "      <td>-0.015652</td>\n",
              "      <td>4.614885</td>\n",
              "      <td>31.201944</td>\n",
              "      <td>-1.485804</td>\n",
              "      <td>-1.825564</td>\n",
              "      <td>-1.117763</td>\n",
              "      <td>0.867705</td>\n",
              "      <td>0.643257</td>\n",
              "      <td>1.043356</td>\n",
              "      <td>-0.219140</td>\n",
              "      <td>-0.346590</td>\n",
              "      <td>-0.067859</td>\n",
              "      <td>276.280952</td>\n",
              "      <td>0.507087</td>\n",
              "      <td>2.070994</td>\n",
              "      <td>0.010595</td>\n",
              "      <td>194.328083</td>\n",
              "      <td>38.077135</td>\n",
              "      <td>4.991970</td>\n",
              "      <td>0.000055</td>\n",
              "      <td>0.000278</td>\n",
              "      <td>38.928137</td>\n",
              "      <td>5.103816</td>\n",
              "      <td>-9.887924e-17</td>\n",
              "      <td>-0.338424</td>\n",
              "      <td>0.281975</td>\n",
              "      <td>19.619509</td>\n",
              "      <td>4.058483</td>\n",
              "      <td>52.508775</td>\n",
              "      <td>104073.161839</td>\n",
              "      <td>3195.533549</td>\n",
              "      <td>534895.309235</td>\n",
              "      <td>-5.464379e-17</td>\n",
              "      <td>-0.021258</td>\n",
              "      <td>0.025605</td>\n",
              "      <td>3.072807</td>\n",
              "      <td>1.151330</td>\n",
              "      <td>6.514758</td>\n",
              "      <td>2180.694971</td>\n",
              "      <td>257.159827</td>\n",
              "      <td>8233.816849</td>\n",
              "      <td>8022.030691</td>\n",
              "      <td>227.663816</td>\n",
              "      <td>3.930293e+04</td>\n",
              "      <td>853248.677702</td>\n",
              "      <td>11338.150744</td>\n",
              "      <td>4.976220e+06</td>\n",
              "      <td>0.0</td>\n",
              "      <td>1.0</td>\n",
              "      <td>0.0</td>\n",
              "      <td>1.0</td>\n",
              "    </tr>\n",
              "    <tr>\n",
              "      <th>6980</th>\n",
              "      <td>72.215513</td>\n",
              "      <td>1.991463</td>\n",
              "      <td>0.146082</td>\n",
              "      <td>6.475594</td>\n",
              "      <td>25.070591</td>\n",
              "      <td>-0.026670</td>\n",
              "      <td>8.027147</td>\n",
              "      <td>32.440508</td>\n",
              "      <td>-1.121326</td>\n",
              "      <td>-1.397677</td>\n",
              "      <td>-0.942250</td>\n",
              "      <td>0.766844</td>\n",
              "      <td>0.667293</td>\n",
              "      <td>0.913536</td>\n",
              "      <td>-0.315433</td>\n",
              "      <td>-0.387382</td>\n",
              "      <td>-0.126595</td>\n",
              "      <td>200.432253</td>\n",
              "      <td>0.813683</td>\n",
              "      <td>1.535197</td>\n",
              "      <td>0.010063</td>\n",
              "      <td>20.917706</td>\n",
              "      <td>31.024506</td>\n",
              "      <td>12.410623</td>\n",
              "      <td>0.000481</td>\n",
              "      <td>0.000324</td>\n",
              "      <td>1.685468</td>\n",
              "      <td>0.674556</td>\n",
              "      <td>-8.326673e-17</td>\n",
              "      <td>-0.374439</td>\n",
              "      <td>1.168590</td>\n",
              "      <td>16.255221</td>\n",
              "      <td>7.806743</td>\n",
              "      <td>59.526683</td>\n",
              "      <td>68513.945878</td>\n",
              "      <td>11823.377723</td>\n",
              "      <td>687689.578234</td>\n",
              "      <td>-1.014813e-16</td>\n",
              "      <td>-0.025951</td>\n",
              "      <td>0.064702</td>\n",
              "      <td>5.774239</td>\n",
              "      <td>2.047122</td>\n",
              "      <td>24.270376</td>\n",
              "      <td>9750.430331</td>\n",
              "      <td>812.998303</td>\n",
              "      <td>114276.734385</td>\n",
              "      <td>53910.387302</td>\n",
              "      <td>1814.660940</td>\n",
              "      <td>8.042087e+05</td>\n",
              "      <td>500380.513896</td>\n",
              "      <td>59010.240385</td>\n",
              "      <td>6.130247e+06</td>\n",
              "      <td>1.0</td>\n",
              "      <td>0.0</td>\n",
              "      <td>0.0</td>\n",
              "      <td>1.0</td>\n",
              "    </tr>\n",
              "    <tr>\n",
              "      <th>18773</th>\n",
              "      <td>51.080333</td>\n",
              "      <td>1.997740</td>\n",
              "      <td>1.930806</td>\n",
              "      <td>5.854897</td>\n",
              "      <td>25.613825</td>\n",
              "      <td>-0.014417</td>\n",
              "      <td>7.087585</td>\n",
              "      <td>31.944456</td>\n",
              "      <td>-1.001231</td>\n",
              "      <td>-1.241512</td>\n",
              "      <td>-0.753450</td>\n",
              "      <td>0.702532</td>\n",
              "      <td>0.619927</td>\n",
              "      <td>0.856224</td>\n",
              "      <td>-0.422893</td>\n",
              "      <td>-0.568236</td>\n",
              "      <td>-0.255201</td>\n",
              "      <td>159.776557</td>\n",
              "      <td>0.848481</td>\n",
              "      <td>1.595434</td>\n",
              "      <td>0.073754</td>\n",
              "      <td>25.419223</td>\n",
              "      <td>12.125876</td>\n",
              "      <td>5.548595</td>\n",
              "      <td>0.002902</td>\n",
              "      <td>0.006082</td>\n",
              "      <td>4.581200</td>\n",
              "      <td>2.102362</td>\n",
              "      <td>1.249001e-16</td>\n",
              "      <td>-0.209973</td>\n",
              "      <td>0.211900</td>\n",
              "      <td>13.537297</td>\n",
              "      <td>4.982554</td>\n",
              "      <td>56.401663</td>\n",
              "      <td>51811.799259</td>\n",
              "      <td>4816.216120</td>\n",
              "      <td>617145.531155</td>\n",
              "      <td>-1.387779e-16</td>\n",
              "      <td>-0.111390</td>\n",
              "      <td>0.193663</td>\n",
              "      <td>5.802550</td>\n",
              "      <td>1.693292</td>\n",
              "      <td>28.289691</td>\n",
              "      <td>10967.160250</td>\n",
              "      <td>556.313700</td>\n",
              "      <td>155266.757695</td>\n",
              "      <td>64274.052748</td>\n",
              "      <td>1123.675372</td>\n",
              "      <td>1.151290e+06</td>\n",
              "      <td>385822.216259</td>\n",
              "      <td>18411.365526</td>\n",
              "      <td>5.510635e+06</td>\n",
              "      <td>1.0</td>\n",
              "      <td>1.0</td>\n",
              "      <td>1.0</td>\n",
              "      <td>1.0</td>\n",
              "    </tr>\n",
              "    <tr>\n",
              "      <th>7138</th>\n",
              "      <td>5.678293</td>\n",
              "      <td>1.990888</td>\n",
              "      <td>0.080560</td>\n",
              "      <td>4.225086</td>\n",
              "      <td>16.432550</td>\n",
              "      <td>-0.010089</td>\n",
              "      <td>5.201274</td>\n",
              "      <td>21.449215</td>\n",
              "      <td>-1.117643</td>\n",
              "      <td>-1.276469</td>\n",
              "      <td>-0.967461</td>\n",
              "      <td>0.713220</td>\n",
              "      <td>0.578505</td>\n",
              "      <td>0.866105</td>\n",
              "      <td>-0.290859</td>\n",
              "      <td>-0.375927</td>\n",
              "      <td>-0.236398</td>\n",
              "      <td>99.535873</td>\n",
              "      <td>0.773918</td>\n",
              "      <td>1.631120</td>\n",
              "      <td>0.011580</td>\n",
              "      <td>20.613488</td>\n",
              "      <td>13.501971</td>\n",
              "      <td>4.726376</td>\n",
              "      <td>0.000562</td>\n",
              "      <td>0.000858</td>\n",
              "      <td>4.361373</td>\n",
              "      <td>1.527560</td>\n",
              "      <td>4.163336e-17</td>\n",
              "      <td>-2.299335</td>\n",
              "      <td>1.270020</td>\n",
              "      <td>11.464733</td>\n",
              "      <td>4.761372</td>\n",
              "      <td>44.192757</td>\n",
              "      <td>35133.445959</td>\n",
              "      <td>4411.087092</td>\n",
              "      <td>379907.630722</td>\n",
              "      <td>2.168404e-18</td>\n",
              "      <td>-0.062745</td>\n",
              "      <td>0.129936</td>\n",
              "      <td>3.981972</td>\n",
              "      <td>1.498612</td>\n",
              "      <td>15.765133</td>\n",
              "      <td>4328.551152</td>\n",
              "      <td>435.735072</td>\n",
              "      <td>48219.920465</td>\n",
              "      <td>20134.248375</td>\n",
              "      <td>651.870449</td>\n",
              "      <td>3.040354e+05</td>\n",
              "      <td>233924.795614</td>\n",
              "      <td>16805.100603</td>\n",
              "      <td>3.156649e+06</td>\n",
              "      <td>1.0</td>\n",
              "      <td>1.0</td>\n",
              "      <td>1.0</td>\n",
              "      <td>1.0</td>\n",
              "    </tr>\n",
              "    <tr>\n",
              "      <th>5543</th>\n",
              "      <td>-48.459438</td>\n",
              "      <td>1.983340</td>\n",
              "      <td>0.216440</td>\n",
              "      <td>2.987443</td>\n",
              "      <td>11.413350</td>\n",
              "      <td>-0.086859</td>\n",
              "      <td>3.829231</td>\n",
              "      <td>15.332635</td>\n",
              "      <td>-1.238982</td>\n",
              "      <td>-1.636695</td>\n",
              "      <td>-0.654078</td>\n",
              "      <td>0.838639</td>\n",
              "      <td>0.526439</td>\n",
              "      <td>1.114488</td>\n",
              "      <td>-0.320774</td>\n",
              "      <td>-0.396897</td>\n",
              "      <td>-0.228626</td>\n",
              "      <td>43.549299</td>\n",
              "      <td>0.738343</td>\n",
              "      <td>1.630877</td>\n",
              "      <td>0.006475</td>\n",
              "      <td>7.803888</td>\n",
              "      <td>10.198691</td>\n",
              "      <td>3.404676</td>\n",
              "      <td>0.000830</td>\n",
              "      <td>0.000635</td>\n",
              "      <td>2.292109</td>\n",
              "      <td>0.765820</td>\n",
              "      <td>3.469447e-18</td>\n",
              "      <td>-0.561133</td>\n",
              "      <td>0.796584</td>\n",
              "      <td>8.444428</td>\n",
              "      <td>5.667576</td>\n",
              "      <td>14.396807</td>\n",
              "      <td>14772.902622</td>\n",
              "      <td>6238.446200</td>\n",
              "      <td>40333.106365</td>\n",
              "      <td>-8.998878e-17</td>\n",
              "      <td>-0.025593</td>\n",
              "      <td>0.028470</td>\n",
              "      <td>2.876462</td>\n",
              "      <td>1.505862</td>\n",
              "      <td>8.933592</td>\n",
              "      <td>2094.492481</td>\n",
              "      <td>439.931900</td>\n",
              "      <td>15482.965641</td>\n",
              "      <td>7800.497372</td>\n",
              "      <td>681.426587</td>\n",
              "      <td>8.086052e+04</td>\n",
              "      <td>77141.496031</td>\n",
              "      <td>26252.581305</td>\n",
              "      <td>2.416832e+05</td>\n",
              "      <td>0.0</td>\n",
              "      <td>1.0</td>\n",
              "      <td>0.0</td>\n",
              "      <td>1.0</td>\n",
              "    </tr>\n",
              "  </tbody>\n",
              "</table>\n",
              "</div>"
            ],
            "text/plain": [
              "        coeff_var  fractal_dimension  kurtosis  ...  arousal  dominance  liking\n",
              "8881  -653.237235           1.964181  2.400335  ...      1.0        0.0     1.0\n",
              "6980    72.215513           1.991463  0.146082  ...      0.0        0.0     1.0\n",
              "18773   51.080333           1.997740  1.930806  ...      1.0        1.0     1.0\n",
              "7138     5.678293           1.990888  0.080560  ...      1.0        1.0     1.0\n",
              "5543   -48.459438           1.983340  0.216440  ...      1.0        0.0     1.0\n",
              "\n",
              "[5 rows x 56 columns]"
            ]
          },
          "metadata": {
            "tags": []
          },
          "execution_count": 131
        }
      ]
    },
    {
      "cell_type": "code",
      "metadata": {
        "colab": {
          "base_uri": "https://localhost:8080/",
          "height": 195
        },
        "id": "vMG-J-Xb2W05",
        "outputId": "0aabb267-9f29-426c-8fb2-8ca28bafb44b"
      },
      "source": [
        "# Y consists of all 4 labels while small y consists of only one output label\n",
        "Y = df[['valence','arousal','liking','dominance']]\n",
        "Y.head()"
      ],
      "execution_count": null,
      "outputs": [
        {
          "output_type": "execute_result",
          "data": {
            "text/html": [
              "<div>\n",
              "<style scoped>\n",
              "    .dataframe tbody tr th:only-of-type {\n",
              "        vertical-align: middle;\n",
              "    }\n",
              "\n",
              "    .dataframe tbody tr th {\n",
              "        vertical-align: top;\n",
              "    }\n",
              "\n",
              "    .dataframe thead th {\n",
              "        text-align: right;\n",
              "    }\n",
              "</style>\n",
              "<table border=\"1\" class=\"dataframe\">\n",
              "  <thead>\n",
              "    <tr style=\"text-align: right;\">\n",
              "      <th></th>\n",
              "      <th>valence</th>\n",
              "      <th>arousal</th>\n",
              "      <th>liking</th>\n",
              "      <th>dominance</th>\n",
              "    </tr>\n",
              "  </thead>\n",
              "  <tbody>\n",
              "    <tr>\n",
              "      <th>8881</th>\n",
              "      <td>0.0</td>\n",
              "      <td>1.0</td>\n",
              "      <td>1.0</td>\n",
              "      <td>0.0</td>\n",
              "    </tr>\n",
              "    <tr>\n",
              "      <th>6980</th>\n",
              "      <td>1.0</td>\n",
              "      <td>0.0</td>\n",
              "      <td>1.0</td>\n",
              "      <td>0.0</td>\n",
              "    </tr>\n",
              "    <tr>\n",
              "      <th>18773</th>\n",
              "      <td>1.0</td>\n",
              "      <td>1.0</td>\n",
              "      <td>1.0</td>\n",
              "      <td>1.0</td>\n",
              "    </tr>\n",
              "    <tr>\n",
              "      <th>7138</th>\n",
              "      <td>1.0</td>\n",
              "      <td>1.0</td>\n",
              "      <td>1.0</td>\n",
              "      <td>1.0</td>\n",
              "    </tr>\n",
              "    <tr>\n",
              "      <th>5543</th>\n",
              "      <td>0.0</td>\n",
              "      <td>1.0</td>\n",
              "      <td>1.0</td>\n",
              "      <td>0.0</td>\n",
              "    </tr>\n",
              "  </tbody>\n",
              "</table>\n",
              "</div>"
            ],
            "text/plain": [
              "       valence  arousal  liking  dominance\n",
              "8881       0.0      1.0     1.0        0.0\n",
              "6980       1.0      0.0     1.0        0.0\n",
              "18773      1.0      1.0     1.0        1.0\n",
              "7138       1.0      1.0     1.0        1.0\n",
              "5543       0.0      1.0     1.0        0.0"
            ]
          },
          "metadata": {
            "tags": []
          },
          "execution_count": 132
        }
      ]
    },
    {
      "cell_type": "code",
      "metadata": {
        "colab": {
          "base_uri": "https://localhost:8080/"
        },
        "id": "bEhbF2aL2W05",
        "outputId": "10fa1bdb-2f77-41ce-b201-030164224bd8"
      },
      "source": [
        "y = df['valence']\n",
        "y[0:5]"
      ],
      "execution_count": null,
      "outputs": [
        {
          "output_type": "execute_result",
          "data": {
            "text/plain": [
              "8881     0.0\n",
              "6980     1.0\n",
              "18773    1.0\n",
              "7138     1.0\n",
              "5543     0.0\n",
              "Name: valence, dtype: float64"
            ]
          },
          "metadata": {
            "tags": []
          },
          "execution_count": 133
        }
      ]
    },
    {
      "cell_type": "code",
      "metadata": {
        "colab": {
          "base_uri": "https://localhost:8080/"
        },
        "id": "kNLovJf72W06",
        "outputId": "34b07531-918d-444a-e0d7-6191be1a8696"
      },
      "source": [
        "# converting y to np array and flattening using ravel\n",
        "y = np.array(y)\n",
        "y = y.ravel()\n",
        "y[0:5]"
      ],
      "execution_count": null,
      "outputs": [
        {
          "output_type": "execute_result",
          "data": {
            "text/plain": [
              "array([0., 1., 1., 1., 0.])"
            ]
          },
          "metadata": {
            "tags": []
          },
          "execution_count": 134
        }
      ]
    },
    {
      "cell_type": "code",
      "metadata": {
        "colab": {
          "base_uri": "https://localhost:8080/"
        },
        "id": "qkLl_SFK2W06",
        "outputId": "c57cffb0-8c01-4e80-81f4-e8e15c640bcc"
      },
      "source": [
        "print(X.shape)\n",
        "print(y.shape)"
      ],
      "execution_count": null,
      "outputs": [
        {
          "output_type": "stream",
          "text": [
            "(13067, 52)\n",
            "(13067,)\n"
          ],
          "name": "stdout"
        }
      ]
    },
    {
      "cell_type": "markdown",
      "metadata": {
        "id": "wKbsYPXw2W06"
      },
      "source": [
        "### For generating dataframe with specific input columns"
      ]
    },
    {
      "cell_type": "code",
      "metadata": {
        "id": "SS9gNa-k2W06"
      },
      "source": [
        "def select_columns(data_frame, column_names):\n",
        "    new_frame = data_frame.loc[:, column_names]\n",
        "    return new_frame"
      ],
      "execution_count": null,
      "outputs": []
    },
    {
      "cell_type": "markdown",
      "metadata": {
        "id": "AhuZeUIO2W07"
      },
      "source": [
        "# Building Model using Random Forest"
      ]
    },
    {
      "cell_type": "code",
      "metadata": {
        "id": "dnl0yCRd2W07"
      },
      "source": [
        "from sklearn.model_selection import train_test_split"
      ],
      "execution_count": null,
      "outputs": []
    },
    {
      "cell_type": "code",
      "metadata": {
        "id": "Ac0ZDGGl2W07"
      },
      "source": [
        "def run_model(X,y):\n",
        "        print(X.shape,y.shape)\n",
        "        from sklearn.ensemble import RandomForestClassifier\n",
        "        model = RandomForestClassifier()\n",
        "        X_train,X_test,y_train,y_test = train_test_split(X,y,test_size = 0.33,random_state = 42)\n",
        "        model.fit(X_train,y_train)\n",
        "        return model.score(X_test,y_test)"
      ],
      "execution_count": null,
      "outputs": []
    },
    {
      "cell_type": "markdown",
      "metadata": {
        "id": "0M8B3Hcq2W07"
      },
      "source": [
        "## Before feature selection "
      ]
    },
    {
      "cell_type": "code",
      "metadata": {
        "colab": {
          "base_uri": "https://localhost:8080/"
        },
        "id": "-Lv8iAui2W08",
        "outputId": "d1899ecc-3767-4965-d560-34e86b2aeb36"
      },
      "source": [
        "run_model(X,y)  # accuracy - 64.34%"
      ],
      "execution_count": null,
      "outputs": [
        {
          "output_type": "stream",
          "text": [
            "(13067, 52) (13067,)\n"
          ],
          "name": "stdout"
        },
        {
          "output_type": "execute_result",
          "data": {
            "text/plain": [
              "0.6434036633433805"
            ]
          },
          "metadata": {
            "tags": []
          },
          "execution_count": 139
        }
      ]
    },
    {
      "cell_type": "code",
      "metadata": {
        "colab": {
          "base_uri": "https://localhost:8080/",
          "height": 215
        },
        "id": "uYo4uQA12W08",
        "outputId": "fdb3011d-8ebb-4849-ccf4-a1103c4b5354"
      },
      "source": [
        "X.head()"
      ],
      "execution_count": null,
      "outputs": [
        {
          "output_type": "execute_result",
          "data": {
            "text/html": [
              "<div>\n",
              "<style scoped>\n",
              "    .dataframe tbody tr th:only-of-type {\n",
              "        vertical-align: middle;\n",
              "    }\n",
              "\n",
              "    .dataframe tbody tr th {\n",
              "        vertical-align: top;\n",
              "    }\n",
              "\n",
              "    .dataframe thead th {\n",
              "        text-align: right;\n",
              "    }\n",
              "</style>\n",
              "<table border=\"1\" class=\"dataframe\">\n",
              "  <thead>\n",
              "    <tr style=\"text-align: right;\">\n",
              "      <th></th>\n",
              "      <th>coeff_var</th>\n",
              "      <th>fractal_dimension</th>\n",
              "      <th>kurtosis</th>\n",
              "      <th>secDiffMean</th>\n",
              "      <th>secDiffMax</th>\n",
              "      <th>skewness</th>\n",
              "      <th>first_diff_mean</th>\n",
              "      <th>first_diff_max</th>\n",
              "      <th>AR1_mean</th>\n",
              "      <th>AR1_min</th>\n",
              "      <th>AR1_max</th>\n",
              "      <th>AR2_mean</th>\n",
              "      <th>AR2_min</th>\n",
              "      <th>AR2_max</th>\n",
              "      <th>AR3_mean</th>\n",
              "      <th>AR3_min</th>\n",
              "      <th>AR3_max</th>\n",
              "      <th>hjorth_activity</th>\n",
              "      <th>hjorth_mobility</th>\n",
              "      <th>hjorth_complexity</th>\n",
              "      <th>PMax1</th>\n",
              "      <th>PMax2</th>\n",
              "      <th>PMax3</th>\n",
              "      <th>PMax4</th>\n",
              "      <th>PRatio1</th>\n",
              "      <th>PRatio2</th>\n",
              "      <th>PRatio3</th>\n",
              "      <th>PRatio4</th>\n",
              "      <th>cA_mean_mean</th>\n",
              "      <th>cA_mean_min</th>\n",
              "      <th>cA_mean_max</th>\n",
              "      <th>cA_std_mean</th>\n",
              "      <th>cA_std_min</th>\n",
              "      <th>cA_std_max</th>\n",
              "      <th>cA_Energy_mean</th>\n",
              "      <th>cA_Energy_min</th>\n",
              "      <th>cA_Energy_max</th>\n",
              "      <th>cD_mean_mean</th>\n",
              "      <th>cD_mean_min</th>\n",
              "      <th>cD_mean_max</th>\n",
              "      <th>cD_std_mean</th>\n",
              "      <th>cD_std_min</th>\n",
              "      <th>cD_std_max</th>\n",
              "      <th>cD_Energy_mean</th>\n",
              "      <th>cD_Energy_min</th>\n",
              "      <th>cD_Energy_max</th>\n",
              "      <th>Entropy_D_mean</th>\n",
              "      <th>Entropy_D_min</th>\n",
              "      <th>Entropy_D_max</th>\n",
              "      <th>Entropy_A_mean</th>\n",
              "      <th>Entropy_A_min</th>\n",
              "      <th>Entropy_A_max</th>\n",
              "    </tr>\n",
              "  </thead>\n",
              "  <tbody>\n",
              "    <tr>\n",
              "      <th>8881</th>\n",
              "      <td>-653.237235</td>\n",
              "      <td>1.964181</td>\n",
              "      <td>2.400335</td>\n",
              "      <td>3.488320</td>\n",
              "      <td>18.714958</td>\n",
              "      <td>-0.015652</td>\n",
              "      <td>4.614885</td>\n",
              "      <td>31.201944</td>\n",
              "      <td>-1.485804</td>\n",
              "      <td>-1.825564</td>\n",
              "      <td>-1.117763</td>\n",
              "      <td>0.867705</td>\n",
              "      <td>0.643257</td>\n",
              "      <td>1.043356</td>\n",
              "      <td>-0.219140</td>\n",
              "      <td>-0.346590</td>\n",
              "      <td>-0.067859</td>\n",
              "      <td>276.280952</td>\n",
              "      <td>0.507087</td>\n",
              "      <td>2.070994</td>\n",
              "      <td>0.010595</td>\n",
              "      <td>194.328083</td>\n",
              "      <td>38.077135</td>\n",
              "      <td>4.991970</td>\n",
              "      <td>0.000055</td>\n",
              "      <td>0.000278</td>\n",
              "      <td>38.928137</td>\n",
              "      <td>5.103816</td>\n",
              "      <td>-9.887924e-17</td>\n",
              "      <td>-0.338424</td>\n",
              "      <td>0.281975</td>\n",
              "      <td>19.619509</td>\n",
              "      <td>4.058483</td>\n",
              "      <td>52.508775</td>\n",
              "      <td>104073.161839</td>\n",
              "      <td>3195.533549</td>\n",
              "      <td>534895.309235</td>\n",
              "      <td>-5.464379e-17</td>\n",
              "      <td>-0.021258</td>\n",
              "      <td>0.025605</td>\n",
              "      <td>3.072807</td>\n",
              "      <td>1.151330</td>\n",
              "      <td>6.514758</td>\n",
              "      <td>2180.694971</td>\n",
              "      <td>257.159827</td>\n",
              "      <td>8233.816849</td>\n",
              "      <td>8022.030691</td>\n",
              "      <td>227.663816</td>\n",
              "      <td>3.930293e+04</td>\n",
              "      <td>853248.677702</td>\n",
              "      <td>11338.150744</td>\n",
              "      <td>4.976220e+06</td>\n",
              "    </tr>\n",
              "    <tr>\n",
              "      <th>6980</th>\n",
              "      <td>72.215513</td>\n",
              "      <td>1.991463</td>\n",
              "      <td>0.146082</td>\n",
              "      <td>6.475594</td>\n",
              "      <td>25.070591</td>\n",
              "      <td>-0.026670</td>\n",
              "      <td>8.027147</td>\n",
              "      <td>32.440508</td>\n",
              "      <td>-1.121326</td>\n",
              "      <td>-1.397677</td>\n",
              "      <td>-0.942250</td>\n",
              "      <td>0.766844</td>\n",
              "      <td>0.667293</td>\n",
              "      <td>0.913536</td>\n",
              "      <td>-0.315433</td>\n",
              "      <td>-0.387382</td>\n",
              "      <td>-0.126595</td>\n",
              "      <td>200.432253</td>\n",
              "      <td>0.813683</td>\n",
              "      <td>1.535197</td>\n",
              "      <td>0.010063</td>\n",
              "      <td>20.917706</td>\n",
              "      <td>31.024506</td>\n",
              "      <td>12.410623</td>\n",
              "      <td>0.000481</td>\n",
              "      <td>0.000324</td>\n",
              "      <td>1.685468</td>\n",
              "      <td>0.674556</td>\n",
              "      <td>-8.326673e-17</td>\n",
              "      <td>-0.374439</td>\n",
              "      <td>1.168590</td>\n",
              "      <td>16.255221</td>\n",
              "      <td>7.806743</td>\n",
              "      <td>59.526683</td>\n",
              "      <td>68513.945878</td>\n",
              "      <td>11823.377723</td>\n",
              "      <td>687689.578234</td>\n",
              "      <td>-1.014813e-16</td>\n",
              "      <td>-0.025951</td>\n",
              "      <td>0.064702</td>\n",
              "      <td>5.774239</td>\n",
              "      <td>2.047122</td>\n",
              "      <td>24.270376</td>\n",
              "      <td>9750.430331</td>\n",
              "      <td>812.998303</td>\n",
              "      <td>114276.734385</td>\n",
              "      <td>53910.387302</td>\n",
              "      <td>1814.660940</td>\n",
              "      <td>8.042087e+05</td>\n",
              "      <td>500380.513896</td>\n",
              "      <td>59010.240385</td>\n",
              "      <td>6.130247e+06</td>\n",
              "    </tr>\n",
              "    <tr>\n",
              "      <th>18773</th>\n",
              "      <td>51.080333</td>\n",
              "      <td>1.997740</td>\n",
              "      <td>1.930806</td>\n",
              "      <td>5.854897</td>\n",
              "      <td>25.613825</td>\n",
              "      <td>-0.014417</td>\n",
              "      <td>7.087585</td>\n",
              "      <td>31.944456</td>\n",
              "      <td>-1.001231</td>\n",
              "      <td>-1.241512</td>\n",
              "      <td>-0.753450</td>\n",
              "      <td>0.702532</td>\n",
              "      <td>0.619927</td>\n",
              "      <td>0.856224</td>\n",
              "      <td>-0.422893</td>\n",
              "      <td>-0.568236</td>\n",
              "      <td>-0.255201</td>\n",
              "      <td>159.776557</td>\n",
              "      <td>0.848481</td>\n",
              "      <td>1.595434</td>\n",
              "      <td>0.073754</td>\n",
              "      <td>25.419223</td>\n",
              "      <td>12.125876</td>\n",
              "      <td>5.548595</td>\n",
              "      <td>0.002902</td>\n",
              "      <td>0.006082</td>\n",
              "      <td>4.581200</td>\n",
              "      <td>2.102362</td>\n",
              "      <td>1.249001e-16</td>\n",
              "      <td>-0.209973</td>\n",
              "      <td>0.211900</td>\n",
              "      <td>13.537297</td>\n",
              "      <td>4.982554</td>\n",
              "      <td>56.401663</td>\n",
              "      <td>51811.799259</td>\n",
              "      <td>4816.216120</td>\n",
              "      <td>617145.531155</td>\n",
              "      <td>-1.387779e-16</td>\n",
              "      <td>-0.111390</td>\n",
              "      <td>0.193663</td>\n",
              "      <td>5.802550</td>\n",
              "      <td>1.693292</td>\n",
              "      <td>28.289691</td>\n",
              "      <td>10967.160250</td>\n",
              "      <td>556.313700</td>\n",
              "      <td>155266.757695</td>\n",
              "      <td>64274.052748</td>\n",
              "      <td>1123.675372</td>\n",
              "      <td>1.151290e+06</td>\n",
              "      <td>385822.216259</td>\n",
              "      <td>18411.365526</td>\n",
              "      <td>5.510635e+06</td>\n",
              "    </tr>\n",
              "    <tr>\n",
              "      <th>7138</th>\n",
              "      <td>5.678293</td>\n",
              "      <td>1.990888</td>\n",
              "      <td>0.080560</td>\n",
              "      <td>4.225086</td>\n",
              "      <td>16.432550</td>\n",
              "      <td>-0.010089</td>\n",
              "      <td>5.201274</td>\n",
              "      <td>21.449215</td>\n",
              "      <td>-1.117643</td>\n",
              "      <td>-1.276469</td>\n",
              "      <td>-0.967461</td>\n",
              "      <td>0.713220</td>\n",
              "      <td>0.578505</td>\n",
              "      <td>0.866105</td>\n",
              "      <td>-0.290859</td>\n",
              "      <td>-0.375927</td>\n",
              "      <td>-0.236398</td>\n",
              "      <td>99.535873</td>\n",
              "      <td>0.773918</td>\n",
              "      <td>1.631120</td>\n",
              "      <td>0.011580</td>\n",
              "      <td>20.613488</td>\n",
              "      <td>13.501971</td>\n",
              "      <td>4.726376</td>\n",
              "      <td>0.000562</td>\n",
              "      <td>0.000858</td>\n",
              "      <td>4.361373</td>\n",
              "      <td>1.527560</td>\n",
              "      <td>4.163336e-17</td>\n",
              "      <td>-2.299335</td>\n",
              "      <td>1.270020</td>\n",
              "      <td>11.464733</td>\n",
              "      <td>4.761372</td>\n",
              "      <td>44.192757</td>\n",
              "      <td>35133.445959</td>\n",
              "      <td>4411.087092</td>\n",
              "      <td>379907.630722</td>\n",
              "      <td>2.168404e-18</td>\n",
              "      <td>-0.062745</td>\n",
              "      <td>0.129936</td>\n",
              "      <td>3.981972</td>\n",
              "      <td>1.498612</td>\n",
              "      <td>15.765133</td>\n",
              "      <td>4328.551152</td>\n",
              "      <td>435.735072</td>\n",
              "      <td>48219.920465</td>\n",
              "      <td>20134.248375</td>\n",
              "      <td>651.870449</td>\n",
              "      <td>3.040354e+05</td>\n",
              "      <td>233924.795614</td>\n",
              "      <td>16805.100603</td>\n",
              "      <td>3.156649e+06</td>\n",
              "    </tr>\n",
              "    <tr>\n",
              "      <th>5543</th>\n",
              "      <td>-48.459438</td>\n",
              "      <td>1.983340</td>\n",
              "      <td>0.216440</td>\n",
              "      <td>2.987443</td>\n",
              "      <td>11.413350</td>\n",
              "      <td>-0.086859</td>\n",
              "      <td>3.829231</td>\n",
              "      <td>15.332635</td>\n",
              "      <td>-1.238982</td>\n",
              "      <td>-1.636695</td>\n",
              "      <td>-0.654078</td>\n",
              "      <td>0.838639</td>\n",
              "      <td>0.526439</td>\n",
              "      <td>1.114488</td>\n",
              "      <td>-0.320774</td>\n",
              "      <td>-0.396897</td>\n",
              "      <td>-0.228626</td>\n",
              "      <td>43.549299</td>\n",
              "      <td>0.738343</td>\n",
              "      <td>1.630877</td>\n",
              "      <td>0.006475</td>\n",
              "      <td>7.803888</td>\n",
              "      <td>10.198691</td>\n",
              "      <td>3.404676</td>\n",
              "      <td>0.000830</td>\n",
              "      <td>0.000635</td>\n",
              "      <td>2.292109</td>\n",
              "      <td>0.765820</td>\n",
              "      <td>3.469447e-18</td>\n",
              "      <td>-0.561133</td>\n",
              "      <td>0.796584</td>\n",
              "      <td>8.444428</td>\n",
              "      <td>5.667576</td>\n",
              "      <td>14.396807</td>\n",
              "      <td>14772.902622</td>\n",
              "      <td>6238.446200</td>\n",
              "      <td>40333.106365</td>\n",
              "      <td>-8.998878e-17</td>\n",
              "      <td>-0.025593</td>\n",
              "      <td>0.028470</td>\n",
              "      <td>2.876462</td>\n",
              "      <td>1.505862</td>\n",
              "      <td>8.933592</td>\n",
              "      <td>2094.492481</td>\n",
              "      <td>439.931900</td>\n",
              "      <td>15482.965641</td>\n",
              "      <td>7800.497372</td>\n",
              "      <td>681.426587</td>\n",
              "      <td>8.086052e+04</td>\n",
              "      <td>77141.496031</td>\n",
              "      <td>26252.581305</td>\n",
              "      <td>2.416832e+05</td>\n",
              "    </tr>\n",
              "  </tbody>\n",
              "</table>\n",
              "</div>"
            ],
            "text/plain": [
              "        coeff_var  fractal_dimension  ...  Entropy_A_min  Entropy_A_max\n",
              "8881  -653.237235           1.964181  ...   11338.150744   4.976220e+06\n",
              "6980    72.215513           1.991463  ...   59010.240385   6.130247e+06\n",
              "18773   51.080333           1.997740  ...   18411.365526   5.510635e+06\n",
              "7138     5.678293           1.990888  ...   16805.100603   3.156649e+06\n",
              "5543   -48.459438           1.983340  ...   26252.581305   2.416832e+05\n",
              "\n",
              "[5 rows x 52 columns]"
            ]
          },
          "metadata": {
            "tags": []
          },
          "execution_count": 140
        }
      ]
    },
    {
      "cell_type": "code",
      "metadata": {
        "colab": {
          "base_uri": "https://localhost:8080/",
          "height": 215
        },
        "id": "j4dFv6Ed2W08",
        "outputId": "1314e222-b5b3-49f4-8ae3-f609b4e3d871"
      },
      "source": [
        "df.head()"
      ],
      "execution_count": null,
      "outputs": [
        {
          "output_type": "execute_result",
          "data": {
            "text/html": [
              "<div>\n",
              "<style scoped>\n",
              "    .dataframe tbody tr th:only-of-type {\n",
              "        vertical-align: middle;\n",
              "    }\n",
              "\n",
              "    .dataframe tbody tr th {\n",
              "        vertical-align: top;\n",
              "    }\n",
              "\n",
              "    .dataframe thead th {\n",
              "        text-align: right;\n",
              "    }\n",
              "</style>\n",
              "<table border=\"1\" class=\"dataframe\">\n",
              "  <thead>\n",
              "    <tr style=\"text-align: right;\">\n",
              "      <th></th>\n",
              "      <th>coeff_var</th>\n",
              "      <th>fractal_dimension</th>\n",
              "      <th>kurtosis</th>\n",
              "      <th>secDiffMean</th>\n",
              "      <th>secDiffMax</th>\n",
              "      <th>skewness</th>\n",
              "      <th>first_diff_mean</th>\n",
              "      <th>first_diff_max</th>\n",
              "      <th>AR1_mean</th>\n",
              "      <th>AR1_min</th>\n",
              "      <th>AR1_max</th>\n",
              "      <th>AR2_mean</th>\n",
              "      <th>AR2_min</th>\n",
              "      <th>AR2_max</th>\n",
              "      <th>AR3_mean</th>\n",
              "      <th>AR3_min</th>\n",
              "      <th>AR3_max</th>\n",
              "      <th>hjorth_activity</th>\n",
              "      <th>hjorth_mobility</th>\n",
              "      <th>hjorth_complexity</th>\n",
              "      <th>PMax1</th>\n",
              "      <th>PMax2</th>\n",
              "      <th>PMax3</th>\n",
              "      <th>PMax4</th>\n",
              "      <th>PRatio1</th>\n",
              "      <th>PRatio2</th>\n",
              "      <th>PRatio3</th>\n",
              "      <th>PRatio4</th>\n",
              "      <th>cA_mean_mean</th>\n",
              "      <th>cA_mean_min</th>\n",
              "      <th>cA_mean_max</th>\n",
              "      <th>cA_std_mean</th>\n",
              "      <th>cA_std_min</th>\n",
              "      <th>cA_std_max</th>\n",
              "      <th>cA_Energy_mean</th>\n",
              "      <th>cA_Energy_min</th>\n",
              "      <th>cA_Energy_max</th>\n",
              "      <th>cD_mean_mean</th>\n",
              "      <th>cD_mean_min</th>\n",
              "      <th>cD_mean_max</th>\n",
              "      <th>cD_std_mean</th>\n",
              "      <th>cD_std_min</th>\n",
              "      <th>cD_std_max</th>\n",
              "      <th>cD_Energy_mean</th>\n",
              "      <th>cD_Energy_min</th>\n",
              "      <th>cD_Energy_max</th>\n",
              "      <th>Entropy_D_mean</th>\n",
              "      <th>Entropy_D_min</th>\n",
              "      <th>Entropy_D_max</th>\n",
              "      <th>Entropy_A_mean</th>\n",
              "      <th>Entropy_A_min</th>\n",
              "      <th>Entropy_A_max</th>\n",
              "      <th>valence</th>\n",
              "      <th>arousal</th>\n",
              "      <th>dominance</th>\n",
              "      <th>liking</th>\n",
              "    </tr>\n",
              "  </thead>\n",
              "  <tbody>\n",
              "    <tr>\n",
              "      <th>8881</th>\n",
              "      <td>-653.237235</td>\n",
              "      <td>1.964181</td>\n",
              "      <td>2.400335</td>\n",
              "      <td>3.488320</td>\n",
              "      <td>18.714958</td>\n",
              "      <td>-0.015652</td>\n",
              "      <td>4.614885</td>\n",
              "      <td>31.201944</td>\n",
              "      <td>-1.485804</td>\n",
              "      <td>-1.825564</td>\n",
              "      <td>-1.117763</td>\n",
              "      <td>0.867705</td>\n",
              "      <td>0.643257</td>\n",
              "      <td>1.043356</td>\n",
              "      <td>-0.219140</td>\n",
              "      <td>-0.346590</td>\n",
              "      <td>-0.067859</td>\n",
              "      <td>276.280952</td>\n",
              "      <td>0.507087</td>\n",
              "      <td>2.070994</td>\n",
              "      <td>0.010595</td>\n",
              "      <td>194.328083</td>\n",
              "      <td>38.077135</td>\n",
              "      <td>4.991970</td>\n",
              "      <td>0.000055</td>\n",
              "      <td>0.000278</td>\n",
              "      <td>38.928137</td>\n",
              "      <td>5.103816</td>\n",
              "      <td>-9.887924e-17</td>\n",
              "      <td>-0.338424</td>\n",
              "      <td>0.281975</td>\n",
              "      <td>19.619509</td>\n",
              "      <td>4.058483</td>\n",
              "      <td>52.508775</td>\n",
              "      <td>104073.161839</td>\n",
              "      <td>3195.533549</td>\n",
              "      <td>534895.309235</td>\n",
              "      <td>-5.464379e-17</td>\n",
              "      <td>-0.021258</td>\n",
              "      <td>0.025605</td>\n",
              "      <td>3.072807</td>\n",
              "      <td>1.151330</td>\n",
              "      <td>6.514758</td>\n",
              "      <td>2180.694971</td>\n",
              "      <td>257.159827</td>\n",
              "      <td>8233.816849</td>\n",
              "      <td>8022.030691</td>\n",
              "      <td>227.663816</td>\n",
              "      <td>3.930293e+04</td>\n",
              "      <td>853248.677702</td>\n",
              "      <td>11338.150744</td>\n",
              "      <td>4.976220e+06</td>\n",
              "      <td>0.0</td>\n",
              "      <td>1.0</td>\n",
              "      <td>0.0</td>\n",
              "      <td>1.0</td>\n",
              "    </tr>\n",
              "    <tr>\n",
              "      <th>6980</th>\n",
              "      <td>72.215513</td>\n",
              "      <td>1.991463</td>\n",
              "      <td>0.146082</td>\n",
              "      <td>6.475594</td>\n",
              "      <td>25.070591</td>\n",
              "      <td>-0.026670</td>\n",
              "      <td>8.027147</td>\n",
              "      <td>32.440508</td>\n",
              "      <td>-1.121326</td>\n",
              "      <td>-1.397677</td>\n",
              "      <td>-0.942250</td>\n",
              "      <td>0.766844</td>\n",
              "      <td>0.667293</td>\n",
              "      <td>0.913536</td>\n",
              "      <td>-0.315433</td>\n",
              "      <td>-0.387382</td>\n",
              "      <td>-0.126595</td>\n",
              "      <td>200.432253</td>\n",
              "      <td>0.813683</td>\n",
              "      <td>1.535197</td>\n",
              "      <td>0.010063</td>\n",
              "      <td>20.917706</td>\n",
              "      <td>31.024506</td>\n",
              "      <td>12.410623</td>\n",
              "      <td>0.000481</td>\n",
              "      <td>0.000324</td>\n",
              "      <td>1.685468</td>\n",
              "      <td>0.674556</td>\n",
              "      <td>-8.326673e-17</td>\n",
              "      <td>-0.374439</td>\n",
              "      <td>1.168590</td>\n",
              "      <td>16.255221</td>\n",
              "      <td>7.806743</td>\n",
              "      <td>59.526683</td>\n",
              "      <td>68513.945878</td>\n",
              "      <td>11823.377723</td>\n",
              "      <td>687689.578234</td>\n",
              "      <td>-1.014813e-16</td>\n",
              "      <td>-0.025951</td>\n",
              "      <td>0.064702</td>\n",
              "      <td>5.774239</td>\n",
              "      <td>2.047122</td>\n",
              "      <td>24.270376</td>\n",
              "      <td>9750.430331</td>\n",
              "      <td>812.998303</td>\n",
              "      <td>114276.734385</td>\n",
              "      <td>53910.387302</td>\n",
              "      <td>1814.660940</td>\n",
              "      <td>8.042087e+05</td>\n",
              "      <td>500380.513896</td>\n",
              "      <td>59010.240385</td>\n",
              "      <td>6.130247e+06</td>\n",
              "      <td>1.0</td>\n",
              "      <td>0.0</td>\n",
              "      <td>0.0</td>\n",
              "      <td>1.0</td>\n",
              "    </tr>\n",
              "    <tr>\n",
              "      <th>18773</th>\n",
              "      <td>51.080333</td>\n",
              "      <td>1.997740</td>\n",
              "      <td>1.930806</td>\n",
              "      <td>5.854897</td>\n",
              "      <td>25.613825</td>\n",
              "      <td>-0.014417</td>\n",
              "      <td>7.087585</td>\n",
              "      <td>31.944456</td>\n",
              "      <td>-1.001231</td>\n",
              "      <td>-1.241512</td>\n",
              "      <td>-0.753450</td>\n",
              "      <td>0.702532</td>\n",
              "      <td>0.619927</td>\n",
              "      <td>0.856224</td>\n",
              "      <td>-0.422893</td>\n",
              "      <td>-0.568236</td>\n",
              "      <td>-0.255201</td>\n",
              "      <td>159.776557</td>\n",
              "      <td>0.848481</td>\n",
              "      <td>1.595434</td>\n",
              "      <td>0.073754</td>\n",
              "      <td>25.419223</td>\n",
              "      <td>12.125876</td>\n",
              "      <td>5.548595</td>\n",
              "      <td>0.002902</td>\n",
              "      <td>0.006082</td>\n",
              "      <td>4.581200</td>\n",
              "      <td>2.102362</td>\n",
              "      <td>1.249001e-16</td>\n",
              "      <td>-0.209973</td>\n",
              "      <td>0.211900</td>\n",
              "      <td>13.537297</td>\n",
              "      <td>4.982554</td>\n",
              "      <td>56.401663</td>\n",
              "      <td>51811.799259</td>\n",
              "      <td>4816.216120</td>\n",
              "      <td>617145.531155</td>\n",
              "      <td>-1.387779e-16</td>\n",
              "      <td>-0.111390</td>\n",
              "      <td>0.193663</td>\n",
              "      <td>5.802550</td>\n",
              "      <td>1.693292</td>\n",
              "      <td>28.289691</td>\n",
              "      <td>10967.160250</td>\n",
              "      <td>556.313700</td>\n",
              "      <td>155266.757695</td>\n",
              "      <td>64274.052748</td>\n",
              "      <td>1123.675372</td>\n",
              "      <td>1.151290e+06</td>\n",
              "      <td>385822.216259</td>\n",
              "      <td>18411.365526</td>\n",
              "      <td>5.510635e+06</td>\n",
              "      <td>1.0</td>\n",
              "      <td>1.0</td>\n",
              "      <td>1.0</td>\n",
              "      <td>1.0</td>\n",
              "    </tr>\n",
              "    <tr>\n",
              "      <th>7138</th>\n",
              "      <td>5.678293</td>\n",
              "      <td>1.990888</td>\n",
              "      <td>0.080560</td>\n",
              "      <td>4.225086</td>\n",
              "      <td>16.432550</td>\n",
              "      <td>-0.010089</td>\n",
              "      <td>5.201274</td>\n",
              "      <td>21.449215</td>\n",
              "      <td>-1.117643</td>\n",
              "      <td>-1.276469</td>\n",
              "      <td>-0.967461</td>\n",
              "      <td>0.713220</td>\n",
              "      <td>0.578505</td>\n",
              "      <td>0.866105</td>\n",
              "      <td>-0.290859</td>\n",
              "      <td>-0.375927</td>\n",
              "      <td>-0.236398</td>\n",
              "      <td>99.535873</td>\n",
              "      <td>0.773918</td>\n",
              "      <td>1.631120</td>\n",
              "      <td>0.011580</td>\n",
              "      <td>20.613488</td>\n",
              "      <td>13.501971</td>\n",
              "      <td>4.726376</td>\n",
              "      <td>0.000562</td>\n",
              "      <td>0.000858</td>\n",
              "      <td>4.361373</td>\n",
              "      <td>1.527560</td>\n",
              "      <td>4.163336e-17</td>\n",
              "      <td>-2.299335</td>\n",
              "      <td>1.270020</td>\n",
              "      <td>11.464733</td>\n",
              "      <td>4.761372</td>\n",
              "      <td>44.192757</td>\n",
              "      <td>35133.445959</td>\n",
              "      <td>4411.087092</td>\n",
              "      <td>379907.630722</td>\n",
              "      <td>2.168404e-18</td>\n",
              "      <td>-0.062745</td>\n",
              "      <td>0.129936</td>\n",
              "      <td>3.981972</td>\n",
              "      <td>1.498612</td>\n",
              "      <td>15.765133</td>\n",
              "      <td>4328.551152</td>\n",
              "      <td>435.735072</td>\n",
              "      <td>48219.920465</td>\n",
              "      <td>20134.248375</td>\n",
              "      <td>651.870449</td>\n",
              "      <td>3.040354e+05</td>\n",
              "      <td>233924.795614</td>\n",
              "      <td>16805.100603</td>\n",
              "      <td>3.156649e+06</td>\n",
              "      <td>1.0</td>\n",
              "      <td>1.0</td>\n",
              "      <td>1.0</td>\n",
              "      <td>1.0</td>\n",
              "    </tr>\n",
              "    <tr>\n",
              "      <th>5543</th>\n",
              "      <td>-48.459438</td>\n",
              "      <td>1.983340</td>\n",
              "      <td>0.216440</td>\n",
              "      <td>2.987443</td>\n",
              "      <td>11.413350</td>\n",
              "      <td>-0.086859</td>\n",
              "      <td>3.829231</td>\n",
              "      <td>15.332635</td>\n",
              "      <td>-1.238982</td>\n",
              "      <td>-1.636695</td>\n",
              "      <td>-0.654078</td>\n",
              "      <td>0.838639</td>\n",
              "      <td>0.526439</td>\n",
              "      <td>1.114488</td>\n",
              "      <td>-0.320774</td>\n",
              "      <td>-0.396897</td>\n",
              "      <td>-0.228626</td>\n",
              "      <td>43.549299</td>\n",
              "      <td>0.738343</td>\n",
              "      <td>1.630877</td>\n",
              "      <td>0.006475</td>\n",
              "      <td>7.803888</td>\n",
              "      <td>10.198691</td>\n",
              "      <td>3.404676</td>\n",
              "      <td>0.000830</td>\n",
              "      <td>0.000635</td>\n",
              "      <td>2.292109</td>\n",
              "      <td>0.765820</td>\n",
              "      <td>3.469447e-18</td>\n",
              "      <td>-0.561133</td>\n",
              "      <td>0.796584</td>\n",
              "      <td>8.444428</td>\n",
              "      <td>5.667576</td>\n",
              "      <td>14.396807</td>\n",
              "      <td>14772.902622</td>\n",
              "      <td>6238.446200</td>\n",
              "      <td>40333.106365</td>\n",
              "      <td>-8.998878e-17</td>\n",
              "      <td>-0.025593</td>\n",
              "      <td>0.028470</td>\n",
              "      <td>2.876462</td>\n",
              "      <td>1.505862</td>\n",
              "      <td>8.933592</td>\n",
              "      <td>2094.492481</td>\n",
              "      <td>439.931900</td>\n",
              "      <td>15482.965641</td>\n",
              "      <td>7800.497372</td>\n",
              "      <td>681.426587</td>\n",
              "      <td>8.086052e+04</td>\n",
              "      <td>77141.496031</td>\n",
              "      <td>26252.581305</td>\n",
              "      <td>2.416832e+05</td>\n",
              "      <td>0.0</td>\n",
              "      <td>1.0</td>\n",
              "      <td>0.0</td>\n",
              "      <td>1.0</td>\n",
              "    </tr>\n",
              "  </tbody>\n",
              "</table>\n",
              "</div>"
            ],
            "text/plain": [
              "        coeff_var  fractal_dimension  kurtosis  ...  arousal  dominance  liking\n",
              "8881  -653.237235           1.964181  2.400335  ...      1.0        0.0     1.0\n",
              "6980    72.215513           1.991463  0.146082  ...      0.0        0.0     1.0\n",
              "18773   51.080333           1.997740  1.930806  ...      1.0        1.0     1.0\n",
              "7138     5.678293           1.990888  0.080560  ...      1.0        1.0     1.0\n",
              "5543   -48.459438           1.983340  0.216440  ...      1.0        0.0     1.0\n",
              "\n",
              "[5 rows x 56 columns]"
            ]
          },
          "metadata": {
            "tags": []
          },
          "execution_count": 141
        }
      ]
    },
    {
      "cell_type": "markdown",
      "metadata": {
        "id": "vd9TlC_A2W08"
      },
      "source": [
        "# Feature Selection Techniques"
      ]
    },
    {
      "cell_type": "markdown",
      "metadata": {
        "id": "6QmbOD8L2W09"
      },
      "source": [
        "## 1. Borurta"
      ]
    },
    {
      "cell_type": "code",
      "metadata": {
        "id": "YaK77JdU4XXg"
      },
      "source": [
        ""
      ],
      "execution_count": null,
      "outputs": []
    },
    {
      "cell_type": "code",
      "metadata": {
        "id": "ClElt8UM2W09"
      },
      "source": [
        "X_shadow = X.apply(np.random.permutation)\n",
        "X_shadow.columns = ['shadow_' + feat for feat in X.columns]\n",
        "### make X_boruta by appending X_shadow to X\n",
        "X_boruta = pd.concat([X, X_shadow], axis = 1)"
      ],
      "execution_count": null,
      "outputs": []
    },
    {
      "cell_type": "code",
      "metadata": {
        "colab": {
          "base_uri": "https://localhost:8080/",
          "height": 244
        },
        "id": "d_xXnPRN2W09",
        "outputId": "368eb002-a492-463a-eb8c-679a3a667d07"
      },
      "source": [
        "X_boruta.head()"
      ],
      "execution_count": null,
      "outputs": [
        {
          "output_type": "execute_result",
          "data": {
            "text/html": [
              "<div>\n",
              "<style scoped>\n",
              "    .dataframe tbody tr th:only-of-type {\n",
              "        vertical-align: middle;\n",
              "    }\n",
              "\n",
              "    .dataframe tbody tr th {\n",
              "        vertical-align: top;\n",
              "    }\n",
              "\n",
              "    .dataframe thead th {\n",
              "        text-align: right;\n",
              "    }\n",
              "</style>\n",
              "<table border=\"1\" class=\"dataframe\">\n",
              "  <thead>\n",
              "    <tr style=\"text-align: right;\">\n",
              "      <th></th>\n",
              "      <th>coeff_var</th>\n",
              "      <th>fractal_dimension</th>\n",
              "      <th>kurtosis</th>\n",
              "      <th>secDiffMean</th>\n",
              "      <th>secDiffMax</th>\n",
              "      <th>skewness</th>\n",
              "      <th>first_diff_mean</th>\n",
              "      <th>first_diff_max</th>\n",
              "      <th>AR1_mean</th>\n",
              "      <th>AR1_min</th>\n",
              "      <th>AR1_max</th>\n",
              "      <th>AR2_mean</th>\n",
              "      <th>AR2_min</th>\n",
              "      <th>AR2_max</th>\n",
              "      <th>AR3_mean</th>\n",
              "      <th>AR3_min</th>\n",
              "      <th>AR3_max</th>\n",
              "      <th>hjorth_activity</th>\n",
              "      <th>hjorth_mobility</th>\n",
              "      <th>hjorth_complexity</th>\n",
              "      <th>PMax1</th>\n",
              "      <th>PMax2</th>\n",
              "      <th>PMax3</th>\n",
              "      <th>PMax4</th>\n",
              "      <th>PRatio1</th>\n",
              "      <th>PRatio2</th>\n",
              "      <th>PRatio3</th>\n",
              "      <th>PRatio4</th>\n",
              "      <th>cA_mean_mean</th>\n",
              "      <th>cA_mean_min</th>\n",
              "      <th>cA_mean_max</th>\n",
              "      <th>cA_std_mean</th>\n",
              "      <th>cA_std_min</th>\n",
              "      <th>cA_std_max</th>\n",
              "      <th>cA_Energy_mean</th>\n",
              "      <th>cA_Energy_min</th>\n",
              "      <th>cA_Energy_max</th>\n",
              "      <th>cD_mean_mean</th>\n",
              "      <th>cD_mean_min</th>\n",
              "      <th>cD_mean_max</th>\n",
              "      <th>...</th>\n",
              "      <th>shadow_AR2_min</th>\n",
              "      <th>shadow_AR2_max</th>\n",
              "      <th>shadow_AR3_mean</th>\n",
              "      <th>shadow_AR3_min</th>\n",
              "      <th>shadow_AR3_max</th>\n",
              "      <th>shadow_hjorth_activity</th>\n",
              "      <th>shadow_hjorth_mobility</th>\n",
              "      <th>shadow_hjorth_complexity</th>\n",
              "      <th>shadow_PMax1</th>\n",
              "      <th>shadow_PMax2</th>\n",
              "      <th>shadow_PMax3</th>\n",
              "      <th>shadow_PMax4</th>\n",
              "      <th>shadow_PRatio1</th>\n",
              "      <th>shadow_PRatio2</th>\n",
              "      <th>shadow_PRatio3</th>\n",
              "      <th>shadow_PRatio4</th>\n",
              "      <th>shadow_cA_mean_mean</th>\n",
              "      <th>shadow_cA_mean_min</th>\n",
              "      <th>shadow_cA_mean_max</th>\n",
              "      <th>shadow_cA_std_mean</th>\n",
              "      <th>shadow_cA_std_min</th>\n",
              "      <th>shadow_cA_std_max</th>\n",
              "      <th>shadow_cA_Energy_mean</th>\n",
              "      <th>shadow_cA_Energy_min</th>\n",
              "      <th>shadow_cA_Energy_max</th>\n",
              "      <th>shadow_cD_mean_mean</th>\n",
              "      <th>shadow_cD_mean_min</th>\n",
              "      <th>shadow_cD_mean_max</th>\n",
              "      <th>shadow_cD_std_mean</th>\n",
              "      <th>shadow_cD_std_min</th>\n",
              "      <th>shadow_cD_std_max</th>\n",
              "      <th>shadow_cD_Energy_mean</th>\n",
              "      <th>shadow_cD_Energy_min</th>\n",
              "      <th>shadow_cD_Energy_max</th>\n",
              "      <th>shadow_Entropy_D_mean</th>\n",
              "      <th>shadow_Entropy_D_min</th>\n",
              "      <th>shadow_Entropy_D_max</th>\n",
              "      <th>shadow_Entropy_A_mean</th>\n",
              "      <th>shadow_Entropy_A_min</th>\n",
              "      <th>shadow_Entropy_A_max</th>\n",
              "    </tr>\n",
              "  </thead>\n",
              "  <tbody>\n",
              "    <tr>\n",
              "      <th>8881</th>\n",
              "      <td>-653.237235</td>\n",
              "      <td>1.964181</td>\n",
              "      <td>2.400335</td>\n",
              "      <td>3.488320</td>\n",
              "      <td>18.714958</td>\n",
              "      <td>-0.015652</td>\n",
              "      <td>4.614885</td>\n",
              "      <td>31.201944</td>\n",
              "      <td>-1.485804</td>\n",
              "      <td>-1.825564</td>\n",
              "      <td>-1.117763</td>\n",
              "      <td>0.867705</td>\n",
              "      <td>0.643257</td>\n",
              "      <td>1.043356</td>\n",
              "      <td>-0.219140</td>\n",
              "      <td>-0.346590</td>\n",
              "      <td>-0.067859</td>\n",
              "      <td>276.280952</td>\n",
              "      <td>0.507087</td>\n",
              "      <td>2.070994</td>\n",
              "      <td>0.010595</td>\n",
              "      <td>194.328083</td>\n",
              "      <td>38.077135</td>\n",
              "      <td>4.991970</td>\n",
              "      <td>0.000055</td>\n",
              "      <td>0.000278</td>\n",
              "      <td>38.928137</td>\n",
              "      <td>5.103816</td>\n",
              "      <td>-9.887924e-17</td>\n",
              "      <td>-0.338424</td>\n",
              "      <td>0.281975</td>\n",
              "      <td>19.619509</td>\n",
              "      <td>4.058483</td>\n",
              "      <td>52.508775</td>\n",
              "      <td>104073.161839</td>\n",
              "      <td>3195.533549</td>\n",
              "      <td>534895.309235</td>\n",
              "      <td>-5.464379e-17</td>\n",
              "      <td>-0.021258</td>\n",
              "      <td>0.025605</td>\n",
              "      <td>...</td>\n",
              "      <td>0.492204</td>\n",
              "      <td>0.697915</td>\n",
              "      <td>-0.286739</td>\n",
              "      <td>-0.446396</td>\n",
              "      <td>-0.301992</td>\n",
              "      <td>64.490336</td>\n",
              "      <td>0.448391</td>\n",
              "      <td>1.675083</td>\n",
              "      <td>0.015216</td>\n",
              "      <td>325.117100</td>\n",
              "      <td>2.643019</td>\n",
              "      <td>7.267447</td>\n",
              "      <td>0.004656</td>\n",
              "      <td>0.000204</td>\n",
              "      <td>1.018753</td>\n",
              "      <td>1.320459</td>\n",
              "      <td>1.734723e-16</td>\n",
              "      <td>-0.150672</td>\n",
              "      <td>2.086150</td>\n",
              "      <td>28.011483</td>\n",
              "      <td>4.428275</td>\n",
              "      <td>62.528607</td>\n",
              "      <td>38192.596561</td>\n",
              "      <td>8728.572837</td>\n",
              "      <td>805762.048339</td>\n",
              "      <td>-2.602085e-17</td>\n",
              "      <td>-0.082744</td>\n",
              "      <td>0.027239</td>\n",
              "      <td>4.869725</td>\n",
              "      <td>1.264031</td>\n",
              "      <td>22.972061</td>\n",
              "      <td>4430.466277</td>\n",
              "      <td>971.849099</td>\n",
              "      <td>1.530508e+04</td>\n",
              "      <td>117166.122552</td>\n",
              "      <td>638.433114</td>\n",
              "      <td>650881.857421</td>\n",
              "      <td>4.580013e+06</td>\n",
              "      <td>9245.155559</td>\n",
              "      <td>1.299281e+06</td>\n",
              "    </tr>\n",
              "    <tr>\n",
              "      <th>6980</th>\n",
              "      <td>72.215513</td>\n",
              "      <td>1.991463</td>\n",
              "      <td>0.146082</td>\n",
              "      <td>6.475594</td>\n",
              "      <td>25.070591</td>\n",
              "      <td>-0.026670</td>\n",
              "      <td>8.027147</td>\n",
              "      <td>32.440508</td>\n",
              "      <td>-1.121326</td>\n",
              "      <td>-1.397677</td>\n",
              "      <td>-0.942250</td>\n",
              "      <td>0.766844</td>\n",
              "      <td>0.667293</td>\n",
              "      <td>0.913536</td>\n",
              "      <td>-0.315433</td>\n",
              "      <td>-0.387382</td>\n",
              "      <td>-0.126595</td>\n",
              "      <td>200.432253</td>\n",
              "      <td>0.813683</td>\n",
              "      <td>1.535197</td>\n",
              "      <td>0.010063</td>\n",
              "      <td>20.917706</td>\n",
              "      <td>31.024506</td>\n",
              "      <td>12.410623</td>\n",
              "      <td>0.000481</td>\n",
              "      <td>0.000324</td>\n",
              "      <td>1.685468</td>\n",
              "      <td>0.674556</td>\n",
              "      <td>-8.326673e-17</td>\n",
              "      <td>-0.374439</td>\n",
              "      <td>1.168590</td>\n",
              "      <td>16.255221</td>\n",
              "      <td>7.806743</td>\n",
              "      <td>59.526683</td>\n",
              "      <td>68513.945878</td>\n",
              "      <td>11823.377723</td>\n",
              "      <td>687689.578234</td>\n",
              "      <td>-1.014813e-16</td>\n",
              "      <td>-0.025951</td>\n",
              "      <td>0.064702</td>\n",
              "      <td>...</td>\n",
              "      <td>0.730424</td>\n",
              "      <td>1.015116</td>\n",
              "      <td>-0.351213</td>\n",
              "      <td>-0.339735</td>\n",
              "      <td>-0.149733</td>\n",
              "      <td>1519.278071</td>\n",
              "      <td>0.467100</td>\n",
              "      <td>1.918252</td>\n",
              "      <td>0.012542</td>\n",
              "      <td>142.465669</td>\n",
              "      <td>6.340500</td>\n",
              "      <td>3.839153</td>\n",
              "      <td>0.000181</td>\n",
              "      <td>0.000844</td>\n",
              "      <td>3.038220</td>\n",
              "      <td>2.543485</td>\n",
              "      <td>-5.030698e-17</td>\n",
              "      <td>-1.891030</td>\n",
              "      <td>3.448967</td>\n",
              "      <td>15.711196</td>\n",
              "      <td>3.926234</td>\n",
              "      <td>19.190943</td>\n",
              "      <td>70570.631521</td>\n",
              "      <td>38617.724434</td>\n",
              "      <td>375303.296020</td>\n",
              "      <td>-2.558717e-17</td>\n",
              "      <td>-0.051181</td>\n",
              "      <td>0.110142</td>\n",
              "      <td>2.246372</td>\n",
              "      <td>1.556547</td>\n",
              "      <td>9.727536</td>\n",
              "      <td>2912.850758</td>\n",
              "      <td>311.569336</td>\n",
              "      <td>3.097175e+04</td>\n",
              "      <td>50095.705818</td>\n",
              "      <td>1302.012649</td>\n",
              "      <td>178105.692802</td>\n",
              "      <td>1.661748e+05</td>\n",
              "      <td>11072.081882</td>\n",
              "      <td>3.692609e+07</td>\n",
              "    </tr>\n",
              "    <tr>\n",
              "      <th>18773</th>\n",
              "      <td>51.080333</td>\n",
              "      <td>1.997740</td>\n",
              "      <td>1.930806</td>\n",
              "      <td>5.854897</td>\n",
              "      <td>25.613825</td>\n",
              "      <td>-0.014417</td>\n",
              "      <td>7.087585</td>\n",
              "      <td>31.944456</td>\n",
              "      <td>-1.001231</td>\n",
              "      <td>-1.241512</td>\n",
              "      <td>-0.753450</td>\n",
              "      <td>0.702532</td>\n",
              "      <td>0.619927</td>\n",
              "      <td>0.856224</td>\n",
              "      <td>-0.422893</td>\n",
              "      <td>-0.568236</td>\n",
              "      <td>-0.255201</td>\n",
              "      <td>159.776557</td>\n",
              "      <td>0.848481</td>\n",
              "      <td>1.595434</td>\n",
              "      <td>0.073754</td>\n",
              "      <td>25.419223</td>\n",
              "      <td>12.125876</td>\n",
              "      <td>5.548595</td>\n",
              "      <td>0.002902</td>\n",
              "      <td>0.006082</td>\n",
              "      <td>4.581200</td>\n",
              "      <td>2.102362</td>\n",
              "      <td>1.249001e-16</td>\n",
              "      <td>-0.209973</td>\n",
              "      <td>0.211900</td>\n",
              "      <td>13.537297</td>\n",
              "      <td>4.982554</td>\n",
              "      <td>56.401663</td>\n",
              "      <td>51811.799259</td>\n",
              "      <td>4816.216120</td>\n",
              "      <td>617145.531155</td>\n",
              "      <td>-1.387779e-16</td>\n",
              "      <td>-0.111390</td>\n",
              "      <td>0.193663</td>\n",
              "      <td>...</td>\n",
              "      <td>0.691302</td>\n",
              "      <td>0.844146</td>\n",
              "      <td>-0.358691</td>\n",
              "      <td>-0.603361</td>\n",
              "      <td>-0.238287</td>\n",
              "      <td>364.934582</td>\n",
              "      <td>0.997931</td>\n",
              "      <td>1.913880</td>\n",
              "      <td>1.261267</td>\n",
              "      <td>15.999301</td>\n",
              "      <td>1.128989</td>\n",
              "      <td>2.957195</td>\n",
              "      <td>0.000772</td>\n",
              "      <td>0.011072</td>\n",
              "      <td>3.534036</td>\n",
              "      <td>2.267414</td>\n",
              "      <td>2.532696e-16</td>\n",
              "      <td>-0.627213</td>\n",
              "      <td>1.798548</td>\n",
              "      <td>77.603139</td>\n",
              "      <td>8.986117</td>\n",
              "      <td>37.748440</td>\n",
              "      <td>44242.048292</td>\n",
              "      <td>7463.110831</td>\n",
              "      <td>600897.708562</td>\n",
              "      <td>7.285839e-17</td>\n",
              "      <td>-0.039268</td>\n",
              "      <td>0.025791</td>\n",
              "      <td>4.885932</td>\n",
              "      <td>4.714698</td>\n",
              "      <td>25.414418</td>\n",
              "      <td>1719.089989</td>\n",
              "      <td>662.761299</td>\n",
              "      <td>1.128009e+04</td>\n",
              "      <td>2030.704523</td>\n",
              "      <td>1501.095775</td>\n",
              "      <td>324474.687981</td>\n",
              "      <td>9.608634e+05</td>\n",
              "      <td>37927.198566</td>\n",
              "      <td>6.607023e+06</td>\n",
              "    </tr>\n",
              "    <tr>\n",
              "      <th>7138</th>\n",
              "      <td>5.678293</td>\n",
              "      <td>1.990888</td>\n",
              "      <td>0.080560</td>\n",
              "      <td>4.225086</td>\n",
              "      <td>16.432550</td>\n",
              "      <td>-0.010089</td>\n",
              "      <td>5.201274</td>\n",
              "      <td>21.449215</td>\n",
              "      <td>-1.117643</td>\n",
              "      <td>-1.276469</td>\n",
              "      <td>-0.967461</td>\n",
              "      <td>0.713220</td>\n",
              "      <td>0.578505</td>\n",
              "      <td>0.866105</td>\n",
              "      <td>-0.290859</td>\n",
              "      <td>-0.375927</td>\n",
              "      <td>-0.236398</td>\n",
              "      <td>99.535873</td>\n",
              "      <td>0.773918</td>\n",
              "      <td>1.631120</td>\n",
              "      <td>0.011580</td>\n",
              "      <td>20.613488</td>\n",
              "      <td>13.501971</td>\n",
              "      <td>4.726376</td>\n",
              "      <td>0.000562</td>\n",
              "      <td>0.000858</td>\n",
              "      <td>4.361373</td>\n",
              "      <td>1.527560</td>\n",
              "      <td>4.163336e-17</td>\n",
              "      <td>-2.299335</td>\n",
              "      <td>1.270020</td>\n",
              "      <td>11.464733</td>\n",
              "      <td>4.761372</td>\n",
              "      <td>44.192757</td>\n",
              "      <td>35133.445959</td>\n",
              "      <td>4411.087092</td>\n",
              "      <td>379907.630722</td>\n",
              "      <td>2.168404e-18</td>\n",
              "      <td>-0.062745</td>\n",
              "      <td>0.129936</td>\n",
              "      <td>...</td>\n",
              "      <td>0.692899</td>\n",
              "      <td>0.690478</td>\n",
              "      <td>-0.211855</td>\n",
              "      <td>-0.581405</td>\n",
              "      <td>-0.117974</td>\n",
              "      <td>206.796683</td>\n",
              "      <td>0.853854</td>\n",
              "      <td>1.828468</td>\n",
              "      <td>0.746509</td>\n",
              "      <td>11.832512</td>\n",
              "      <td>9.608839</td>\n",
              "      <td>7.850901</td>\n",
              "      <td>0.000734</td>\n",
              "      <td>0.001445</td>\n",
              "      <td>2.419478</td>\n",
              "      <td>1.502951</td>\n",
              "      <td>-1.304512e-15</td>\n",
              "      <td>-6.530696</td>\n",
              "      <td>2.367773</td>\n",
              "      <td>104.477372</td>\n",
              "      <td>7.654831</td>\n",
              "      <td>28.149184</td>\n",
              "      <td>17958.837010</td>\n",
              "      <td>2717.564542</td>\n",
              "      <td>866040.321058</td>\n",
              "      <td>3.295975e-17</td>\n",
              "      <td>-0.060760</td>\n",
              "      <td>0.050524</td>\n",
              "      <td>21.458077</td>\n",
              "      <td>1.225036</td>\n",
              "      <td>6.790242</td>\n",
              "      <td>5831.173478</td>\n",
              "      <td>710.431461</td>\n",
              "      <td>1.143684e+06</td>\n",
              "      <td>125370.669823</td>\n",
              "      <td>675.465480</td>\n",
              "      <td>65904.626004</td>\n",
              "      <td>2.885505e+05</td>\n",
              "      <td>18246.265655</td>\n",
              "      <td>3.182933e+04</td>\n",
              "    </tr>\n",
              "    <tr>\n",
              "      <th>5543</th>\n",
              "      <td>-48.459438</td>\n",
              "      <td>1.983340</td>\n",
              "      <td>0.216440</td>\n",
              "      <td>2.987443</td>\n",
              "      <td>11.413350</td>\n",
              "      <td>-0.086859</td>\n",
              "      <td>3.829231</td>\n",
              "      <td>15.332635</td>\n",
              "      <td>-1.238982</td>\n",
              "      <td>-1.636695</td>\n",
              "      <td>-0.654078</td>\n",
              "      <td>0.838639</td>\n",
              "      <td>0.526439</td>\n",
              "      <td>1.114488</td>\n",
              "      <td>-0.320774</td>\n",
              "      <td>-0.396897</td>\n",
              "      <td>-0.228626</td>\n",
              "      <td>43.549299</td>\n",
              "      <td>0.738343</td>\n",
              "      <td>1.630877</td>\n",
              "      <td>0.006475</td>\n",
              "      <td>7.803888</td>\n",
              "      <td>10.198691</td>\n",
              "      <td>3.404676</td>\n",
              "      <td>0.000830</td>\n",
              "      <td>0.000635</td>\n",
              "      <td>2.292109</td>\n",
              "      <td>0.765820</td>\n",
              "      <td>3.469447e-18</td>\n",
              "      <td>-0.561133</td>\n",
              "      <td>0.796584</td>\n",
              "      <td>8.444428</td>\n",
              "      <td>5.667576</td>\n",
              "      <td>14.396807</td>\n",
              "      <td>14772.902622</td>\n",
              "      <td>6238.446200</td>\n",
              "      <td>40333.106365</td>\n",
              "      <td>-8.998878e-17</td>\n",
              "      <td>-0.025593</td>\n",
              "      <td>0.028470</td>\n",
              "      <td>...</td>\n",
              "      <td>0.686994</td>\n",
              "      <td>1.104499</td>\n",
              "      <td>-0.284142</td>\n",
              "      <td>-0.433868</td>\n",
              "      <td>-0.218182</td>\n",
              "      <td>77.576693</td>\n",
              "      <td>0.952476</td>\n",
              "      <td>1.496190</td>\n",
              "      <td>0.002566</td>\n",
              "      <td>13.231250</td>\n",
              "      <td>9.295594</td>\n",
              "      <td>3.418771</td>\n",
              "      <td>0.000603</td>\n",
              "      <td>0.001410</td>\n",
              "      <td>14.110579</td>\n",
              "      <td>2.590019</td>\n",
              "      <td>1.387779e-16</td>\n",
              "      <td>-1.067176</td>\n",
              "      <td>2.864076</td>\n",
              "      <td>9.858221</td>\n",
              "      <td>4.376589</td>\n",
              "      <td>40.727425</td>\n",
              "      <td>257727.994020</td>\n",
              "      <td>19811.188218</td>\n",
              "      <td>83823.018531</td>\n",
              "      <td>-8.814564e-17</td>\n",
              "      <td>-0.022966</td>\n",
              "      <td>0.043672</td>\n",
              "      <td>4.453544</td>\n",
              "      <td>3.461213</td>\n",
              "      <td>4.800960</td>\n",
              "      <td>2798.246443</td>\n",
              "      <td>624.015819</td>\n",
              "      <td>3.373040e+03</td>\n",
              "      <td>34518.640123</td>\n",
              "      <td>825.164115</td>\n",
              "      <td>38732.060833</td>\n",
              "      <td>1.176570e+06</td>\n",
              "      <td>105493.215207</td>\n",
              "      <td>3.644058e+06</td>\n",
              "    </tr>\n",
              "  </tbody>\n",
              "</table>\n",
              "<p>5 rows × 104 columns</p>\n",
              "</div>"
            ],
            "text/plain": [
              "        coeff_var  ...  shadow_Entropy_A_max\n",
              "8881  -653.237235  ...          1.299281e+06\n",
              "6980    72.215513  ...          3.692609e+07\n",
              "18773   51.080333  ...          6.607023e+06\n",
              "7138     5.678293  ...          3.182933e+04\n",
              "5543   -48.459438  ...          3.644058e+06\n",
              "\n",
              "[5 rows x 104 columns]"
            ]
          },
          "metadata": {
            "tags": []
          },
          "execution_count": 143
        }
      ]
    },
    {
      "cell_type": "code",
      "metadata": {
        "id": "KQfsBShL2W09"
      },
      "source": [
        "from sklearn.ensemble import RandomForestClassifier\n",
        "### fit a random forest (suggested max_depth between 3 and 7)\n",
        "forest = RandomForestClassifier(max_depth = 5, random_state = 42)\n",
        "forest.fit(X_boruta, y)\n",
        "### store feature importances\n",
        "feat_imp_X = forest.feature_importances_[:len(df.columns)]\n",
        "feat_imp_shadow = forest.feature_importances_[len(df.columns):]\n",
        "### compute hits\n",
        "hits = feat_imp_X > feat_imp_shadow.max()"
      ],
      "execution_count": null,
      "outputs": []
    },
    {
      "cell_type": "code",
      "metadata": {
        "colab": {
          "base_uri": "https://localhost:8080/"
        },
        "id": "dRDsFDKb2W0-",
        "outputId": "0217dec2-590d-4cad-f68d-408855208523"
      },
      "source": [
        "feat_imp_X"
      ],
      "execution_count": null,
      "outputs": [
        {
          "output_type": "execute_result",
          "data": {
            "text/plain": [
              "array([0.00295545, 0.02097309, 0.01091367, 0.0253831 , 0.01197288,\n",
              "       0.01316471, 0.03841999, 0.01058422, 0.00533018, 0.01021523,\n",
              "       0.00692996, 0.02672182, 0.00788731, 0.01040572, 0.04991303,\n",
              "       0.02889015, 0.01458701, 0.01282052, 0.01028453, 0.0127427 ,\n",
              "       0.00863093, 0.0051834 , 0.0090917 , 0.01216425, 0.00397577,\n",
              "       0.00919925, 0.01377557, 0.01833036, 0.        , 0.04152306,\n",
              "       0.01954004, 0.00756716, 0.00835549, 0.01211534, 0.00585881,\n",
              "       0.00986668, 0.01489549, 0.        , 0.00571085, 0.00375055,\n",
              "       0.02457533, 0.0185335 , 0.01417567, 0.02549329, 0.02504823,\n",
              "       0.02115192, 0.02815236, 0.01846713, 0.01742191, 0.0106718 ,\n",
              "       0.00859111, 0.01202758, 0.00448845, 0.00338791, 0.00423396,\n",
              "       0.00629743])"
            ]
          },
          "metadata": {
            "tags": []
          },
          "execution_count": 145
        }
      ]
    },
    {
      "cell_type": "code",
      "metadata": {
        "colab": {
          "base_uri": "https://localhost:8080/"
        },
        "id": "aAGKMTRC2W0-",
        "outputId": "7c6f057b-a349-4ac2-8fc2-67b3b6398dfd"
      },
      "source": [
        "feat_imp_shadow"
      ],
      "execution_count": null,
      "outputs": [
        {
          "output_type": "execute_result",
          "data": {
            "text/plain": [
              "array([0.00398593, 0.00414241, 0.00465764, 0.00522873, 0.0049076 ,\n",
              "       0.00766362, 0.00370523, 0.00295307, 0.00650539, 0.00515183,\n",
              "       0.00311683, 0.00570207, 0.00223863, 0.00341037, 0.00408584,\n",
              "       0.00467828, 0.00495246, 0.00544017, 0.00477059, 0.00349402,\n",
              "       0.00278296, 0.00708458, 0.00467312, 0.00275269, 0.        ,\n",
              "       0.00420443, 0.00317053, 0.00618726, 0.00485439, 0.00455121,\n",
              "       0.00321185, 0.00606717, 0.00601427, 0.        , 0.0058264 ,\n",
              "       0.00653074, 0.00216461, 0.00298772, 0.00490513, 0.00561525,\n",
              "       0.00853554, 0.00476848, 0.00213812, 0.00781002, 0.0052928 ,\n",
              "       0.00402545, 0.00477662, 0.00493038])"
            ]
          },
          "metadata": {
            "tags": []
          },
          "execution_count": 146
        }
      ]
    },
    {
      "cell_type": "code",
      "metadata": {
        "colab": {
          "base_uri": "https://localhost:8080/"
        },
        "id": "o7H-3ybA2W0-",
        "outputId": "869b895f-b1e0-493c-e0d0-95a8d01b0d08"
      },
      "source": [
        "hits # after one run -> true means that the corresponding features has surpassed the threshold and is a good feature"
      ],
      "execution_count": null,
      "outputs": [
        {
          "output_type": "execute_result",
          "data": {
            "text/plain": [
              "array([False,  True,  True,  True,  True,  True,  True,  True, False,\n",
              "        True, False,  True, False,  True,  True,  True,  True,  True,\n",
              "        True,  True,  True, False,  True,  True, False,  True,  True,\n",
              "        True, False,  True,  True, False, False,  True, False,  True,\n",
              "        True, False, False, False,  True,  True,  True,  True,  True,\n",
              "        True,  True,  True,  True,  True,  True,  True, False, False,\n",
              "       False, False])"
            ]
          },
          "metadata": {
            "tags": []
          },
          "execution_count": 147
        }
      ]
    },
    {
      "cell_type": "code",
      "metadata": {
        "id": "UKeaLmij2W0-"
      },
      "source": [
        "# for 5 iteration\n",
        "### initialize hits counter\n",
        "hits = np.zeros((len(X.columns)))\n",
        "### repeat 20 times\n",
        "for iter_ in range(30):\n",
        "   ### make X_shadow by randomly permuting each column of X\n",
        "   np.random.seed(iter_)\n",
        "   X_shadow = X.apply(np.random.permutation)\n",
        "   X_boruta = pd.concat([X, X_shadow], axis = 1)\n",
        "   ### fit a random forest (suggested max_depth between 3 and 7)\n",
        "   forest = RandomForestClassifier(max_depth = 5, random_state = 42)\n",
        "   forest.fit(X_boruta, y)\n",
        "   ### store feature importance\n",
        "   feat_imp_X = forest.feature_importances_[:len(X.columns)]\n",
        "   feat_imp_shadow = forest.feature_importances_[len(X.columns):]\n",
        "   ### compute hits for this trial and add to counter\n",
        "   hits += (feat_imp_X > feat_imp_shadow.max())"
      ],
      "execution_count": null,
      "outputs": []
    },
    {
      "cell_type": "code",
      "metadata": {
        "colab": {
          "base_uri": "https://localhost:8080/"
        },
        "id": "woa3vN_i2W0-",
        "outputId": "163caa79-0977-47d3-b4b7-bddb239b4f47"
      },
      "source": [
        "hits"
      ],
      "execution_count": null,
      "outputs": [
        {
          "output_type": "execute_result",
          "data": {
            "text/plain": [
              "array([ 0., 30., 30., 30., 30., 28., 30., 30.,  2., 30., 17., 30., 10.,\n",
              "       22., 30., 30., 30., 26., 27., 30., 25.,  1.,  9., 30.,  0., 11.,\n",
              "       30., 30.,  0., 30., 30., 21., 15., 24.,  7., 20., 28.,  0.,  1.,\n",
              "        1., 30., 30., 30., 30., 30., 30., 30., 30., 29., 25., 16., 30.])"
            ]
          },
          "metadata": {
            "tags": []
          },
          "execution_count": 149
        }
      ]
    },
    {
      "cell_type": "code",
      "metadata": {
        "colab": {
          "base_uri": "https://localhost:8080/"
        },
        "id": "lcgxTkUx8omS",
        "outputId": "69a4a8f0-4a29-483a-e48a-1fc78e005b9e"
      },
      "source": [
        "inds = hits.argsort()[-5:][::-1]\r\n",
        "inds"
      ],
      "execution_count": null,
      "outputs": [
        {
          "output_type": "execute_result",
          "data": {
            "text/plain": [
              "array([51, 16, 19,  9,  7])"
            ]
          },
          "metadata": {
            "tags": []
          },
          "execution_count": 150
        }
      ]
    },
    {
      "cell_type": "code",
      "metadata": {
        "colab": {
          "base_uri": "https://localhost:8080/"
        },
        "id": "sPrJldtz2W0_",
        "outputId": "132e042b-1552-4999-b108-dd70b95c147c"
      },
      "source": [
        "ser =  X.columns\n",
        "features = ser[inds]\n",
        "features"
      ],
      "execution_count": null,
      "outputs": [
        {
          "output_type": "execute_result",
          "data": {
            "text/plain": [
              "Index(['Entropy_A_max', 'AR3_max', 'hjorth_complexity', 'AR1_min',\n",
              "       'first_diff_max'],\n",
              "      dtype='object')"
            ]
          },
          "metadata": {
            "tags": []
          },
          "execution_count": 151
        }
      ]
    },
    {
      "cell_type": "code",
      "metadata": {
        "colab": {
          "base_uri": "https://localhost:8080/",
          "height": 195
        },
        "id": "orI2z3j62W0_",
        "outputId": "95e65ae1-9a2b-4415-ae22-91a78b9d4d58"
      },
      "source": [
        "new_X = select_columns(X,features)\n",
        "new_X.head()"
      ],
      "execution_count": null,
      "outputs": [
        {
          "output_type": "execute_result",
          "data": {
            "text/html": [
              "<div>\n",
              "<style scoped>\n",
              "    .dataframe tbody tr th:only-of-type {\n",
              "        vertical-align: middle;\n",
              "    }\n",
              "\n",
              "    .dataframe tbody tr th {\n",
              "        vertical-align: top;\n",
              "    }\n",
              "\n",
              "    .dataframe thead th {\n",
              "        text-align: right;\n",
              "    }\n",
              "</style>\n",
              "<table border=\"1\" class=\"dataframe\">\n",
              "  <thead>\n",
              "    <tr style=\"text-align: right;\">\n",
              "      <th></th>\n",
              "      <th>Entropy_A_max</th>\n",
              "      <th>AR3_max</th>\n",
              "      <th>hjorth_complexity</th>\n",
              "      <th>AR1_min</th>\n",
              "      <th>first_diff_max</th>\n",
              "    </tr>\n",
              "  </thead>\n",
              "  <tbody>\n",
              "    <tr>\n",
              "      <th>8881</th>\n",
              "      <td>4.976220e+06</td>\n",
              "      <td>-0.067859</td>\n",
              "      <td>2.070994</td>\n",
              "      <td>-1.825564</td>\n",
              "      <td>31.201944</td>\n",
              "    </tr>\n",
              "    <tr>\n",
              "      <th>6980</th>\n",
              "      <td>6.130247e+06</td>\n",
              "      <td>-0.126595</td>\n",
              "      <td>1.535197</td>\n",
              "      <td>-1.397677</td>\n",
              "      <td>32.440508</td>\n",
              "    </tr>\n",
              "    <tr>\n",
              "      <th>18773</th>\n",
              "      <td>5.510635e+06</td>\n",
              "      <td>-0.255201</td>\n",
              "      <td>1.595434</td>\n",
              "      <td>-1.241512</td>\n",
              "      <td>31.944456</td>\n",
              "    </tr>\n",
              "    <tr>\n",
              "      <th>7138</th>\n",
              "      <td>3.156649e+06</td>\n",
              "      <td>-0.236398</td>\n",
              "      <td>1.631120</td>\n",
              "      <td>-1.276469</td>\n",
              "      <td>21.449215</td>\n",
              "    </tr>\n",
              "    <tr>\n",
              "      <th>5543</th>\n",
              "      <td>2.416832e+05</td>\n",
              "      <td>-0.228626</td>\n",
              "      <td>1.630877</td>\n",
              "      <td>-1.636695</td>\n",
              "      <td>15.332635</td>\n",
              "    </tr>\n",
              "  </tbody>\n",
              "</table>\n",
              "</div>"
            ],
            "text/plain": [
              "       Entropy_A_max   AR3_max  hjorth_complexity   AR1_min  first_diff_max\n",
              "8881    4.976220e+06 -0.067859           2.070994 -1.825564       31.201944\n",
              "6980    6.130247e+06 -0.126595           1.535197 -1.397677       32.440508\n",
              "18773   5.510635e+06 -0.255201           1.595434 -1.241512       31.944456\n",
              "7138    3.156649e+06 -0.236398           1.631120 -1.276469       21.449215\n",
              "5543    2.416832e+05 -0.228626           1.630877 -1.636695       15.332635"
            ]
          },
          "metadata": {
            "tags": []
          },
          "execution_count": 152
        }
      ]
    },
    {
      "cell_type": "code",
      "metadata": {
        "colab": {
          "base_uri": "https://localhost:8080/"
        },
        "id": "6olgcJ9b2W0_",
        "outputId": "89c2332d-0add-452e-efcf-71051fa7fcd4"
      },
      "source": [
        "# Checking new accuracy with reduced 32 features\n",
        "run_model(new_X,y)"
      ],
      "execution_count": null,
      "outputs": [
        {
          "output_type": "stream",
          "text": [
            "(13067, 5) (13067,)\n"
          ],
          "name": "stdout"
        },
        {
          "output_type": "execute_result",
          "data": {
            "text/plain": [
              "0.6037560862508695"
            ]
          },
          "metadata": {
            "tags": []
          },
          "execution_count": 153
        }
      ]
    },
    {
      "cell_type": "markdown",
      "metadata": {
        "id": "NC6utbgd2W1A"
      },
      "source": [
        "# BorutaPy Module"
      ]
    },
    {
      "cell_type": "code",
      "metadata": {
        "colab": {
          "base_uri": "https://localhost:8080/"
        },
        "id": "g_nA7tCN2W1A",
        "outputId": "ae8d85f4-5836-4d28-8b0e-81293188b46c"
      },
      "source": [
        "!pip install boruta"
      ],
      "execution_count": null,
      "outputs": [
        {
          "output_type": "stream",
          "text": [
            "Requirement already satisfied: boruta in /usr/local/lib/python3.6/dist-packages (0.3)\n",
            "Requirement already satisfied: scipy>=0.17.0 in /usr/local/lib/python3.6/dist-packages (from boruta) (1.4.1)\n",
            "Requirement already satisfied: numpy>=1.10.4 in /usr/local/lib/python3.6/dist-packages (from boruta) (1.19.4)\n",
            "Requirement already satisfied: scikit-learn>=0.17.1 in /usr/local/lib/python3.6/dist-packages (from boruta) (0.22.2.post1)\n",
            "Requirement already satisfied: joblib>=0.11 in /usr/local/lib/python3.6/dist-packages (from scikit-learn>=0.17.1->boruta) (1.0.0)\n"
          ],
          "name": "stdout"
        }
      ]
    },
    {
      "cell_type": "code",
      "metadata": {
        "colab": {
          "base_uri": "https://localhost:8080/"
        },
        "id": "GCfja0cG2W1A",
        "outputId": "4a3f375c-6a96-4604-cfdf-dfb79ca5d89f"
      },
      "source": [
        "from boruta import BorutaPy\n",
        "from sklearn.ensemble import RandomForestClassifier\n",
        "import numpy as np\n",
        "###initialize Boruta\n",
        "forest = RandomForestClassifier(\n",
        "   n_jobs = -1, \n",
        "   max_depth = 5\n",
        ")\n",
        "boruta = BorutaPy(\n",
        "   estimator = forest, \n",
        "   n_estimators = 'auto',\n",
        "   max_iter = 20 # number of trials to perform\n",
        ")\n",
        "### fit Boruta (it accepts np.array, not pd.DataFrame)\n",
        "boruta.fit(np.array(X), y)\n",
        "### print results\n",
        "green_area = X.columns[boruta.support_].to_list()\n",
        "blue_area = X.columns[boruta.support_weak_].to_list()\n",
        "print('features in the green area:', green_area)\n",
        "print('features in the blue area:', blue_area)"
      ],
      "execution_count": null,
      "outputs": [
        {
          "output_type": "stream",
          "text": [
            "features in the green area: ['fractal_dimension', 'kurtosis', 'secDiffMean', 'secDiffMax', 'skewness', 'first_diff_mean', 'first_diff_max', 'AR1_max', 'AR2_mean', 'AR2_max', 'AR3_mean', 'AR3_min', 'AR3_max', 'hjorth_activity', 'hjorth_complexity', 'PMax4', 'PRatio3', 'PRatio4', 'cA_mean_min', 'cA_mean_max', 'cA_std_max', 'cA_Energy_max', 'cD_std_mean', 'cD_std_min', 'cD_std_max', 'cD_Energy_mean', 'cD_Energy_min', 'cD_Energy_max', 'Entropy_D_mean', 'Entropy_D_min', 'Entropy_D_max', 'Entropy_A_max']\n",
            "features in the blue area: ['AR1_mean', 'AR1_min', 'hjorth_mobility', 'PRatio2', 'cA_std_mean', 'cA_std_min', 'cA_Energy_mean', 'cA_Energy_min', 'Entropy_A_mean', 'Entropy_A_min']\n"
          ],
          "name": "stdout"
        }
      ]
    },
    {
      "cell_type": "code",
      "metadata": {
        "colab": {
          "base_uri": "https://localhost:8080/"
        },
        "id": "OE5oMkMh2W1A",
        "outputId": "6fe52033-134a-45e7-ecc7-0101796cad6c"
      },
      "source": [
        "len(green_area) # got 32 features on 20 iterations, can further select top 5 or 4 on increasing  iterations"
      ],
      "execution_count": null,
      "outputs": [
        {
          "output_type": "execute_result",
          "data": {
            "text/plain": [
              "32"
            ]
          },
          "metadata": {
            "tags": []
          },
          "execution_count": 156
        }
      ]
    },
    {
      "cell_type": "code",
      "metadata": {
        "colab": {
          "base_uri": "https://localhost:8080/"
        },
        "id": "xwVl77P098sO",
        "outputId": "9a57bf7b-55a9-4d72-af8e-581af863d0da"
      },
      "source": [
        "feat = boruta.support_\r\n",
        "feat"
      ],
      "execution_count": null,
      "outputs": [
        {
          "output_type": "execute_result",
          "data": {
            "text/plain": [
              "array([False,  True,  True,  True,  True,  True,  True,  True, False,\n",
              "       False,  True,  True, False,  True,  True,  True,  True,  True,\n",
              "       False,  True, False, False, False,  True, False, False,  True,\n",
              "        True, False,  True,  True, False, False,  True, False, False,\n",
              "        True, False, False, False,  True,  True,  True,  True,  True,\n",
              "        True,  True,  True,  True, False, False,  True])"
            ]
          },
          "metadata": {
            "tags": []
          },
          "execution_count": 157
        }
      ]
    },
    {
      "cell_type": "code",
      "metadata": {
        "colab": {
          "base_uri": "https://localhost:8080/"
        },
        "id": "jlC6JmtU-OKL",
        "outputId": "56720b6d-d07d-4b7b-b58c-20a83fd5d5b5"
      },
      "source": [
        "ind = np.where(feat==1)\r\n",
        "ind"
      ],
      "execution_count": null,
      "outputs": [
        {
          "output_type": "execute_result",
          "data": {
            "text/plain": [
              "(array([ 1,  2,  3,  4,  5,  6,  7, 10, 11, 13, 14, 15, 16, 17, 19, 23, 26,\n",
              "        27, 29, 30, 33, 36, 40, 41, 42, 43, 44, 45, 46, 47, 48, 51]),)"
            ]
          },
          "metadata": {
            "tags": []
          },
          "execution_count": 158
        }
      ]
    },
    {
      "cell_type": "code",
      "metadata": {
        "colab": {
          "base_uri": "https://localhost:8080/"
        },
        "id": "CAWy_5sg-Zdv",
        "outputId": "2095f6a6-b49d-4335-c13e-c787a72d29a3"
      },
      "source": [
        "ser =  X.columns\r\n",
        "features = ser[ind]\r\n",
        "features"
      ],
      "execution_count": null,
      "outputs": [
        {
          "output_type": "execute_result",
          "data": {
            "text/plain": [
              "Index(['fractal_dimension', 'kurtosis', 'secDiffMean', 'secDiffMax',\n",
              "       'skewness', 'first_diff_mean', 'first_diff_max', 'AR1_max', 'AR2_mean',\n",
              "       'AR2_max', 'AR3_mean', 'AR3_min', 'AR3_max', 'hjorth_activity',\n",
              "       'hjorth_complexity', 'PMax4', 'PRatio3', 'PRatio4', 'cA_mean_min',\n",
              "       'cA_mean_max', 'cA_std_max', 'cA_Energy_max', 'cD_std_mean',\n",
              "       'cD_std_min', 'cD_std_max', 'cD_Energy_mean', 'cD_Energy_min',\n",
              "       'cD_Energy_max', 'Entropy_D_mean', 'Entropy_D_min', 'Entropy_D_max',\n",
              "       'Entropy_A_max'],\n",
              "      dtype='object')"
            ]
          },
          "metadata": {
            "tags": []
          },
          "execution_count": 159
        }
      ]
    },
    {
      "cell_type": "code",
      "metadata": {
        "colab": {
          "base_uri": "https://localhost:8080/",
          "height": 215
        },
        "id": "dYz0wfRV-ev4",
        "outputId": "e1406d7a-cf40-4497-e7b7-cd30c6e52598"
      },
      "source": [
        "new_X = select_columns(X,features)\r\n",
        "new_X.head()"
      ],
      "execution_count": null,
      "outputs": [
        {
          "output_type": "execute_result",
          "data": {
            "text/html": [
              "<div>\n",
              "<style scoped>\n",
              "    .dataframe tbody tr th:only-of-type {\n",
              "        vertical-align: middle;\n",
              "    }\n",
              "\n",
              "    .dataframe tbody tr th {\n",
              "        vertical-align: top;\n",
              "    }\n",
              "\n",
              "    .dataframe thead th {\n",
              "        text-align: right;\n",
              "    }\n",
              "</style>\n",
              "<table border=\"1\" class=\"dataframe\">\n",
              "  <thead>\n",
              "    <tr style=\"text-align: right;\">\n",
              "      <th></th>\n",
              "      <th>fractal_dimension</th>\n",
              "      <th>kurtosis</th>\n",
              "      <th>secDiffMean</th>\n",
              "      <th>secDiffMax</th>\n",
              "      <th>skewness</th>\n",
              "      <th>first_diff_mean</th>\n",
              "      <th>first_diff_max</th>\n",
              "      <th>AR1_max</th>\n",
              "      <th>AR2_mean</th>\n",
              "      <th>AR2_max</th>\n",
              "      <th>AR3_mean</th>\n",
              "      <th>AR3_min</th>\n",
              "      <th>AR3_max</th>\n",
              "      <th>hjorth_activity</th>\n",
              "      <th>hjorth_complexity</th>\n",
              "      <th>PMax4</th>\n",
              "      <th>PRatio3</th>\n",
              "      <th>PRatio4</th>\n",
              "      <th>cA_mean_min</th>\n",
              "      <th>cA_mean_max</th>\n",
              "      <th>cA_std_max</th>\n",
              "      <th>cA_Energy_max</th>\n",
              "      <th>cD_std_mean</th>\n",
              "      <th>cD_std_min</th>\n",
              "      <th>cD_std_max</th>\n",
              "      <th>cD_Energy_mean</th>\n",
              "      <th>cD_Energy_min</th>\n",
              "      <th>cD_Energy_max</th>\n",
              "      <th>Entropy_D_mean</th>\n",
              "      <th>Entropy_D_min</th>\n",
              "      <th>Entropy_D_max</th>\n",
              "      <th>Entropy_A_max</th>\n",
              "    </tr>\n",
              "  </thead>\n",
              "  <tbody>\n",
              "    <tr>\n",
              "      <th>8881</th>\n",
              "      <td>1.964181</td>\n",
              "      <td>2.400335</td>\n",
              "      <td>3.488320</td>\n",
              "      <td>18.714958</td>\n",
              "      <td>-0.015652</td>\n",
              "      <td>4.614885</td>\n",
              "      <td>31.201944</td>\n",
              "      <td>-1.117763</td>\n",
              "      <td>0.867705</td>\n",
              "      <td>1.043356</td>\n",
              "      <td>-0.219140</td>\n",
              "      <td>-0.346590</td>\n",
              "      <td>-0.067859</td>\n",
              "      <td>276.280952</td>\n",
              "      <td>2.070994</td>\n",
              "      <td>4.991970</td>\n",
              "      <td>38.928137</td>\n",
              "      <td>5.103816</td>\n",
              "      <td>-0.338424</td>\n",
              "      <td>0.281975</td>\n",
              "      <td>52.508775</td>\n",
              "      <td>534895.309235</td>\n",
              "      <td>3.072807</td>\n",
              "      <td>1.151330</td>\n",
              "      <td>6.514758</td>\n",
              "      <td>2180.694971</td>\n",
              "      <td>257.159827</td>\n",
              "      <td>8233.816849</td>\n",
              "      <td>8022.030691</td>\n",
              "      <td>227.663816</td>\n",
              "      <td>3.930293e+04</td>\n",
              "      <td>4.976220e+06</td>\n",
              "    </tr>\n",
              "    <tr>\n",
              "      <th>6980</th>\n",
              "      <td>1.991463</td>\n",
              "      <td>0.146082</td>\n",
              "      <td>6.475594</td>\n",
              "      <td>25.070591</td>\n",
              "      <td>-0.026670</td>\n",
              "      <td>8.027147</td>\n",
              "      <td>32.440508</td>\n",
              "      <td>-0.942250</td>\n",
              "      <td>0.766844</td>\n",
              "      <td>0.913536</td>\n",
              "      <td>-0.315433</td>\n",
              "      <td>-0.387382</td>\n",
              "      <td>-0.126595</td>\n",
              "      <td>200.432253</td>\n",
              "      <td>1.535197</td>\n",
              "      <td>12.410623</td>\n",
              "      <td>1.685468</td>\n",
              "      <td>0.674556</td>\n",
              "      <td>-0.374439</td>\n",
              "      <td>1.168590</td>\n",
              "      <td>59.526683</td>\n",
              "      <td>687689.578234</td>\n",
              "      <td>5.774239</td>\n",
              "      <td>2.047122</td>\n",
              "      <td>24.270376</td>\n",
              "      <td>9750.430331</td>\n",
              "      <td>812.998303</td>\n",
              "      <td>114276.734385</td>\n",
              "      <td>53910.387302</td>\n",
              "      <td>1814.660940</td>\n",
              "      <td>8.042087e+05</td>\n",
              "      <td>6.130247e+06</td>\n",
              "    </tr>\n",
              "    <tr>\n",
              "      <th>18773</th>\n",
              "      <td>1.997740</td>\n",
              "      <td>1.930806</td>\n",
              "      <td>5.854897</td>\n",
              "      <td>25.613825</td>\n",
              "      <td>-0.014417</td>\n",
              "      <td>7.087585</td>\n",
              "      <td>31.944456</td>\n",
              "      <td>-0.753450</td>\n",
              "      <td>0.702532</td>\n",
              "      <td>0.856224</td>\n",
              "      <td>-0.422893</td>\n",
              "      <td>-0.568236</td>\n",
              "      <td>-0.255201</td>\n",
              "      <td>159.776557</td>\n",
              "      <td>1.595434</td>\n",
              "      <td>5.548595</td>\n",
              "      <td>4.581200</td>\n",
              "      <td>2.102362</td>\n",
              "      <td>-0.209973</td>\n",
              "      <td>0.211900</td>\n",
              "      <td>56.401663</td>\n",
              "      <td>617145.531155</td>\n",
              "      <td>5.802550</td>\n",
              "      <td>1.693292</td>\n",
              "      <td>28.289691</td>\n",
              "      <td>10967.160250</td>\n",
              "      <td>556.313700</td>\n",
              "      <td>155266.757695</td>\n",
              "      <td>64274.052748</td>\n",
              "      <td>1123.675372</td>\n",
              "      <td>1.151290e+06</td>\n",
              "      <td>5.510635e+06</td>\n",
              "    </tr>\n",
              "    <tr>\n",
              "      <th>7138</th>\n",
              "      <td>1.990888</td>\n",
              "      <td>0.080560</td>\n",
              "      <td>4.225086</td>\n",
              "      <td>16.432550</td>\n",
              "      <td>-0.010089</td>\n",
              "      <td>5.201274</td>\n",
              "      <td>21.449215</td>\n",
              "      <td>-0.967461</td>\n",
              "      <td>0.713220</td>\n",
              "      <td>0.866105</td>\n",
              "      <td>-0.290859</td>\n",
              "      <td>-0.375927</td>\n",
              "      <td>-0.236398</td>\n",
              "      <td>99.535873</td>\n",
              "      <td>1.631120</td>\n",
              "      <td>4.726376</td>\n",
              "      <td>4.361373</td>\n",
              "      <td>1.527560</td>\n",
              "      <td>-2.299335</td>\n",
              "      <td>1.270020</td>\n",
              "      <td>44.192757</td>\n",
              "      <td>379907.630722</td>\n",
              "      <td>3.981972</td>\n",
              "      <td>1.498612</td>\n",
              "      <td>15.765133</td>\n",
              "      <td>4328.551152</td>\n",
              "      <td>435.735072</td>\n",
              "      <td>48219.920465</td>\n",
              "      <td>20134.248375</td>\n",
              "      <td>651.870449</td>\n",
              "      <td>3.040354e+05</td>\n",
              "      <td>3.156649e+06</td>\n",
              "    </tr>\n",
              "    <tr>\n",
              "      <th>5543</th>\n",
              "      <td>1.983340</td>\n",
              "      <td>0.216440</td>\n",
              "      <td>2.987443</td>\n",
              "      <td>11.413350</td>\n",
              "      <td>-0.086859</td>\n",
              "      <td>3.829231</td>\n",
              "      <td>15.332635</td>\n",
              "      <td>-0.654078</td>\n",
              "      <td>0.838639</td>\n",
              "      <td>1.114488</td>\n",
              "      <td>-0.320774</td>\n",
              "      <td>-0.396897</td>\n",
              "      <td>-0.228626</td>\n",
              "      <td>43.549299</td>\n",
              "      <td>1.630877</td>\n",
              "      <td>3.404676</td>\n",
              "      <td>2.292109</td>\n",
              "      <td>0.765820</td>\n",
              "      <td>-0.561133</td>\n",
              "      <td>0.796584</td>\n",
              "      <td>14.396807</td>\n",
              "      <td>40333.106365</td>\n",
              "      <td>2.876462</td>\n",
              "      <td>1.505862</td>\n",
              "      <td>8.933592</td>\n",
              "      <td>2094.492481</td>\n",
              "      <td>439.931900</td>\n",
              "      <td>15482.965641</td>\n",
              "      <td>7800.497372</td>\n",
              "      <td>681.426587</td>\n",
              "      <td>8.086052e+04</td>\n",
              "      <td>2.416832e+05</td>\n",
              "    </tr>\n",
              "  </tbody>\n",
              "</table>\n",
              "</div>"
            ],
            "text/plain": [
              "       fractal_dimension  kurtosis  ...  Entropy_D_max  Entropy_A_max\n",
              "8881            1.964181  2.400335  ...   3.930293e+04   4.976220e+06\n",
              "6980            1.991463  0.146082  ...   8.042087e+05   6.130247e+06\n",
              "18773           1.997740  1.930806  ...   1.151290e+06   5.510635e+06\n",
              "7138            1.990888  0.080560  ...   3.040354e+05   3.156649e+06\n",
              "5543            1.983340  0.216440  ...   8.086052e+04   2.416832e+05\n",
              "\n",
              "[5 rows x 32 columns]"
            ]
          },
          "metadata": {
            "tags": []
          },
          "execution_count": 160
        }
      ]
    },
    {
      "cell_type": "code",
      "metadata": {
        "colab": {
          "base_uri": "https://localhost:8080/"
        },
        "id": "Hb90GVgo-hV8",
        "outputId": "7a533ae1-8994-4c4a-c3a7-f0d023cd525f"
      },
      "source": [
        "run_model(new_X,y)   # accuracy decreases to 64.85%"
      ],
      "execution_count": null,
      "outputs": [
        {
          "output_type": "stream",
          "text": [
            "(13067, 32) (13067,)\n"
          ],
          "name": "stdout"
        },
        {
          "output_type": "execute_result",
          "data": {
            "text/plain": [
              "0.6485045212149316"
            ]
          },
          "metadata": {
            "tags": []
          },
          "execution_count": 161
        }
      ]
    },
    {
      "cell_type": "code",
      "metadata": {
        "colab": {
          "base_uri": "https://localhost:8080/"
        },
        "id": "SrCbQAdW-n2o",
        "outputId": "1580cbf2-4089-4755-b7bc-ed889cd90e78"
      },
      "source": [
        "boruta.n_features_"
      ],
      "execution_count": null,
      "outputs": [
        {
          "output_type": "execute_result",
          "data": {
            "text/plain": [
              "32"
            ]
          },
          "metadata": {
            "tags": []
          },
          "execution_count": 162
        }
      ]
    },
    {
      "cell_type": "code",
      "metadata": {
        "colab": {
          "base_uri": "https://localhost:8080/"
        },
        "id": "9jPa7FxE-rBY",
        "outputId": "2c8ace92-d6b4-42db-b17f-9d73175f053b"
      },
      "source": [
        "boruta.ranking_   # bet feature has rank 1"
      ],
      "execution_count": null,
      "outputs": [
        {
          "output_type": "execute_result",
          "data": {
            "text/plain": [
              "array([ 8,  1,  1,  1,  1,  1,  1,  1,  2,  2,  1,  1,  3,  1,  1,  1,  1,\n",
              "        1,  2,  1,  4,  6,  3,  1,  9,  2,  1,  1, 11,  1,  1,  2,  2,  1,\n",
              "        2,  2,  1, 11,  5,  7,  1,  1,  1,  1,  1,  1,  1,  1,  1,  2,  2,\n",
              "        1])"
            ]
          },
          "metadata": {
            "tags": []
          },
          "execution_count": 163
        }
      ]
    },
    {
      "cell_type": "markdown",
      "metadata": {
        "id": "N0Qbhe1K2W1A"
      },
      "source": [
        "# 2. Lasso Regularisation"
      ]
    },
    {
      "cell_type": "code",
      "metadata": {
        "id": "OZ3lAeDs2W1B"
      },
      "source": [
        "from sklearn.linear_model import LogisticRegression\n",
        "from sklearn.feature_selection import SelectFromModel\n",
        "sel_ = SelectFromModel(LogisticRegression(C=1, penalty='l1',solver='liblinear'),max_features = 10) "
      ],
      "execution_count": null,
      "outputs": []
    },
    {
      "cell_type": "code",
      "metadata": {
        "colab": {
          "base_uri": "https://localhost:8080/"
        },
        "id": "dwIXr-1F2W1B",
        "outputId": "4ef17d88-3732-4bb7-9c6c-3ebfba49a595"
      },
      "source": [
        "sel_.fit(X, y)"
      ],
      "execution_count": null,
      "outputs": [
        {
          "output_type": "stream",
          "text": [
            "/usr/local/lib/python3.6/dist-packages/sklearn/svm/_base.py:947: ConvergenceWarning: Liblinear failed to converge, increase the number of iterations.\n",
            "  \"the number of iterations.\", ConvergenceWarning)\n"
          ],
          "name": "stderr"
        },
        {
          "output_type": "execute_result",
          "data": {
            "text/plain": [
              "SelectFromModel(estimator=LogisticRegression(C=1, class_weight=None, dual=False,\n",
              "                                             fit_intercept=True,\n",
              "                                             intercept_scaling=1, l1_ratio=None,\n",
              "                                             max_iter=100, multi_class='auto',\n",
              "                                             n_jobs=None, penalty='l1',\n",
              "                                             random_state=None,\n",
              "                                             solver='liblinear', tol=0.0001,\n",
              "                                             verbose=0, warm_start=False),\n",
              "                max_features=10, norm_order=1, prefit=False, threshold=None)"
            ]
          },
          "metadata": {
            "tags": []
          },
          "execution_count": 165
        }
      ]
    },
    {
      "cell_type": "code",
      "metadata": {
        "colab": {
          "base_uri": "https://localhost:8080/"
        },
        "id": "sYtnusNv_TUX",
        "outputId": "447057c9-3ec0-4086-8a21-49e10c8bc1d4"
      },
      "source": [
        "sel_.get_support()"
      ],
      "execution_count": null,
      "outputs": [
        {
          "output_type": "execute_result",
          "data": {
            "text/plain": [
              "array([False,  True, False, False, False,  True, False, False, False,\n",
              "       False,  True, False,  True,  True, False,  True,  True, False,\n",
              "        True,  True, False, False, False, False, False, False, False,\n",
              "       False, False, False, False, False, False, False, False, False,\n",
              "       False, False, False, False, False,  True, False, False, False,\n",
              "       False, False, False, False, False, False, False])"
            ]
          },
          "metadata": {
            "tags": []
          },
          "execution_count": 166
        }
      ]
    },
    {
      "cell_type": "code",
      "metadata": {
        "colab": {
          "base_uri": "https://localhost:8080/"
        },
        "id": "MQOOLsSW2W1B",
        "outputId": "1df237e7-8470-419d-b15a-8a85e7d48358"
      },
      "source": [
        "selected_feat = X.columns[(sel_.get_support())]\n",
        "selected_feat"
      ],
      "execution_count": null,
      "outputs": [
        {
          "output_type": "execute_result",
          "data": {
            "text/plain": [
              "Index(['fractal_dimension', 'skewness', 'AR1_max', 'AR2_min', 'AR2_max',\n",
              "       'AR3_min', 'AR3_max', 'hjorth_mobility', 'hjorth_complexity',\n",
              "       'cD_std_min'],\n",
              "      dtype='object')"
            ]
          },
          "metadata": {
            "tags": []
          },
          "execution_count": 167
        }
      ]
    },
    {
      "cell_type": "code",
      "metadata": {
        "colab": {
          "base_uri": "https://localhost:8080/"
        },
        "id": "B28GCjp32W1B",
        "outputId": "a0447411-a7fb-44cd-bb60-969d3392419c"
      },
      "source": [
        "new_X = select_columns(X,selected_feat)\n",
        "new_X.shape"
      ],
      "execution_count": null,
      "outputs": [
        {
          "output_type": "execute_result",
          "data": {
            "text/plain": [
              "(13067, 10)"
            ]
          },
          "metadata": {
            "tags": []
          },
          "execution_count": 168
        }
      ]
    },
    {
      "cell_type": "code",
      "metadata": {
        "colab": {
          "base_uri": "https://localhost:8080/"
        },
        "id": "GktZLUTo2W1B",
        "outputId": "62754fd3-8b1c-46a2-f03d-db1dbbc16ceb"
      },
      "source": [
        "#running model for reduced 38 features\n",
        "run_model(new_X,y)  # Accuracy = 61.92% - 10 features , 61.2%  for 5 featuers"
      ],
      "execution_count": null,
      "outputs": [
        {
          "output_type": "stream",
          "text": [
            "(13067, 10) (13067,)\n"
          ],
          "name": "stdout"
        },
        {
          "output_type": "execute_result",
          "data": {
            "text/plain": [
              "0.6121029445861349"
            ]
          },
          "metadata": {
            "tags": []
          },
          "execution_count": 169
        }
      ]
    },
    {
      "cell_type": "markdown",
      "metadata": {
        "id": "IQUyA97w2W1C"
      },
      "source": [
        "# 3. Recursive Feature Elimination"
      ]
    },
    {
      "cell_type": "code",
      "metadata": {
        "id": "Wx1qitHF2W1C"
      },
      "source": [
        "from sklearn.feature_selection import RFE\n",
        "from sklearn.ensemble import RandomForestClassifier\n",
        "#from sklearn.linear_model import LogisticRegression\n",
        "model = RandomForestClassifier()\n",
        "#model = LogisticRegression()"
      ],
      "execution_count": null,
      "outputs": []
    },
    {
      "cell_type": "code",
      "metadata": {
        "colab": {
          "base_uri": "https://localhost:8080/"
        },
        "id": "VUegsi582W1C",
        "outputId": "4faf0cfa-32e9-4db0-a188-136be45dc4d5"
      },
      "source": [
        "selector = RFE(model,n_features_to_select=10, step=1)\n",
        "selector.fit(X,y)"
      ],
      "execution_count": null,
      "outputs": [
        {
          "output_type": "execute_result",
          "data": {
            "text/plain": [
              "RFE(estimator=RandomForestClassifier(bootstrap=True, ccp_alpha=0.0,\n",
              "                                     class_weight=None, criterion='gini',\n",
              "                                     max_depth=None, max_features='auto',\n",
              "                                     max_leaf_nodes=None, max_samples=None,\n",
              "                                     min_impurity_decrease=0.0,\n",
              "                                     min_impurity_split=None,\n",
              "                                     min_samples_leaf=1, min_samples_split=2,\n",
              "                                     min_weight_fraction_leaf=0.0,\n",
              "                                     n_estimators=100, n_jobs=None,\n",
              "                                     oob_score=False, random_state=None,\n",
              "                                     verbose=0, warm_start=False),\n",
              "    n_features_to_select=10, step=1, verbose=0)"
            ]
          },
          "metadata": {
            "tags": []
          },
          "execution_count": 171
        }
      ]
    },
    {
      "cell_type": "code",
      "metadata": {
        "colab": {
          "base_uri": "https://localhost:8080/"
        },
        "id": "Lw1SO6Gb2W1C",
        "outputId": "102db4f0-8823-42f4-f8ca-19b63a9ca8bf"
      },
      "source": [
        "selector.support_"
      ],
      "execution_count": null,
      "outputs": [
        {
          "output_type": "execute_result",
          "data": {
            "text/plain": [
              "array([False, False,  True,  True, False, False, False, False, False,\n",
              "       False, False,  True, False, False, False,  True, False, False,\n",
              "       False, False, False, False, False, False, False, False, False,\n",
              "       False, False,  True,  True, False,  True, False, False, False,\n",
              "       False, False, False, False, False, False, False, False, False,\n",
              "        True, False,  True, False, False, False,  True])"
            ]
          },
          "metadata": {
            "tags": []
          },
          "execution_count": 172
        }
      ]
    },
    {
      "cell_type": "code",
      "metadata": {
        "colab": {
          "base_uri": "https://localhost:8080/"
        },
        "id": "c5ESzXGk2W1D",
        "outputId": "55df3b0f-a7ca-428c-ca77-a4f80bb67723"
      },
      "source": [
        "selector.ranking_"
      ],
      "execution_count": null,
      "outputs": [
        {
          "output_type": "execute_result",
          "data": {
            "text/plain": [
              "array([14, 19,  1,  1,  7,  4, 22, 28, 33, 17,  6,  1, 10,  9,  8,  1,  2,\n",
              "       40, 37, 16, 26, 34, 23,  5, 11, 25, 13,  3, 43,  1,  1, 36,  1, 38,\n",
              "       39, 24, 31, 42, 15, 20, 18, 27, 29, 35, 12,  1, 30,  1, 21, 41, 32,\n",
              "        1])"
            ]
          },
          "metadata": {
            "tags": []
          },
          "execution_count": 173
        }
      ]
    },
    {
      "cell_type": "code",
      "metadata": {
        "colab": {
          "base_uri": "https://localhost:8080/"
        },
        "id": "SBSPSVdc2W1D",
        "outputId": "763c50f2-40fa-410c-db9c-aa70dca8444a"
      },
      "source": [
        "selected_feat = X.columns[(selector.get_support())]\n",
        "selected_feat"
      ],
      "execution_count": null,
      "outputs": [
        {
          "output_type": "execute_result",
          "data": {
            "text/plain": [
              "Index(['kurtosis', 'secDiffMean', 'AR2_mean', 'AR3_min', 'cA_mean_min',\n",
              "       'cA_mean_max', 'cA_std_min', 'cD_Energy_max', 'Entropy_D_min',\n",
              "       'Entropy_A_max'],\n",
              "      dtype='object')"
            ]
          },
          "metadata": {
            "tags": []
          },
          "execution_count": 174
        }
      ]
    },
    {
      "cell_type": "code",
      "metadata": {
        "colab": {
          "base_uri": "https://localhost:8080/"
        },
        "id": "Epa1MbCn2W1D",
        "outputId": "ba998a6e-1ad3-4cf4-bef8-d892174268e6"
      },
      "source": [
        "selected_feat.shape"
      ],
      "execution_count": null,
      "outputs": [
        {
          "output_type": "execute_result",
          "data": {
            "text/plain": [
              "(10,)"
            ]
          },
          "metadata": {
            "tags": []
          },
          "execution_count": 175
        }
      ]
    },
    {
      "cell_type": "code",
      "metadata": {
        "colab": {
          "base_uri": "https://localhost:8080/",
          "height": 195
        },
        "id": "FbJ_km3D2W1D",
        "outputId": "ec258656-9983-412a-88aa-97419a761c0d"
      },
      "source": [
        "new_X = select_columns(X,selected_feat)\n",
        "new_X.head()"
      ],
      "execution_count": null,
      "outputs": [
        {
          "output_type": "execute_result",
          "data": {
            "text/html": [
              "<div>\n",
              "<style scoped>\n",
              "    .dataframe tbody tr th:only-of-type {\n",
              "        vertical-align: middle;\n",
              "    }\n",
              "\n",
              "    .dataframe tbody tr th {\n",
              "        vertical-align: top;\n",
              "    }\n",
              "\n",
              "    .dataframe thead th {\n",
              "        text-align: right;\n",
              "    }\n",
              "</style>\n",
              "<table border=\"1\" class=\"dataframe\">\n",
              "  <thead>\n",
              "    <tr style=\"text-align: right;\">\n",
              "      <th></th>\n",
              "      <th>kurtosis</th>\n",
              "      <th>secDiffMean</th>\n",
              "      <th>AR2_mean</th>\n",
              "      <th>AR3_min</th>\n",
              "      <th>cA_mean_min</th>\n",
              "      <th>cA_mean_max</th>\n",
              "      <th>cA_std_min</th>\n",
              "      <th>cD_Energy_max</th>\n",
              "      <th>Entropy_D_min</th>\n",
              "      <th>Entropy_A_max</th>\n",
              "    </tr>\n",
              "  </thead>\n",
              "  <tbody>\n",
              "    <tr>\n",
              "      <th>8881</th>\n",
              "      <td>2.400335</td>\n",
              "      <td>3.488320</td>\n",
              "      <td>0.867705</td>\n",
              "      <td>-0.346590</td>\n",
              "      <td>-0.338424</td>\n",
              "      <td>0.281975</td>\n",
              "      <td>4.058483</td>\n",
              "      <td>8233.816849</td>\n",
              "      <td>227.663816</td>\n",
              "      <td>4.976220e+06</td>\n",
              "    </tr>\n",
              "    <tr>\n",
              "      <th>6980</th>\n",
              "      <td>0.146082</td>\n",
              "      <td>6.475594</td>\n",
              "      <td>0.766844</td>\n",
              "      <td>-0.387382</td>\n",
              "      <td>-0.374439</td>\n",
              "      <td>1.168590</td>\n",
              "      <td>7.806743</td>\n",
              "      <td>114276.734385</td>\n",
              "      <td>1814.660940</td>\n",
              "      <td>6.130247e+06</td>\n",
              "    </tr>\n",
              "    <tr>\n",
              "      <th>18773</th>\n",
              "      <td>1.930806</td>\n",
              "      <td>5.854897</td>\n",
              "      <td>0.702532</td>\n",
              "      <td>-0.568236</td>\n",
              "      <td>-0.209973</td>\n",
              "      <td>0.211900</td>\n",
              "      <td>4.982554</td>\n",
              "      <td>155266.757695</td>\n",
              "      <td>1123.675372</td>\n",
              "      <td>5.510635e+06</td>\n",
              "    </tr>\n",
              "    <tr>\n",
              "      <th>7138</th>\n",
              "      <td>0.080560</td>\n",
              "      <td>4.225086</td>\n",
              "      <td>0.713220</td>\n",
              "      <td>-0.375927</td>\n",
              "      <td>-2.299335</td>\n",
              "      <td>1.270020</td>\n",
              "      <td>4.761372</td>\n",
              "      <td>48219.920465</td>\n",
              "      <td>651.870449</td>\n",
              "      <td>3.156649e+06</td>\n",
              "    </tr>\n",
              "    <tr>\n",
              "      <th>5543</th>\n",
              "      <td>0.216440</td>\n",
              "      <td>2.987443</td>\n",
              "      <td>0.838639</td>\n",
              "      <td>-0.396897</td>\n",
              "      <td>-0.561133</td>\n",
              "      <td>0.796584</td>\n",
              "      <td>5.667576</td>\n",
              "      <td>15482.965641</td>\n",
              "      <td>681.426587</td>\n",
              "      <td>2.416832e+05</td>\n",
              "    </tr>\n",
              "  </tbody>\n",
              "</table>\n",
              "</div>"
            ],
            "text/plain": [
              "       kurtosis  secDiffMean  ...  Entropy_D_min  Entropy_A_max\n",
              "8881   2.400335     3.488320  ...     227.663816   4.976220e+06\n",
              "6980   0.146082     6.475594  ...    1814.660940   6.130247e+06\n",
              "18773  1.930806     5.854897  ...    1123.675372   5.510635e+06\n",
              "7138   0.080560     4.225086  ...     651.870449   3.156649e+06\n",
              "5543   0.216440     2.987443  ...     681.426587   2.416832e+05\n",
              "\n",
              "[5 rows x 10 columns]"
            ]
          },
          "metadata": {
            "tags": []
          },
          "execution_count": 176
        }
      ]
    },
    {
      "cell_type": "code",
      "metadata": {
        "colab": {
          "base_uri": "https://localhost:8080/"
        },
        "id": "X7Kl2WZT2W1E",
        "outputId": "63edee4c-62f6-4f50-8f03-25f916e8e44d"
      },
      "source": [
        "run_model(new_X,y)  # accuracy with 10 feautres - 54.97% with logistic regression\r\n",
        "                    # ''       ''     '''       - 62.03% with random forest"
      ],
      "execution_count": null,
      "outputs": [
        {
          "output_type": "stream",
          "text": [
            "(13067, 10) (13067,)\n"
          ],
          "name": "stdout"
        },
        {
          "output_type": "execute_result",
          "data": {
            "text/plain": [
              "0.6422443774634825"
            ]
          },
          "metadata": {
            "tags": []
          },
          "execution_count": 177
        }
      ]
    },
    {
      "cell_type": "markdown",
      "metadata": {
        "id": "5U4lXRiZ2W1E"
      },
      "source": [
        "# 4. Forward Slection , Backward Selection and Floating Selection"
      ]
    },
    {
      "cell_type": "code",
      "metadata": {
        "id": "Vj2KuSFy2W1F"
      },
      "source": [
        "from mlxtend.feature_selection import SequentialFeatureSelector as sfs\n",
        "from sklearn.ensemble import RandomForestClassifier"
      ],
      "execution_count": null,
      "outputs": []
    },
    {
      "cell_type": "code",
      "metadata": {
        "colab": {
          "base_uri": "https://localhost:8080/"
        },
        "id": "MkP70SMR2W1G",
        "outputId": "d82bc873-60b4-4d50-c4c3-2c931d0cee87"
      },
      "source": [
        "clf = RandomForestClassifier(n_estimators=100, n_jobs=-1)\n",
        "sfs1 = sfs(clf,\n",
        "           k_features=10,   # 5 features to select\n",
        "           forward=True,   # forward seelction\n",
        "           floating=True,  #  floating algorithm\n",
        "           verbose=2,\n",
        "           scoring='accuracy',\n",
        "           cv=0)\n",
        "\n",
        "sfs1.fit(np.array(X), y)"
      ],
      "execution_count": null,
      "outputs": [
        {
          "output_type": "stream",
          "text": [
            "[Parallel(n_jobs=1)]: Using backend SequentialBackend with 1 concurrent workers.\n",
            "[Parallel(n_jobs=1)]: Done   1 out of   1 | elapsed:    4.3s remaining:    0.0s\n",
            "[Parallel(n_jobs=1)]: Done  52 out of  52 | elapsed:  2.9min finished\n",
            "\n",
            "[2021-01-11 15:53:13] Features: 1/10 -- score: 0.9999234713400168[Parallel(n_jobs=1)]: Using backend SequentialBackend with 1 concurrent workers.\n",
            "[Parallel(n_jobs=1)]: Done   1 out of   1 | elapsed:    2.8s remaining:    0.0s\n",
            "[Parallel(n_jobs=1)]: Done  51 out of  51 | elapsed:  2.3min finished\n",
            "[Parallel(n_jobs=1)]: Using backend SequentialBackend with 1 concurrent workers.\n",
            "[Parallel(n_jobs=1)]: Done   1 out of   1 | elapsed:    3.2s remaining:    0.0s\n",
            "[Parallel(n_jobs=1)]: Done   2 out of   2 | elapsed:    6.6s finished\n",
            "\n",
            "[2021-01-11 15:55:40] Features: 2/10 -- score: 1.0[Parallel(n_jobs=1)]: Using backend SequentialBackend with 1 concurrent workers.\n",
            "[Parallel(n_jobs=1)]: Done   1 out of   1 | elapsed:    2.3s remaining:    0.0s\n",
            "[Parallel(n_jobs=1)]: Done  50 out of  50 | elapsed:  2.2min finished\n",
            "[Parallel(n_jobs=1)]: Using backend SequentialBackend with 1 concurrent workers.\n",
            "[Parallel(n_jobs=1)]: Done   1 out of   1 | elapsed:    2.2s remaining:    0.0s\n",
            "[Parallel(n_jobs=1)]: Done   2 out of   2 | elapsed:    4.3s finished\n",
            "\n",
            "[2021-01-11 15:57:54] Features: 3/10 -- score: 1.0[Parallel(n_jobs=1)]: Using backend SequentialBackend with 1 concurrent workers.\n",
            "[Parallel(n_jobs=1)]: Done   1 out of   1 | elapsed:    3.4s remaining:    0.0s\n",
            "[Parallel(n_jobs=1)]: Done  49 out of  49 | elapsed:  2.8min finished\n",
            "[Parallel(n_jobs=1)]: Using backend SequentialBackend with 1 concurrent workers.\n",
            "[Parallel(n_jobs=1)]: Done   1 out of   1 | elapsed:    2.3s remaining:    0.0s\n",
            "[Parallel(n_jobs=1)]: Done   3 out of   3 | elapsed:    7.0s finished\n",
            "\n",
            "[2021-01-11 16:00:50] Features: 4/10 -- score: 1.0[Parallel(n_jobs=1)]: Using backend SequentialBackend with 1 concurrent workers.\n",
            "[Parallel(n_jobs=1)]: Done   1 out of   1 | elapsed:    3.4s remaining:    0.0s\n",
            "[Parallel(n_jobs=1)]: Done  48 out of  48 | elapsed:  2.7min finished\n",
            "[Parallel(n_jobs=1)]: Using backend SequentialBackend with 1 concurrent workers.\n",
            "[Parallel(n_jobs=1)]: Done   1 out of   1 | elapsed:    3.3s remaining:    0.0s\n",
            "[Parallel(n_jobs=1)]: Done   4 out of   4 | elapsed:   13.6s finished\n",
            "\n",
            "[2021-01-11 16:03:48] Features: 5/10 -- score: 1.0[Parallel(n_jobs=1)]: Using backend SequentialBackend with 1 concurrent workers.\n",
            "[Parallel(n_jobs=1)]: Done   1 out of   1 | elapsed:    3.5s remaining:    0.0s\n",
            "[Parallel(n_jobs=1)]: Done  47 out of  47 | elapsed:  2.7min finished\n",
            "[Parallel(n_jobs=1)]: Using backend SequentialBackend with 1 concurrent workers.\n",
            "[Parallel(n_jobs=1)]: Done   1 out of   1 | elapsed:    3.4s remaining:    0.0s\n",
            "[Parallel(n_jobs=1)]: Done   5 out of   5 | elapsed:   17.3s finished\n",
            "\n",
            "[2021-01-11 16:06:44] Features: 6/10 -- score: 1.0[Parallel(n_jobs=1)]: Using backend SequentialBackend with 1 concurrent workers.\n",
            "[Parallel(n_jobs=1)]: Done   1 out of   1 | elapsed:    3.5s remaining:    0.0s\n",
            "[Parallel(n_jobs=1)]: Done  46 out of  46 | elapsed:  2.6min finished\n",
            "[Parallel(n_jobs=1)]: Using backend SequentialBackend with 1 concurrent workers.\n",
            "[Parallel(n_jobs=1)]: Done   1 out of   1 | elapsed:    3.4s remaining:    0.0s\n",
            "[Parallel(n_jobs=1)]: Done   6 out of   6 | elapsed:   21.0s finished\n",
            "\n",
            "[2021-01-11 16:09:43] Features: 7/10 -- score: 1.0[Parallel(n_jobs=1)]: Using backend SequentialBackend with 1 concurrent workers.\n",
            "[Parallel(n_jobs=1)]: Done   1 out of   1 | elapsed:    3.5s remaining:    0.0s\n",
            "[Parallel(n_jobs=1)]: Done  45 out of  45 | elapsed:  2.6min finished\n",
            "[Parallel(n_jobs=1)]: Using backend SequentialBackend with 1 concurrent workers.\n",
            "[Parallel(n_jobs=1)]: Done   1 out of   1 | elapsed:    3.5s remaining:    0.0s\n",
            "[Parallel(n_jobs=1)]: Done   7 out of   7 | elapsed:   24.3s finished\n",
            "\n",
            "[2021-01-11 16:12:43] Features: 8/10 -- score: 1.0[Parallel(n_jobs=1)]: Using backend SequentialBackend with 1 concurrent workers.\n",
            "[Parallel(n_jobs=1)]: Done   1 out of   1 | elapsed:    4.7s remaining:    0.0s\n",
            "[Parallel(n_jobs=1)]: Done  44 out of  44 | elapsed:  3.4min finished\n",
            "[Parallel(n_jobs=1)]: Using backend SequentialBackend with 1 concurrent workers.\n",
            "[Parallel(n_jobs=1)]: Done   1 out of   1 | elapsed:    3.5s remaining:    0.0s\n",
            "[Parallel(n_jobs=1)]: Done   8 out of   8 | elapsed:   28.3s finished\n",
            "\n",
            "[2021-01-11 16:16:37] Features: 9/10 -- score: 1.0[Parallel(n_jobs=1)]: Using backend SequentialBackend with 1 concurrent workers.\n",
            "[Parallel(n_jobs=1)]: Done   1 out of   1 | elapsed:    4.9s remaining:    0.0s\n",
            "[Parallel(n_jobs=1)]: Done  43 out of  43 | elapsed:  3.4min finished\n",
            "[Parallel(n_jobs=1)]: Using backend SequentialBackend with 1 concurrent workers.\n",
            "[Parallel(n_jobs=1)]: Done   1 out of   1 | elapsed:    4.8s remaining:    0.0s\n",
            "[Parallel(n_jobs=1)]: Done   9 out of   9 | elapsed:   43.5s finished\n",
            "\n",
            "[2021-01-11 16:20:44] Features: 10/10 -- score: 1.0"
          ],
          "name": "stderr"
        },
        {
          "output_type": "execute_result",
          "data": {
            "text/plain": [
              "SequentialFeatureSelector(clone_estimator=True, cv=0,\n",
              "                          estimator=RandomForestClassifier(bootstrap=True,\n",
              "                                                           ccp_alpha=0.0,\n",
              "                                                           class_weight=None,\n",
              "                                                           criterion='gini',\n",
              "                                                           max_depth=None,\n",
              "                                                           max_features='auto',\n",
              "                                                           max_leaf_nodes=None,\n",
              "                                                           max_samples=None,\n",
              "                                                           min_impurity_decrease=0.0,\n",
              "                                                           min_impurity_split=None,\n",
              "                                                           min_samples_leaf=1,\n",
              "                                                           min_samples_split=2,\n",
              "                                                           min_weight_fraction_leaf=0.0,\n",
              "                                                           n_estimators=100,\n",
              "                                                           n_jobs=-1,\n",
              "                                                           oob_score=False,\n",
              "                                                           random_state=None,\n",
              "                                                           verbose=0,\n",
              "                                                           warm_start=False),\n",
              "                          floating=True, forward=True, k_features=10, n_jobs=1,\n",
              "                          pre_dispatch='2*n_jobs', scoring='accuracy',\n",
              "                          verbose=2)"
            ]
          },
          "metadata": {
            "tags": []
          },
          "execution_count": 179
        }
      ]
    },
    {
      "cell_type": "code",
      "metadata": {
        "colab": {
          "base_uri": "https://localhost:8080/"
        },
        "id": "z2aMOmE42W1G",
        "outputId": "9354bf85-aaf8-4d8e-b2db-00fce044374f"
      },
      "source": [
        "features = sfs1.k_feature_names_\n",
        "features"
      ],
      "execution_count": null,
      "outputs": [
        {
          "output_type": "execute_result",
          "data": {
            "text/plain": [
              "('0', '1', '2', '3', '4', '5', '6', '7', '8', '17')"
            ]
          },
          "metadata": {
            "tags": []
          },
          "execution_count": 180
        }
      ]
    },
    {
      "cell_type": "code",
      "metadata": {
        "colab": {
          "base_uri": "https://localhost:8080/"
        },
        "id": "hkYj39sqRIig",
        "outputId": "acbcf57f-190f-4d4f-de3f-064163419f79"
      },
      "source": [
        "type(features)\r\n",
        "features = np.array(features)\r\n",
        "type(features)\r\n",
        "features"
      ],
      "execution_count": null,
      "outputs": [
        {
          "output_type": "execute_result",
          "data": {
            "text/plain": [
              "array(['0', '1', '2', '3', '4', '5', '6', '7', '8', '17'], dtype='<U2')"
            ]
          },
          "metadata": {
            "tags": []
          },
          "execution_count": 190
        }
      ]
    },
    {
      "cell_type": "code",
      "metadata": {
        "id": "wNMo2mqTRB84"
      },
      "source": [
        "fet = X.columns\r\n",
        "features = fet[[0, 1, 2, 3, 4, 5, 6, 7, 8, 17]]"
      ],
      "execution_count": null,
      "outputs": []
    },
    {
      "cell_type": "code",
      "metadata": {
        "colab": {
          "base_uri": "https://localhost:8080/"
        },
        "id": "Us_TWq-k2W1G",
        "outputId": "3662d735-120d-4e4e-8602-6c6681be0871"
      },
      "source": [
        "new_X = sfs1.transform(X)\r\n",
        "new_X"
      ],
      "execution_count": null,
      "outputs": [
        {
          "output_type": "execute_result",
          "data": {
            "text/plain": [
              "array([[-6.53237235e+02,  1.96418117e+00,  2.40033548e+00, ...,\n",
              "         3.12019437e+01, -1.48580392e+00,  2.76280952e+02],\n",
              "       [ 7.22155134e+01,  1.99146307e+00,  1.46081879e-01, ...,\n",
              "         3.24405077e+01, -1.12132620e+00,  2.00432253e+02],\n",
              "       [ 5.10803327e+01,  1.99773990e+00,  1.93080627e+00, ...,\n",
              "         3.19444555e+01, -1.00123055e+00,  1.59776557e+02],\n",
              "       ...,\n",
              "       [ 1.10783215e+01,  1.98567677e+00,  4.16489521e+00, ...,\n",
              "         3.85185939e+01, -1.19578639e+00,  1.41586162e+02],\n",
              "       [ 1.94967672e+01,  2.00000000e+00,  3.61215596e+00, ...,\n",
              "         1.43008696e+02, -6.12740151e-01,  9.36732574e+02],\n",
              "       [ 1.70393472e+02,  1.96418117e+00,  4.45192692e+00, ...,\n",
              "         4.98121959e+01, -1.44603589e+00,  8.37361900e+02]])"
            ]
          },
          "metadata": {
            "tags": []
          },
          "execution_count": 194
        }
      ]
    },
    {
      "cell_type": "code",
      "metadata": {
        "colab": {
          "base_uri": "https://localhost:8080/",
          "height": 402
        },
        "id": "_oPNhqp-CCbc",
        "outputId": "919d9ea7-ceed-42d7-cc04-f25cc2e7dd24"
      },
      "source": [
        "new_X = select_columns(X,features)\r\n",
        "new_X"
      ],
      "execution_count": null,
      "outputs": [
        {
          "output_type": "execute_result",
          "data": {
            "text/html": [
              "<div>\n",
              "<style scoped>\n",
              "    .dataframe tbody tr th:only-of-type {\n",
              "        vertical-align: middle;\n",
              "    }\n",
              "\n",
              "    .dataframe tbody tr th {\n",
              "        vertical-align: top;\n",
              "    }\n",
              "\n",
              "    .dataframe thead th {\n",
              "        text-align: right;\n",
              "    }\n",
              "</style>\n",
              "<table border=\"1\" class=\"dataframe\">\n",
              "  <thead>\n",
              "    <tr style=\"text-align: right;\">\n",
              "      <th></th>\n",
              "      <th>coeff_var</th>\n",
              "      <th>fractal_dimension</th>\n",
              "      <th>kurtosis</th>\n",
              "      <th>secDiffMean</th>\n",
              "      <th>secDiffMax</th>\n",
              "      <th>skewness</th>\n",
              "      <th>first_diff_mean</th>\n",
              "      <th>first_diff_max</th>\n",
              "      <th>AR1_mean</th>\n",
              "      <th>hjorth_activity</th>\n",
              "    </tr>\n",
              "  </thead>\n",
              "  <tbody>\n",
              "    <tr>\n",
              "      <th>8881</th>\n",
              "      <td>-653.237235</td>\n",
              "      <td>1.964181</td>\n",
              "      <td>2.400335</td>\n",
              "      <td>3.488320</td>\n",
              "      <td>18.714958</td>\n",
              "      <td>-0.015652</td>\n",
              "      <td>4.614885</td>\n",
              "      <td>31.201944</td>\n",
              "      <td>-1.485804</td>\n",
              "      <td>276.280952</td>\n",
              "    </tr>\n",
              "    <tr>\n",
              "      <th>6980</th>\n",
              "      <td>72.215513</td>\n",
              "      <td>1.991463</td>\n",
              "      <td>0.146082</td>\n",
              "      <td>6.475594</td>\n",
              "      <td>25.070591</td>\n",
              "      <td>-0.026670</td>\n",
              "      <td>8.027147</td>\n",
              "      <td>32.440508</td>\n",
              "      <td>-1.121326</td>\n",
              "      <td>200.432253</td>\n",
              "    </tr>\n",
              "    <tr>\n",
              "      <th>18773</th>\n",
              "      <td>51.080333</td>\n",
              "      <td>1.997740</td>\n",
              "      <td>1.930806</td>\n",
              "      <td>5.854897</td>\n",
              "      <td>25.613825</td>\n",
              "      <td>-0.014417</td>\n",
              "      <td>7.087585</td>\n",
              "      <td>31.944456</td>\n",
              "      <td>-1.001231</td>\n",
              "      <td>159.776557</td>\n",
              "    </tr>\n",
              "    <tr>\n",
              "      <th>7138</th>\n",
              "      <td>5.678293</td>\n",
              "      <td>1.990888</td>\n",
              "      <td>0.080560</td>\n",
              "      <td>4.225086</td>\n",
              "      <td>16.432550</td>\n",
              "      <td>-0.010089</td>\n",
              "      <td>5.201274</td>\n",
              "      <td>21.449215</td>\n",
              "      <td>-1.117643</td>\n",
              "      <td>99.535873</td>\n",
              "    </tr>\n",
              "    <tr>\n",
              "      <th>5543</th>\n",
              "      <td>-48.459438</td>\n",
              "      <td>1.983340</td>\n",
              "      <td>0.216440</td>\n",
              "      <td>2.987443</td>\n",
              "      <td>11.413350</td>\n",
              "      <td>-0.086859</td>\n",
              "      <td>3.829231</td>\n",
              "      <td>15.332635</td>\n",
              "      <td>-1.238982</td>\n",
              "      <td>43.549299</td>\n",
              "    </tr>\n",
              "    <tr>\n",
              "      <th>...</th>\n",
              "      <td>...</td>\n",
              "      <td>...</td>\n",
              "      <td>...</td>\n",
              "      <td>...</td>\n",
              "      <td>...</td>\n",
              "      <td>...</td>\n",
              "      <td>...</td>\n",
              "      <td>...</td>\n",
              "      <td>...</td>\n",
              "      <td>...</td>\n",
              "    </tr>\n",
              "    <tr>\n",
              "      <th>15244</th>\n",
              "      <td>-13.939699</td>\n",
              "      <td>1.992611</td>\n",
              "      <td>1.042482</td>\n",
              "      <td>10.836044</td>\n",
              "      <td>47.093362</td>\n",
              "      <td>0.058079</td>\n",
              "      <td>13.673258</td>\n",
              "      <td>60.904786</td>\n",
              "      <td>-0.894432</td>\n",
              "      <td>593.827624</td>\n",
              "    </tr>\n",
              "    <tr>\n",
              "      <th>20120</th>\n",
              "      <td>4.421657</td>\n",
              "      <td>1.997740</td>\n",
              "      <td>1.673257</td>\n",
              "      <td>5.294936</td>\n",
              "      <td>24.748179</td>\n",
              "      <td>0.034563</td>\n",
              "      <td>6.783927</td>\n",
              "      <td>36.958879</td>\n",
              "      <td>-1.321971</td>\n",
              "      <td>422.836659</td>\n",
              "    </tr>\n",
              "    <tr>\n",
              "      <th>22062</th>\n",
              "      <td>11.078321</td>\n",
              "      <td>1.985677</td>\n",
              "      <td>4.164895</td>\n",
              "      <td>4.585155</td>\n",
              "      <td>27.670633</td>\n",
              "      <td>-0.031394</td>\n",
              "      <td>5.655011</td>\n",
              "      <td>38.518594</td>\n",
              "      <td>-1.195786</td>\n",
              "      <td>141.586162</td>\n",
              "    </tr>\n",
              "    <tr>\n",
              "      <th>15084</th>\n",
              "      <td>19.496767</td>\n",
              "      <td>2.000000</td>\n",
              "      <td>3.612156</td>\n",
              "      <td>17.235873</td>\n",
              "      <td>109.132641</td>\n",
              "      <td>-0.028514</td>\n",
              "      <td>21.412277</td>\n",
              "      <td>143.008696</td>\n",
              "      <td>-0.612740</td>\n",
              "      <td>936.732574</td>\n",
              "    </tr>\n",
              "    <tr>\n",
              "      <th>23279</th>\n",
              "      <td>170.393472</td>\n",
              "      <td>1.964181</td>\n",
              "      <td>4.451927</td>\n",
              "      <td>6.028461</td>\n",
              "      <td>25.987372</td>\n",
              "      <td>-0.015961</td>\n",
              "      <td>7.867073</td>\n",
              "      <td>49.812196</td>\n",
              "      <td>-1.446036</td>\n",
              "      <td>837.361900</td>\n",
              "    </tr>\n",
              "  </tbody>\n",
              "</table>\n",
              "<p>13067 rows × 10 columns</p>\n",
              "</div>"
            ],
            "text/plain": [
              "        coeff_var  fractal_dimension  ...  AR1_mean  hjorth_activity\n",
              "8881  -653.237235           1.964181  ... -1.485804       276.280952\n",
              "6980    72.215513           1.991463  ... -1.121326       200.432253\n",
              "18773   51.080333           1.997740  ... -1.001231       159.776557\n",
              "7138     5.678293           1.990888  ... -1.117643        99.535873\n",
              "5543   -48.459438           1.983340  ... -1.238982        43.549299\n",
              "...           ...                ...  ...       ...              ...\n",
              "15244  -13.939699           1.992611  ... -0.894432       593.827624\n",
              "20120    4.421657           1.997740  ... -1.321971       422.836659\n",
              "22062   11.078321           1.985677  ... -1.195786       141.586162\n",
              "15084   19.496767           2.000000  ... -0.612740       936.732574\n",
              "23279  170.393472           1.964181  ... -1.446036       837.361900\n",
              "\n",
              "[13067 rows x 10 columns]"
            ]
          },
          "metadata": {
            "tags": []
          },
          "execution_count": 195
        }
      ]
    },
    {
      "cell_type": "code",
      "metadata": {
        "colab": {
          "base_uri": "https://localhost:8080/"
        },
        "id": "TLZXtUXWCRiJ",
        "outputId": "26bbe166-d4d5-4e4e-db6f-c34eddea84c1"
      },
      "source": [
        "run_model(new_X,y)"
      ],
      "execution_count": null,
      "outputs": [
        {
          "output_type": "stream",
          "text": [
            "(13067, 10) (13067,)\n"
          ],
          "name": "stdout"
        },
        {
          "output_type": "execute_result",
          "data": {
            "text/plain": [
              "0.605147229306747"
            ]
          },
          "metadata": {
            "tags": []
          },
          "execution_count": 196
        }
      ]
    },
    {
      "cell_type": "markdown",
      "metadata": {
        "id": "iHSf9pWZDDie"
      },
      "source": [
        "# 5.Feature Importances"
      ]
    },
    {
      "cell_type": "code",
      "metadata": {
        "id": "9SBJMHeRDhHf"
      },
      "source": [
        "model = RandomForestClassifier()"
      ],
      "execution_count": null,
      "outputs": []
    },
    {
      "cell_type": "code",
      "metadata": {
        "colab": {
          "base_uri": "https://localhost:8080/"
        },
        "id": "0SmszbhhDrS1",
        "outputId": "f7c578ed-0cca-43fb-983d-b5d9b59a3979"
      },
      "source": [
        "model.fit(X, y)"
      ],
      "execution_count": null,
      "outputs": [
        {
          "output_type": "execute_result",
          "data": {
            "text/plain": [
              "RandomForestClassifier(bootstrap=True, ccp_alpha=0.0, class_weight=None,\n",
              "                       criterion='gini', max_depth=None, max_features='auto',\n",
              "                       max_leaf_nodes=None, max_samples=None,\n",
              "                       min_impurity_decrease=0.0, min_impurity_split=None,\n",
              "                       min_samples_leaf=1, min_samples_split=2,\n",
              "                       min_weight_fraction_leaf=0.0, n_estimators=100,\n",
              "                       n_jobs=None, oob_score=False, random_state=None,\n",
              "                       verbose=0, warm_start=False)"
            ]
          },
          "metadata": {
            "tags": []
          },
          "execution_count": 198
        }
      ]
    },
    {
      "cell_type": "code",
      "metadata": {
        "colab": {
          "base_uri": "https://localhost:8080/"
        },
        "id": "Afo6lLLuDuHZ",
        "outputId": "5a7aecbb-f978-4316-b4b5-74dfb462690d"
      },
      "source": [
        "importance = model.feature_importances_\r\n",
        "importance"
      ],
      "execution_count": null,
      "outputs": [
        {
          "output_type": "execute_result",
          "data": {
            "text/plain": [
              "array([0.02161142, 0.02114718, 0.02331673, 0.02032807, 0.02046318,\n",
              "       0.02380236, 0.01875688, 0.01970721, 0.01773187, 0.02123473,\n",
              "       0.02384034, 0.02293024, 0.02307355, 0.02219219, 0.02227672,\n",
              "       0.02326873, 0.0224629 , 0.01499219, 0.01689148, 0.0194063 ,\n",
              "       0.01934999, 0.01723505, 0.0190162 , 0.02150717, 0.02031917,\n",
              "       0.02049986, 0.02021597, 0.02132534, 0.        , 0.02727975,\n",
              "       0.0256286 , 0.01546887, 0.01932593, 0.01609091, 0.01401746,\n",
              "       0.01900071, 0.01602851, 0.        , 0.0221865 , 0.02115094,\n",
              "       0.01805161, 0.02110921, 0.01895437, 0.01742516, 0.02068776,\n",
              "       0.01920461, 0.01808754, 0.02171138, 0.01912538, 0.01423502,\n",
              "       0.0190636 , 0.01726315])"
            ]
          },
          "metadata": {
            "tags": []
          },
          "execution_count": 199
        }
      ]
    },
    {
      "cell_type": "code",
      "metadata": {
        "id": "nBYj-kcSEcPI"
      },
      "source": [
        "important_features_dict = {}"
      ],
      "execution_count": null,
      "outputs": []
    },
    {
      "cell_type": "code",
      "metadata": {
        "id": "ZUp49NuUDxTW"
      },
      "source": [
        "for x,i in enumerate(importance):\r\n",
        "\timportant_features_dict[x]=i\r\n",
        "#important_features_dict"
      ],
      "execution_count": null,
      "outputs": []
    },
    {
      "cell_type": "code",
      "metadata": {
        "id": "f-2R5v9UD1ff"
      },
      "source": [
        "important_features_list = sorted(important_features_dict,\r\n",
        "                                 key=important_features_dict.get,\r\n",
        "                                 reverse=True)\r\n",
        "ind = important_features_list[0:10]\r\n",
        "features = X.columns[ind]"
      ],
      "execution_count": null,
      "outputs": []
    },
    {
      "cell_type": "code",
      "metadata": {
        "colab": {
          "base_uri": "https://localhost:8080/",
          "height": 195
        },
        "id": "-xHp3iS2ExFM",
        "outputId": "d8791c0a-955f-41ff-e68e-6390095865a0"
      },
      "source": [
        "new_X = select_columns(X,features)\r\n",
        "new_X.head()"
      ],
      "execution_count": null,
      "outputs": [
        {
          "output_type": "execute_result",
          "data": {
            "text/html": [
              "<div>\n",
              "<style scoped>\n",
              "    .dataframe tbody tr th:only-of-type {\n",
              "        vertical-align: middle;\n",
              "    }\n",
              "\n",
              "    .dataframe tbody tr th {\n",
              "        vertical-align: top;\n",
              "    }\n",
              "\n",
              "    .dataframe thead th {\n",
              "        text-align: right;\n",
              "    }\n",
              "</style>\n",
              "<table border=\"1\" class=\"dataframe\">\n",
              "  <thead>\n",
              "    <tr style=\"text-align: right;\">\n",
              "      <th></th>\n",
              "      <th>cA_mean_min</th>\n",
              "      <th>cA_mean_max</th>\n",
              "      <th>AR1_max</th>\n",
              "      <th>skewness</th>\n",
              "      <th>kurtosis</th>\n",
              "      <th>AR3_min</th>\n",
              "      <th>AR2_min</th>\n",
              "      <th>AR2_mean</th>\n",
              "      <th>AR3_max</th>\n",
              "      <th>AR3_mean</th>\n",
              "    </tr>\n",
              "  </thead>\n",
              "  <tbody>\n",
              "    <tr>\n",
              "      <th>8881</th>\n",
              "      <td>-0.338424</td>\n",
              "      <td>0.281975</td>\n",
              "      <td>-1.117763</td>\n",
              "      <td>-0.015652</td>\n",
              "      <td>2.400335</td>\n",
              "      <td>-0.346590</td>\n",
              "      <td>0.643257</td>\n",
              "      <td>0.867705</td>\n",
              "      <td>-0.067859</td>\n",
              "      <td>-0.219140</td>\n",
              "    </tr>\n",
              "    <tr>\n",
              "      <th>6980</th>\n",
              "      <td>-0.374439</td>\n",
              "      <td>1.168590</td>\n",
              "      <td>-0.942250</td>\n",
              "      <td>-0.026670</td>\n",
              "      <td>0.146082</td>\n",
              "      <td>-0.387382</td>\n",
              "      <td>0.667293</td>\n",
              "      <td>0.766844</td>\n",
              "      <td>-0.126595</td>\n",
              "      <td>-0.315433</td>\n",
              "    </tr>\n",
              "    <tr>\n",
              "      <th>18773</th>\n",
              "      <td>-0.209973</td>\n",
              "      <td>0.211900</td>\n",
              "      <td>-0.753450</td>\n",
              "      <td>-0.014417</td>\n",
              "      <td>1.930806</td>\n",
              "      <td>-0.568236</td>\n",
              "      <td>0.619927</td>\n",
              "      <td>0.702532</td>\n",
              "      <td>-0.255201</td>\n",
              "      <td>-0.422893</td>\n",
              "    </tr>\n",
              "    <tr>\n",
              "      <th>7138</th>\n",
              "      <td>-2.299335</td>\n",
              "      <td>1.270020</td>\n",
              "      <td>-0.967461</td>\n",
              "      <td>-0.010089</td>\n",
              "      <td>0.080560</td>\n",
              "      <td>-0.375927</td>\n",
              "      <td>0.578505</td>\n",
              "      <td>0.713220</td>\n",
              "      <td>-0.236398</td>\n",
              "      <td>-0.290859</td>\n",
              "    </tr>\n",
              "    <tr>\n",
              "      <th>5543</th>\n",
              "      <td>-0.561133</td>\n",
              "      <td>0.796584</td>\n",
              "      <td>-0.654078</td>\n",
              "      <td>-0.086859</td>\n",
              "      <td>0.216440</td>\n",
              "      <td>-0.396897</td>\n",
              "      <td>0.526439</td>\n",
              "      <td>0.838639</td>\n",
              "      <td>-0.228626</td>\n",
              "      <td>-0.320774</td>\n",
              "    </tr>\n",
              "  </tbody>\n",
              "</table>\n",
              "</div>"
            ],
            "text/plain": [
              "       cA_mean_min  cA_mean_max   AR1_max  ...  AR2_mean   AR3_max  AR3_mean\n",
              "8881     -0.338424     0.281975 -1.117763  ...  0.867705 -0.067859 -0.219140\n",
              "6980     -0.374439     1.168590 -0.942250  ...  0.766844 -0.126595 -0.315433\n",
              "18773    -0.209973     0.211900 -0.753450  ...  0.702532 -0.255201 -0.422893\n",
              "7138     -2.299335     1.270020 -0.967461  ...  0.713220 -0.236398 -0.290859\n",
              "5543     -0.561133     0.796584 -0.654078  ...  0.838639 -0.228626 -0.320774\n",
              "\n",
              "[5 rows x 10 columns]"
            ]
          },
          "metadata": {
            "tags": []
          },
          "execution_count": 203
        }
      ]
    },
    {
      "cell_type": "code",
      "metadata": {
        "colab": {
          "base_uri": "https://localhost:8080/"
        },
        "id": "1YnpP59TFpZi",
        "outputId": "7517c13b-7267-410e-9c66-51ae940fd2d8"
      },
      "source": [
        "run_model(new_X,y)"
      ],
      "execution_count": null,
      "outputs": [
        {
          "output_type": "stream",
          "text": [
            "(13067, 10) (13067,)\n"
          ],
          "name": "stdout"
        },
        {
          "output_type": "execute_result",
          "data": {
            "text/plain": [
              "0.6232320890331555"
            ]
          },
          "metadata": {
            "tags": []
          },
          "execution_count": 204
        }
      ]
    },
    {
      "cell_type": "markdown",
      "metadata": {
        "id": "Cg07i_McFuzn"
      },
      "source": [
        "# 6. Genetic Algorithm"
      ]
    },
    {
      "cell_type": "code",
      "metadata": {
        "colab": {
          "base_uri": "https://localhost:8080/"
        },
        "id": "GWvUE0bCHW3_",
        "outputId": "8d339b1a-7fc4-4c4f-d2ba-6f18c0b1aaa8"
      },
      "source": [
        "pip install sklearn-genetic\r\n"
      ],
      "execution_count": null,
      "outputs": [
        {
          "output_type": "stream",
          "text": [
            "Collecting sklearn-genetic\n",
            "  Downloading https://files.pythonhosted.org/packages/5a/ac/592b3477b836c337777d69396a9cd88643ebe6618f45c574891ab99014fa/sklearn_genetic-0.3.0-py2.py3-none-any.whl\n",
            "Collecting deap>=1.0.2\n",
            "\u001b[?25l  Downloading https://files.pythonhosted.org/packages/0a/eb/2bd0a32e3ce757fb26264765abbaedd6d4d3640d90219a513aeabd08ee2b/deap-1.3.1-cp36-cp36m-manylinux2010_x86_64.whl (157kB)\n",
            "\u001b[K     |████████████████████████████████| 163kB 6.1MB/s \n",
            "\u001b[?25hRequirement already satisfied: scikit-learn>=0.20.3 in /usr/local/lib/python3.6/dist-packages (from sklearn-genetic) (0.22.2.post1)\n",
            "Requirement already satisfied: numpy in /usr/local/lib/python3.6/dist-packages (from deap>=1.0.2->sklearn-genetic) (1.19.4)\n",
            "Requirement already satisfied: scipy>=0.17.0 in /usr/local/lib/python3.6/dist-packages (from scikit-learn>=0.20.3->sklearn-genetic) (1.4.1)\n",
            "Requirement already satisfied: joblib>=0.11 in /usr/local/lib/python3.6/dist-packages (from scikit-learn>=0.20.3->sklearn-genetic) (1.0.0)\n",
            "Installing collected packages: deap, sklearn-genetic\n",
            "Successfully installed deap-1.3.1 sklearn-genetic-0.3.0\n"
          ],
          "name": "stdout"
        }
      ]
    },
    {
      "cell_type": "code",
      "metadata": {
        "id": "B9slDKMkLGJN"
      },
      "source": [
        "from genetic_selection import GeneticSelectionCV"
      ],
      "execution_count": null,
      "outputs": []
    },
    {
      "cell_type": "code",
      "metadata": {
        "id": "APU7VzF2LQBc"
      },
      "source": [
        "estimator = RandomForestClassifier()"
      ],
      "execution_count": null,
      "outputs": []
    },
    {
      "cell_type": "code",
      "metadata": {
        "colab": {
          "background_save": true,
          "base_uri": "https://localhost:8080/"
        },
        "id": "S4myYan3Kzsx",
        "outputId": "91ac2b96-c0fa-4386-adf2-c4f3ad0bfe5f"
      },
      "source": [
        "selector = GeneticSelectionCV(estimator,\r\n",
        "                                  cv=5,\r\n",
        "                                  verbose=1,\r\n",
        "                                  scoring=\"accuracy\",\r\n",
        "                                  max_features=20,\r\n",
        "                                  n_population=50,\r\n",
        "                                  crossover_proba=0.5,\r\n",
        "                                  mutation_proba=0.2,\r\n",
        "                                  n_generations=40,\r\n",
        "                                  crossover_independent_proba=0.5,\r\n",
        "                                  mutation_independent_proba=0.05,\r\n",
        "                                  tournament_size=3,\r\n",
        "                                  n_gen_no_change=10,\r\n",
        "                                  caching=True,\r\n",
        "                                  n_jobs=-1)\r\n",
        "selector = selector.fit(X, y)\r\n"
      ],
      "execution_count": null,
      "outputs": [
        {
          "output_type": "stream",
          "text": [
            "Selecting features with genetic algorithm.\n",
            "gen\tnevals\tavg                      \tstd                    \tmin                    \tmax                      \n",
            "0  \t50    \t[ 0.60329028 11.28      ]\t[0.0333776  6.55756052]\t[0.52345652 1.        ]\t[ 0.63863137 20.        ]\n",
            "1  \t21    \t[-1199.44864189    16.38      ]\t[3249.81896434    4.11771781]\t[-1.e+04  7.e+00]      \t[ 0.64199771 22.        ]\n",
            "2  \t32    \t[-999.43022316   17.98      ]  \t[3.00018993e+03 2.49391259e+00]\t[-10000.     11.]      \t[ 0.6518701 22.       ]  \n",
            "3  \t37    \t[-1599.46503911    18.16      ]\t[3.66629403e+03 2.67850705e+00]\t[-10000.     13.]      \t[ 0.65271257 24.        ]\n",
            "4  \t37    \t[-1399.44911492    17.8       ]\t[3.47009258e+03 2.34093998e+00]\t[-10000.     14.]      \t[ 0.65301824 24.        ]\n",
            "5  \t33    \t[-799.40755693   17.64      ]  \t[2.71310670e+03 1.93659495e+00]\t[-10000.     14.]      \t[ 0.65669147 22.        ]\n",
            "6  \t31    \t[-399.37833999   17.58      ]  \t[1.95971869e+03 1.90882163e+00]\t[-10000.     12.]      \t[ 0.6568449 21.       ]  \n",
            "7  \t28    \t[-599.38918402   17.72      ]  \t[2.37502274e+03 1.86590461e+00]\t[-10000.     13.]      \t[ 0.65669147 21.        ]\n",
            "8  \t28    \t[-399.37397468   18.28      ]  \t[1.95971958e+03 1.61294761e+00]\t[-10000.     15.]      \t[ 0.65669147 22.        ]\n",
            "9  \t29    \t[-1399.43822506    18.78      ]\t[3.47009698e+03 1.67678263e+00]\t[-10000.     14.]      \t[ 0.65845143 22.        ]\n",
            "10 \t25    \t[-999.41154415   18.48      ]  \t[3.00019615e+03 1.71160743e+00]\t[-10000.     14.]      \t[ 0.65845143 22.        ]\n",
            "11 \t27    \t[-799.39747823   17.92      ]  \t[2.71310967e+03 2.18942915e+00]\t[-10000.     12.]      \t[ 0.65845143 22.        ]\n",
            "12 \t35    \t[-399.37092127   17.02      ]  \t[1959.72020439    2.1117765 ]  \t[-10000.     13.]      \t[ 0.66151258 22.        ]\n",
            "13 \t26    \t[ 0.65636122 17.34      ]      \t[0.00363411 1.89325117]        \t[ 0.64329852 14.        ]\t[ 0.66151258 20.        ]\n",
            "14 \t32    \t[-799.39558171   18.06      ]  \t[2.71311023e+03 1.88053184e+00]\t[-10000.     14.]        \t[ 0.66204938 22.        ]\n",
            "15 \t35    \t[-399.36925914   18.62      ]  \t[1.95972054e+03 1.66000000e+00]\t[-10000.     15.]        \t[ 0.66419152 23.        ]\n",
            "16 \t30    \t[-999.40749426   18.56      ]  \t[3.00019750e+03 1.68712774e+00]\t[-10000.     15.]        \t[ 0.66419152 22.        ]\n",
            "17 \t30    \t[-1199.42122662    18.32      ]\t[3.24982909e+03 1.92291445e+00]\t[-10000.     15.]        \t[ 0.66419152 24.        ]\n",
            "18 \t36    \t[-599.38161235   17.74      ]  \t[2.37502465e+03 1.85267374e+00]\t[-10000.     14.]        \t[ 0.66419152 21.        ]\n",
            "19 \t29    \t[-399.36781581   17.6       ]  \t[1959.72083829    1.96977156]  \t[-10000.     14.]        \t[ 0.6644978 22.       ]  \n",
            "20 \t32    \t[ 0.6588729 16.92     ]        \t[0.00367734 1.7645396 ]        \t[ 0.64613057 13.        ]\t[ 0.66419152 20.        ]\n",
            "21 \t25    \t[-199.35323404   17.12      ]  \t[1400.09239514    1.73942519]  \t[-10000.     15.]        \t[ 0.66419152 21.        ]\n",
            "22 \t31    \t[-799.39341925   17.94      ]  \t[2.71311086e+03 1.85913959e+00]\t[-10000.     15.]        \t[ 0.66419152 22.        ]\n",
            "23 \t38    \t[-399.36777003   17.82      ]  \t[1.95972085e+03 1.54518607e+00]\t[-10000.     15.]        \t[ 0.66419152 22.        ]\n",
            "24 \t33    \t[-599.38039722   17.62      ]  \t[2.37502496e+03 1.63572614e+00]\t[-10000.     16.]        \t[ 0.66419152 23.        ]\n",
            "25 \t33    \t[ 0.65914506 16.78      ]      \t[0.00385518 0.92282176]        \t[ 0.64268725 16.        ]\t[ 0.66419152 19.        ]\n",
            "26 \t28    \t[ 0.65859563 16.66      ]      \t[0.00350096 0.90796476]        \t[ 0.65095229 14.        ]\t[ 0.66419152 19.        ]\n",
            "27 \t26    \t[ 0.65995782 16.86      ]      \t[0.00320249 1.09562767]        \t[ 0.65141144 15.        ]\t[ 0.66419152 20.        ]\n",
            "28 \t36    \t[-599.37984159   17.04      ]  \t[2.37502510e+03 1.41364776e+00]\t[-10000.     15.]        \t[ 0.66419152 21.        ]\n",
            "29 \t33    \t[ 0.66018287 16.64      ]      \t[0.00316538 0.91126286]        \t[ 0.65301797 15.        ]\t[ 0.6646512 20.       ]  \n",
            "30 \t32    \t[-199.35255308   16.7       ]  \t[1.40009249e+03 1.17046999e+00]\t[-10000.     15.]        \t[ 0.6646512 21.       ]  \n",
            "31 \t34    \t[-199.35351593   16.5       ]  \t[1.40009235e+03 1.04403065e+00]\t[-10000.     14.]        \t[ 0.6646512 21.       ]  \n",
            "32 \t37    \t[ 0.65928133 16.48      ]      \t[0.00329144 0.85416626]        \t[ 0.65347745 15.        ]\t[ 0.6646512 20.       ]  \n",
            "33 \t32    \t[ 0.65886811 16.68      ]      \t[0.00350016 1.10344914]        \t[ 0.64926919 15.        ]\t[ 0.6646512 20.       ]  \n",
            "34 \t33    \t[-199.35421678   16.66      ]  \t[1.40009225e+03 1.05090437e+00]\t[-10000.     15.]        \t[ 0.6646512 21.       ]  \n",
            "35 \t35    \t[ 0.65792365 16.54      ]      \t[0.00322674 0.78      ]        \t[ 0.64574874 15.        ]\t[ 0.66419152 19.        ]\n",
            "36 \t34    \t[ 0.65814098 16.42      ]      \t[0.00340813 0.9610411 ]        \t[ 0.64965131 15.        ]\t[ 0.66419152 20.        ]\n",
            "37 \t33    \t[-199.35466993   16.86      ]  \t[1.40009219e+03 1.20016666e+00]\t[-10000.     15.]        \t[ 0.66419152 21.        ]\n",
            "38 \t31    \t[ 0.65945731 16.48      ]      \t[0.00331188 0.96415766]        \t[ 0.64636001 13.        ]\t[ 0.66419152 19.        ]\n",
            "39 \t26    \t[ 0.6603114 16.58     ]        \t[0.00273453 0.85064681]        \t[ 0.6530178 15.       ]  \t[ 0.66419152 19.        ]\n"
          ],
          "name": "stdout"
        }
      ]
    },
    {
      "cell_type": "code",
      "metadata": {
        "colab": {
          "base_uri": "https://localhost:8080/"
        },
        "id": "ci3dUMVMRDxN",
        "outputId": "cf191da7-bcde-4d9b-c18f-d89924af25ed"
      },
      "source": [
        "selected_feat = X.columns[(selector.get_support())]\r\n",
        "selected_feat"
      ],
      "execution_count": null,
      "outputs": [
        {
          "output_type": "execute_result",
          "data": {
            "text/plain": [
              "Index(['cA_std_max', 'cD_std_mean', 'Entropy_D_min', 'Entropy_D_max',\n",
              "       'Entropy_A_min'],\n",
              "      dtype='object')"
            ]
          },
          "metadata": {
            "tags": []
          },
          "execution_count": 211
        }
      ]
    },
    {
      "cell_type": "code",
      "metadata": {
        "colab": {
          "base_uri": "https://localhost:8080/",
          "height": 195
        },
        "id": "CdlLeDAPROHS",
        "outputId": "f4cb934c-5ba6-4771-8538-0198bf3ea9ec"
      },
      "source": [
        "new_X = select_columns(X,selected_feat)\r\n",
        "new_X.head()"
      ],
      "execution_count": null,
      "outputs": [
        {
          "output_type": "execute_result",
          "data": {
            "text/html": [
              "<div>\n",
              "<style scoped>\n",
              "    .dataframe tbody tr th:only-of-type {\n",
              "        vertical-align: middle;\n",
              "    }\n",
              "\n",
              "    .dataframe tbody tr th {\n",
              "        vertical-align: top;\n",
              "    }\n",
              "\n",
              "    .dataframe thead th {\n",
              "        text-align: right;\n",
              "    }\n",
              "</style>\n",
              "<table border=\"1\" class=\"dataframe\">\n",
              "  <thead>\n",
              "    <tr style=\"text-align: right;\">\n",
              "      <th></th>\n",
              "      <th>cA_std_max</th>\n",
              "      <th>cD_std_mean</th>\n",
              "      <th>Entropy_D_min</th>\n",
              "      <th>Entropy_D_max</th>\n",
              "      <th>Entropy_A_min</th>\n",
              "    </tr>\n",
              "  </thead>\n",
              "  <tbody>\n",
              "    <tr>\n",
              "      <th>8881</th>\n",
              "      <td>52.508775</td>\n",
              "      <td>3.072807</td>\n",
              "      <td>227.663816</td>\n",
              "      <td>3.930293e+04</td>\n",
              "      <td>11338.150744</td>\n",
              "    </tr>\n",
              "    <tr>\n",
              "      <th>6980</th>\n",
              "      <td>59.526683</td>\n",
              "      <td>5.774239</td>\n",
              "      <td>1814.660940</td>\n",
              "      <td>8.042087e+05</td>\n",
              "      <td>59010.240385</td>\n",
              "    </tr>\n",
              "    <tr>\n",
              "      <th>18773</th>\n",
              "      <td>56.401663</td>\n",
              "      <td>5.802550</td>\n",
              "      <td>1123.675372</td>\n",
              "      <td>1.151290e+06</td>\n",
              "      <td>18411.365526</td>\n",
              "    </tr>\n",
              "    <tr>\n",
              "      <th>7138</th>\n",
              "      <td>44.192757</td>\n",
              "      <td>3.981972</td>\n",
              "      <td>651.870449</td>\n",
              "      <td>3.040354e+05</td>\n",
              "      <td>16805.100603</td>\n",
              "    </tr>\n",
              "    <tr>\n",
              "      <th>5543</th>\n",
              "      <td>14.396807</td>\n",
              "      <td>2.876462</td>\n",
              "      <td>681.426587</td>\n",
              "      <td>8.086052e+04</td>\n",
              "      <td>26252.581305</td>\n",
              "    </tr>\n",
              "  </tbody>\n",
              "</table>\n",
              "</div>"
            ],
            "text/plain": [
              "       cA_std_max  cD_std_mean  Entropy_D_min  Entropy_D_max  Entropy_A_min\n",
              "8881    52.508775     3.072807     227.663816   3.930293e+04   11338.150744\n",
              "6980    59.526683     5.774239    1814.660940   8.042087e+05   59010.240385\n",
              "18773   56.401663     5.802550    1123.675372   1.151290e+06   18411.365526\n",
              "7138    44.192757     3.981972     651.870449   3.040354e+05   16805.100603\n",
              "5543    14.396807     2.876462     681.426587   8.086052e+04   26252.581305"
            ]
          },
          "metadata": {
            "tags": []
          },
          "execution_count": 212
        }
      ]
    },
    {
      "cell_type": "code",
      "metadata": {
        "colab": {
          "base_uri": "https://localhost:8080/"
        },
        "id": "ZE6NjmjHRU-h",
        "outputId": "a77a23e0-1810-4690-b24e-85a3eab5e221"
      },
      "source": [
        "run_model(X,y)"
      ],
      "execution_count": null,
      "outputs": [
        {
          "output_type": "stream",
          "text": [
            "(13067, 52) (13067,)\n"
          ],
          "name": "stdout"
        },
        {
          "output_type": "execute_result",
          "data": {
            "text/plain": [
              "0.651750521678646"
            ]
          },
          "metadata": {
            "tags": []
          },
          "execution_count": 213
        }
      ]
    },
    {
      "cell_type": "code",
      "metadata": {
        "colab": {
          "base_uri": "https://localhost:8080/"
        },
        "id": "XnFqze6zRYA0",
        "outputId": "362d8174-2f5e-4375-b42a-20ca3ee80f50"
      },
      "source": [
        "run_model(new_X,y)  "
      ],
      "execution_count": null,
      "outputs": [
        {
          "output_type": "stream",
          "text": [
            "(13067, 5) (13067,)\n"
          ],
          "name": "stdout"
        },
        {
          "output_type": "execute_result",
          "data": {
            "text/plain": [
              "0.6042198006028286"
            ]
          },
          "metadata": {
            "tags": []
          },
          "execution_count": 214
        }
      ]
    },
    {
      "cell_type": "code",
      "metadata": {
        "id": "AoEW_gzs4ZE6"
      },
      "source": [
        ""
      ],
      "execution_count": null,
      "outputs": []
    }
  ]
}